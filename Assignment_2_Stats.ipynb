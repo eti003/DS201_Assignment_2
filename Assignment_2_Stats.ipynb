{
  "nbformat": 4,
  "nbformat_minor": 0,
  "metadata": {
    "colab": {
      "provenance": []
    },
    "kernelspec": {
      "name": "python3",
      "display_name": "Python 3"
    },
    "language_info": {
      "name": "python"
    },
    "gpuClass": "standard"
  },
  "cells": [
    {
      "cell_type": "markdown",
      "source": [
        "ASSIGNMENT 2 \n"
      ],
      "metadata": {
        "id": "1N1wYyabmtah"
      }
    },
    {
      "cell_type": "code",
      "source": [
        "import matplotlib.pyplot as plt\n",
        "import pandas as pd\n",
        "import numpy as np\n",
        "import seaborn as sns"
      ],
      "metadata": {
        "id": "WcLBiPfAnMGb"
      },
      "execution_count": null,
      "outputs": []
    },
    {
      "cell_type": "markdown",
      "source": [
        "Q.9: For the diabetes dataset"
      ],
      "metadata": {
        "id": "FhgCPveXm0YE"
      }
    },
    {
      "cell_type": "code",
      "source": [
        "df=pd.read_csv(\"/content/diabetes_data_upload.csv\")\n",
        "df.sample(5)"
      ],
      "metadata": {
        "id": "ZMumaqkcoDxA"
      },
      "execution_count": null,
      "outputs": []
    },
    {
      "cell_type": "markdown",
      "source": [
        "a) Visualise the age of patients using histogram and tell how many patients are of the age 40?"
      ],
      "metadata": {
        "id": "9Ausc5PFnA9A"
      }
    },
    {
      "cell_type": "code",
      "execution_count": null,
      "metadata": {
        "colab": {
          "base_uri": "https://localhost:8080/",
          "height": 339
        },
        "id": "S9WIZaBmmrcw",
        "outputId": "f675b4f9-e74e-4cd7-c8bc-038f5df5be34"
      },
      "outputs": [
        {
          "output_type": "stream",
          "name": "stdout",
          "text": [
            "24\n"
          ]
        },
        {
          "output_type": "execute_result",
          "data": {
            "text/plain": [
              "(array([  1.,  44.,  83., 103.,  91., 118.,  46.,  29.,   1.,   4.]),\n",
              " array([16. , 23.4, 30.8, 38.2, 45.6, 53. , 60.4, 67.8, 75.2, 82.6, 90. ]),\n",
              " <a list of 10 Patch objects>)"
            ]
          },
          "metadata": {},
          "execution_count": 13
        },
        {
          "output_type": "display_data",
          "data": {
            "text/plain": [
              "<Figure size 432x288 with 1 Axes>"
            ],
            "image/png": "[encoded data removed]"
          },
          "metadata": {
            "needs_background": "light"
          }
        }
      ],
      "source": [
        "Age=df['Age']\n",
        "c=0\n",
        "for i in Age:\n",
        "  if i==40:\n",
        "    c=c+1\n",
        "print(c)\n",
        "plt.hist(Age)"
      ]
    },
    {
      "cell_type": "markdown",
      "source": [
        "b) What percentage of male patients are above 50 years old?"
      ],
      "metadata": {
        "id": "xKsL_OKulBGs"
      }
    },
    {
      "cell_type": "code",
      "source": [
        "gender=df['Gender']\n",
        "tot=len(gender)\n",
        "count=0\n",
        "for i in range(len(gender)):\n",
        "  if gender[i]==\"Male\" and Age[i]>50:\n",
        "    count+=1\n",
        "print((count/tot)*100)"
      ],
      "metadata": {
        "id": "DVZNjntXpT4R",
        "colab": {
          "base_uri": "https://localhost:8080/"
        },
        "outputId": "add605bb-f187-4ea6-cdd8-28aa34442b85"
      },
      "execution_count": null,
      "outputs": [
        {
          "output_type": "stream",
          "name": "stdout",
          "text": [
            "27.692307692307693\n"
          ]
        }
      ]
    },
    {
      "cell_type": "markdown",
      "source": [
        "c). Visualise the number of patient experiencing muscle stiffness based on gender with help of Countplot."
      ],
      "metadata": {
        "id": "CvwHLuF5lhJV"
      }
    },
    {
      "cell_type": "code",
      "source": [
        "import seaborn as sns\n",
        "muscle_stiffness=df['muscle stiffness']\n",
        "sns.countplot(x =gender, hue = muscle_stiffness, data = df)\n",
        "plt.show()"
      ],
      "metadata": {
        "colab": {
          "base_uri": "https://localhost:8080/",
          "height": 279
        },
        "id": "s5xhkv3lqSxp",
        "outputId": "30e340fe-5c1c-457d-941b-3b83ebde2939"
      },
      "execution_count": null,
      "outputs": [
        {
          "output_type": "display_data",
          "data": {
            "text/plain": [
              "<Figure size 432x288 with 1 Axes>"
            ],
            "image/png": "[encoded data removed]"
          },
          "metadata": {
            "needs_background": "light"
          }
        }
      ]
    },
    {
      "cell_type": "markdown",
      "source": [
        "d)What percentage of people experienced sudden weight loss and were tested positive for diabetes?"
      ],
      "metadata": {
        "id": "UP81AOUGll_4"
      }
    },
    {
      "cell_type": "code",
      "source": [
        "sudden_weight_loss=df['sudden weight loss']\n",
        "Class=df['class']\n",
        "count=0\n",
        "for i in range(len(sudden_weight_loss)):\n",
        "  if Class[i]=='Positive' and sudden_weight_loss[i]=='Yes':\n",
        "    count=count+1\n",
        "print(count/tot*100)\n",
        "sns.countplot(x =Class, hue = sudden_weight_loss, data = df)\n",
        "plt.show()"
      ],
      "metadata": {
        "colab": {
          "base_uri": "https://localhost:8080/",
          "height": 297
        },
        "id": "R2VTepOisHwO",
        "outputId": "0afc01db-36ad-41f4-a51f-1e548ea62fd3"
      },
      "execution_count": null,
      "outputs": [
        {
          "output_type": "stream",
          "name": "stdout",
          "text": [
            "36.15384615384615\n"
          ]
        },
        {
          "output_type": "display_data",
          "data": {
            "text/plain": [
              "<Figure size 432x288 with 1 Axes>"
            ],
            "image/png": "[encoded data removed]"
          },
          "metadata": {
            "needs_background": "light"
          }
        }
      ]
    },
    {
      "cell_type": "markdown",
      "source": [
        "e)Who is having greater probability of testing positive, a male with visual blurring or a female with delay healing? Visualise the probability of both cases using bar chart."
      ],
      "metadata": {
        "id": "Kqpi-zEjlqBi"
      }
    },
    {
      "cell_type": "code",
      "source": [
        "e=df['visual blurring']\n",
        "f=df['delayed healing']\n",
        "vis=0\n",
        "delay=0\n",
        "tot=len(f)\n",
        "for i in range(len(e)):\n",
        "  if gender[i]=='Male' and e[i]=='Yes':\n",
        "    vis+=1\n",
        "  if gender[i]=='Female' and f[i]=='Yes':\n",
        "    delay+=1\n",
        "# print(vis, delay)\n",
        "x=[vis, delay]\n",
        "y=['visual delay', 'delay healing']\n",
        "print(vis/tot*100, delay/tot*100)\n",
        "plt.bar(y,x, width=0.5)\n",
        "\n",
        "print(\"Based on the data Male with visual blurring has more probability of diabetes\")"
      ],
      "metadata": {
        "colab": {
          "base_uri": "https://localhost:8080/",
          "height": 302
        },
        "id": "lWbGmTdivaoC",
        "outputId": "e0a2985c-b25c-4459-c3c8-0cd7bda2b2a3"
      },
      "execution_count": null,
      "outputs": [
        {
          "output_type": "stream",
          "name": "stdout",
          "text": [
            "23.26923076923077 19.423076923076923\n",
            "Based on the data Male with visual blurring has more probability of diabetes\n"
          ]
        },
        {
          "output_type": "display_data",
          "data": {
            "text/plain": [
              "<Figure size 432x288 with 1 Axes>"
            ],
            "image/png": "[encoded data removed]"
          },
          "metadata": {
            "needs_background": "light"
          }
        }
      ]
    },
    {
      "cell_type": "markdown",
      "source": [
        "f)Based on the data,which gender has greater probability of testing positive foe diabetes?"
      ],
      "metadata": {
        "id": "gMmdFTpYlstr"
      }
    },
    {
      "cell_type": "code",
      "source": [
        "l=[]\n",
        "m=[]\n",
        "for i in range(len(Class)):\n",
        "  if Class[i]=='Positive':\n",
        "    l.append(Class[i])\n",
        "    m.append(gender[i])\n",
        "sns.countplot(x =m, hue = l, data = df)\n",
        "# from the plot we can see that the probabiltity of diabetes is more in female"
      ],
      "metadata": {
        "colab": {
          "base_uri": "https://localhost:8080/",
          "height": 283
        },
        "id": "YQT2hTRJ1z6o",
        "outputId": "cf17f5c4-3bed-4f90-9557-df330536fb56"
      },
      "execution_count": null,
      "outputs": [
        {
          "output_type": "execute_result",
          "data": {
            "text/plain": [
              "<matplotlib.axes._subplots.AxesSubplot at 0x7f328ec365d0>"
            ]
          },
          "metadata": {},
          "execution_count": 25
        },
        {
          "output_type": "display_data",
          "data": {
            "text/plain": [
              "<Figure size 432x288 with 1 Axes>"
            ],
            "image/png": "[encoded data removed]"
          },
          "metadata": {
            "needs_background": "light"
          }
        }
      ]
    },
    {
      "cell_type": "markdown",
      "source": [
        "Q.11. For the heart-disease-uci data set?\n"
      ],
      "metadata": {
        "id": "I_cNSTBA-X_p"
      }
    },
    {
      "cell_type": "markdown",
      "source": [
        "age. The age of the patient.\n",
        "\n",
        "sex. The gender of the patient. (1 = male, 0 = female).\n",
        "\n",
        "cp. Type of chest pain. (1 = typical angina, 2 = atypical angina, 3 = non — anginal pain, 4 = asymptotic).\n",
        "\n",
        "trestbps. Resting blood pressure in mmHg.\n",
        "\n",
        "chol. Serum Cholestero in mg/dl.\n",
        "\n",
        "fbs. Fasting Blood Sugar. (1 = fasting blood sugar is more than 120mg/dl, 0 = otherwise).\n",
        "\n",
        "restecg. Resting ElectroCardioGraphic results (0 = normal, 1 = ST-T wave abnormality, 2 = left ventricular hyperthrophy).\n",
        "\n",
        "thalach. Max heart rate achieved\n",
        "\n",
        "exang. Exercise induced angina (1 = yes, 0 = no).\n",
        "\n",
        "oldpeak. ST depression induced by exercise relative to rest.\n",
        "\n",
        "slope. Peak exercise ST segment (1 = upsloping, 2 = flat, 3 = downsloping).\n",
        "\n",
        "ca. Number of major vessels (0–3) colored by flourosopy.\n",
        "\n",
        "thal. Thalassemia (3 = normal, 6 = fixed defect, 7 = reversible defect).\n",
        "\n",
        "num. Diagnosis of heart disease (0 = absence, 1, 2, 3, 4 = present)."
      ],
      "metadata": {
        "id": "1orkrMKQTyid"
      }
    },
    {
      "cell_type": "code",
      "source": [
        "import matplotlib.pyplot as plt\n",
        "import pandas as pd\n",
        "\n",
        "df = pd.read_csv('/content/heart.csv')\n",
        "df.head()"
      ],
      "metadata": {
        "colab": {
          "base_uri": "https://localhost:8080/",
          "height": 206
        },
        "id": "wII_tBVj3omg",
        "outputId": "1ba8f6b1-4bd1-42f2-a06d-b088ee4afb63"
      },
      "execution_count": null,
      "outputs": [
        {
          "output_type": "execute_result",
          "data": {
            "text/plain": [
              "   age  sex  cp  trestbps  chol  fbs  restecg  thalach  exang  oldpeak  slope  \\\n",
              "0   63    1   3       145   233    1        0      150      0      2.3      0   \n",
              "1   37    1   2       130   250    0        1      187      0      3.5      0   \n",
              "2   41    0   1       130   204    0        0      172      0      1.4      2   \n",
              "3   56    1   1       120   236    0        1      178      0      0.8      2   \n",
              "4   57    0   0       120   354    0        1      163      1      0.6      2   \n",
              "\n",
              "   ca  thal  target  \n",
              "0   0     1       1  \n",
              "1   0     2       1  \n",
              "2   0     2       1  \n",
              "3   0     2       1  \n",
              "4   0     2       1  "
            ],
            "text/html": [
              "\n",
              "  <div id=\"df-289821f2-a0c1-4b8f-a16f-469f08c94714\">\n",
              "    <div class=\"colab-df-container\">\n",
              "      <div>\n",
              "<style scoped>\n",
              "    .dataframe tbody tr th:only-of-type {\n",
              "        vertical-align: middle;\n",
              "    }\n",
              "\n",
              "    .dataframe tbody tr th {\n",
              "        vertical-align: top;\n",
              "    }\n",
              "\n",
              "    .dataframe thead th {\n",
              "        text-align: right;\n",
              "    }\n",
              "</style>\n",
              "<table border=\"1\" class=\"dataframe\">\n",
              "  <thead>\n",
              "    <tr style=\"text-align: right;\">\n",
              "      <th></th>\n",
              "      <th>age</th>\n",
              "      <th>sex</th>\n",
              "      <th>cp</th>\n",
              "      <th>trestbps</th>\n",
              "      <th>chol</th>\n",
              "      <th>fbs</th>\n",
              "      <th>restecg</th>\n",
              "      <th>thalach</th>\n",
              "      <th>exang</th>\n",
              "      <th>oldpeak</th>\n",
              "      <th>slope</th>\n",
              "      <th>ca</th>\n",
              "      <th>thal</th>\n",
              "      <th>target</th>\n",
              "    </tr>\n",
              "  </thead>\n",
              "  <tbody>\n",
              "    <tr>\n",
              "      <th>0</th>\n",
              "      <td>63</td>\n",
              "      <td>1</td>\n",
              "      <td>3</td>\n",
              "      <td>145</td>\n",
              "      <td>233</td>\n",
              "      <td>1</td>\n",
              "      <td>0</td>\n",
              "      <td>150</td>\n",
              "      <td>0</td>\n",
              "      <td>2.3</td>\n",
              "      <td>0</td>\n",
              "      <td>0</td>\n",
              "      <td>1</td>\n",
              "      <td>1</td>\n",
              "    </tr>\n",
              "    <tr>\n",
              "      <th>1</th>\n",
              "      <td>37</td>\n",
              "      <td>1</td>\n",
              "      <td>2</td>\n",
              "      <td>130</td>\n",
              "      <td>250</td>\n",
              "      <td>0</td>\n",
              "      <td>1</td>\n",
              "      <td>187</td>\n",
              "      <td>0</td>\n",
              "      <td>3.5</td>\n",
              "      <td>0</td>\n",
              "      <td>0</td>\n",
              "      <td>2</td>\n",
              "      <td>1</td>\n",
              "    </tr>\n",
              "    <tr>\n",
              "      <th>2</th>\n",
              "      <td>41</td>\n",
              "      <td>0</td>\n",
              "      <td>1</td>\n",
              "      <td>130</td>\n",
              "      <td>204</td>\n",
              "      <td>0</td>\n",
              "      <td>0</td>\n",
              "      <td>172</td>\n",
              "      <td>0</td>\n",
              "      <td>1.4</td>\n",
              "      <td>2</td>\n",
              "      <td>0</td>\n",
              "      <td>2</td>\n",
              "      <td>1</td>\n",
              "    </tr>\n",
              "    <tr>\n",
              "      <th>3</th>\n",
              "      <td>56</td>\n",
              "      <td>1</td>\n",
              "      <td>1</td>\n",
              "      <td>120</td>\n",
              "      <td>236</td>\n",
              "      <td>0</td>\n",
              "      <td>1</td>\n",
              "      <td>178</td>\n",
              "      <td>0</td>\n",
              "      <td>0.8</td>\n",
              "      <td>2</td>\n",
              "      <td>0</td>\n",
              "      <td>2</td>\n",
              "      <td>1</td>\n",
              "    </tr>\n",
              "    <tr>\n",
              "      <th>4</th>\n",
              "      <td>57</td>\n",
              "      <td>0</td>\n",
              "      <td>0</td>\n",
              "      <td>120</td>\n",
              "      <td>354</td>\n",
              "      <td>0</td>\n",
              "      <td>1</td>\n",
              "      <td>163</td>\n",
              "      <td>1</td>\n",
              "      <td>0.6</td>\n",
              "      <td>2</td>\n",
              "      <td>0</td>\n",
              "      <td>2</td>\n",
              "      <td>1</td>\n",
              "    </tr>\n",
              "  </tbody>\n",
              "</table>\n",
              "</div>\n",
              "      <button class=\"colab-df-convert\" onclick=\"convertToInteractive('df-289821f2-a0c1-4b8f-a16f-469f08c94714')\"\n",
              "              title=\"Convert this dataframe to an interactive table.\"\n",
              "              style=\"display:none;\">\n",
              "        \n",
              "  <svg xmlns=\"http://www.w3.org/2000/svg\" height=\"24px\"viewBox=\"0 0 24 24\"\n",
              "       width=\"24px\">\n",
              "    <path d=\"M0 0h24v24H0V0z\" fill=\"none\"/>\n",
              "    <path d=\"M18.56 5.44l.94 2.06.94-2.06 2.06-.94-2.06-.94-.94-2.06-.94 2.06-2.06.94zm-11 1L8.5 8.5l.94-2.06 2.06-.94-2.06-.94L8.5 2.5l-.94 2.06-2.06.94zm10 10l.94 2.06.94-2.06 2.06-.94-2.06-.94-.94-2.06-.94 2.06-2.06.94z\"/><path d=\"M17.41 7.96l-1.37-1.37c-.4-.4-.92-.59-1.43-.59-.52 0-1.04.2-1.43.59L10.3 9.45l-7.72 7.72c-.78.78-.78 2.05 0 2.83L4 21.41c.39.39.9.59 1.41.59.51 0 1.02-.2 1.41-.59l7.78-7.78 2.81-2.81c.8-.78.8-2.07 0-2.86zM5.41 20L4 18.59l7.72-7.72 1.47 1.35L5.41 20z\"/>\n",
              "  </svg>\n",
              "      </button>\n",
              "      \n",
              "  <style>\n",
              "    .colab-df-container {\n",
              "      display:flex;\n",
              "      flex-wrap:wrap;\n",
              "      gap: 12px;\n",
              "    }\n",
              "\n",
              "    .colab-df-convert {\n",
              "      background-color: #E8F0FE;\n",
              "      border: none;\n",
              "      border-radius: 50%;\n",
              "      cursor: pointer;\n",
              "      display: none;\n",
              "      fill: #1967D2;\n",
              "      height: 32px;\n",
              "      padding: 0 0 0 0;\n",
              "      width: 32px;\n",
              "    }\n",
              "\n",
              "    .colab-df-convert:hover {\n",
              "      background-color: #E2EBFA;\n",
              "      box-shadow: 0px 1px 2px rgba(60, 64, 67, 0.3), 0px 1px 3px 1px rgba(60, 64, 67, 0.15);\n",
              "      fill: #174EA6;\n",
              "    }\n",
              "\n",
              "    [theme=dark] .colab-df-convert {\n",
              "      background-color: #3B4455;\n",
              "      fill: #D2E3FC;\n",
              "    }\n",
              "\n",
              "    [theme=dark] .colab-df-convert:hover {\n",
              "      background-color: #434B5C;\n",
              "      box-shadow: 0px 1px 3px 1px rgba(0, 0, 0, 0.15);\n",
              "      filter: drop-shadow(0px 1px 2px rgba(0, 0, 0, 0.3));\n",
              "      fill: #FFFFFF;\n",
              "    }\n",
              "  </style>\n",
              "\n",
              "      <script>\n",
              "        const buttonEl =\n",
              "          document.querySelector('#df-289821f2-a0c1-4b8f-a16f-469f08c94714 button.colab-df-convert');\n",
              "        buttonEl.style.display =\n",
              "          google.colab.kernel.accessAllowed ? 'block' : 'none';\n",
              "\n",
              "        async function convertToInteractive(key) {\n",
              "          const element = document.querySelector('#df-289821f2-a0c1-4b8f-a16f-469f08c94714');\n",
              "          const dataTable =\n",
              "            await google.colab.kernel.invokeFunction('convertToInteractive',\n",
              "                                                     [key], {});\n",
              "          if (!dataTable) return;\n",
              "\n",
              "          const docLinkHtml = 'Like what you see? Visit the ' +\n",
              "            '<a target=\"_blank\" href=https://colab.research.google.com/notebooks/data_table.ipynb>data table notebook</a>'\n",
              "            + ' to learn more about interactive tables.';\n",
              "          element.innerHTML = '';\n",
              "          dataTable['output_type'] = 'display_data';\n",
              "          await google.colab.output.renderOutput(dataTable, element);\n",
              "          const docLink = document.createElement('div');\n",
              "          docLink.innerHTML = docLinkHtml;\n",
              "          element.appendChild(docLink);\n",
              "        }\n",
              "      </script>\n",
              "    </div>\n",
              "  </div>\n",
              "  "
            ]
          },
          "metadata": {},
          "execution_count": 27
        }
      ]
    },
    {
      "cell_type": "markdown",
      "source": [
        "1. Visualise the number of people of different age using a histogram and comment on what probability distribution the given data of age follows."
      ],
      "metadata": {
        "id": "F7zrMhNDAQ1K"
      }
    },
    {
      "cell_type": "code",
      "source": [
        "age=df['age']\n",
        "plt.hist(age)\n",
        "plt.show()\n",
        "\n",
        "\n",
        "import math\n",
        "from collections import Counter\n",
        "\n",
        "df['counter'] = df.trajectory.apply(lambda x: Counter(x[0]))\n",
        "df['top3'] = df.counter.apply(lambda x: x.most_common(3))\n",
        "def pfm(cntr):\n",
        "    s = sum(cntr.values())\n",
        "    for key in cntr:\n",
        "        cntr[key] /= s\n",
        "    return cntr.most_common(5)\n",
        "df['pfm_top5'] = df.counter.apply(pfm)\n",
        "df = df.drop('counter', 1)"
      ],
      "metadata": {
        "colab": {
          "base_uri": "https://localhost:8080/",
          "height": 283
        },
        "id": "PIs30cXg-yf7",
        "outputId": "d4b470b6-44dd-4cd5-fcbd-92757dfe5b3c"
      },
      "execution_count": null,
      "outputs": [
        {
          "output_type": "stream",
          "name": "stdout",
          "text": [
            "[4.27182942e-17 4.77249145e-08]\n"
          ]
        },
        {
          "output_type": "display_data",
          "data": {
            "text/plain": [
              "<Figure size 432x288 with 1 Axes>"
            ],
            "image/png": "[encoded data removed]"
          },
          "metadata": {
            "needs_background": "light"
          }
        }
      ]
    },
    {
      "cell_type": "markdown",
      "source": [
        "2) What is the probability that a patient, who older than 50 years, has chest pain of type 2?"
      ],
      "metadata": {
        "id": "Wrz_-Ht8oxyc"
      }
    },
    {
      "cell_type": "code",
      "source": [
        "import seaborn as sns\n",
        "ChestPain=df['cp']\n",
        "c=0\n",
        "for i in range(len(age)):\n",
        "  if age[i]>50 and (ChestPain[i]==2):\n",
        "    c=c+1\n",
        "print(c)\n",
        "print(c/len(age))"
      ],
      "metadata": {
        "colab": {
          "base_uri": "https://localhost:8080/"
        },
        "id": "dlmwCHai4JUS",
        "outputId": "9c3c5084-6526-4ab9-fa8b-f7a7337a4051"
      },
      "execution_count": null,
      "outputs": [
        {
          "output_type": "stream",
          "name": "stdout",
          "text": [
            "55\n",
            "0.18151815181518152\n"
          ]
        }
      ]
    },
    {
      "cell_type": "markdown",
      "source": [
        "3)What is the average serum cholesterol in mg/dl for a male patient?"
      ],
      "metadata": {
        "id": "3CrMhW2uCYzK"
      }
    },
    {
      "cell_type": "code",
      "source": [
        "serum_chol=df['chol']\n",
        "gender=df['sex']\n",
        "c=0\n",
        "d=0\n",
        "for i in range(len(age)):\n",
        "  if gender[i]==1:\n",
        "    c=c+serum_chol[i]\n",
        "    d=d+1\n",
        "print(c/d)\n"
      ],
      "metadata": {
        "colab": {
          "base_uri": "https://localhost:8080/"
        },
        "id": "zWPCT1SNplt0",
        "outputId": "222c9cd6-f5b6-4f79-8539-560a06ddc020"
      },
      "execution_count": null,
      "outputs": [
        {
          "output_type": "stream",
          "name": "stdout",
          "text": [
            "239.28985507246378\n"
          ]
        }
      ]
    },
    {
      "cell_type": "markdown",
      "source": [
        "4. What percentage of female patient have fasting blood sugar greater than 120 mg/dl?"
      ],
      "metadata": {
        "id": "fEr0HB9hCs4E"
      }
    },
    {
      "cell_type": "code",
      "source": [
        "fasting_blood_sugar=df['fbs']\n",
        "d=0\n",
        "c=0\n",
        "for i in range(len(age)):\n",
        "  if df['sex'][i]==0 and fasting_blood_sugar[i]==1:\n",
        "    d=d+1\n",
        "  if df['sex'][i]==0:\n",
        "    c=c+1\n",
        "print(d/c*100)"
      ],
      "metadata": {
        "id": "9lSpf7Vc4MDU",
        "colab": {
          "base_uri": "https://localhost:8080/"
        },
        "outputId": "d57f3c7c-74ec-4240-f194-1da7cc2f595c"
      },
      "execution_count": null,
      "outputs": [
        {
          "output_type": "stream",
          "name": "stdout",
          "text": [
            "12.5\n"
          ]
        }
      ]
    },
    {
      "cell_type": "markdown",
      "source": [
        "\n",
        "5. Visualise the maximum heart rate achieved by a patient who is having chest pain of type 1 using a box plot and explain your findings.\n"
      ],
      "metadata": {
        "id": "jzfq82gxGVhY"
      }
    },
    {
      "cell_type": "code",
      "source": [
        "l=[]\n",
        "max_heart_rate=df['thalach']\n",
        "for i in range (len(age)):\n",
        "  if ChestPain[i]==1:\n",
        "    l.append(max_heart_rate[i])\n",
        "y=l\n",
        "plt.boxplot(l)\n",
        "plt.show()\n",
        "max(l)\n",
        "\n",
        "## 202 and 103 are outliers. Mostly the max heart rate 163.5. 1st Qaurtile patients have max heart rate less than 155, \n",
        "# 2nd Quartile Qaurtile patients have max heart rate less than 163, \n",
        "# 3rd Quartile have max heart rate less than 155 and 4th Qaurtile patients have max heart rate more than 155 and than 195."
      ],
      "metadata": {
        "id": "AvG0hIaQ4P30",
        "colab": {
          "base_uri": "https://localhost:8080/",
          "height": 283
        },
        "outputId": "08f50dc2-d850-4255-81b4-21140669cd3d"
      },
      "execution_count": null,
      "outputs": [
        {
          "output_type": "display_data",
          "data": {
            "text/plain": [
              "<Figure size 432x288 with 1 Axes>"
            ],
            "image/png": "[encoded data removed]"
          },
          "metadata": {
            "needs_background": "light"
          }
        },
        {
          "output_type": "execute_result",
          "data": {
            "text/plain": [
              "202"
            ]
          },
          "metadata": {},
          "execution_count": 31
        }
      ]
    },
    {
      "cell_type": "markdown",
      "source": [
        "\n",
        "6. What is the average value of resting blood pressure for patients having age below 40 years."
      ],
      "metadata": {
        "id": "wSuQHXBkGXs3"
      }
    },
    {
      "cell_type": "code",
      "source": [
        "resting_blood_pressure=df['trestbps']\n",
        "c=0\n",
        "d=0\n",
        "for i in range(len(age)):\n",
        "  if age[i]<40:\n",
        "    c=c+resting_blood_pressure[i]\n",
        "    d=d+1\n",
        "print(c/d)"
      ],
      "metadata": {
        "id": "66qkbugR4Rmh",
        "colab": {
          "base_uri": "https://localhost:8080/"
        },
        "outputId": "15040e5b-93a0-4532-a067-59ccf38e5687"
      },
      "execution_count": null,
      "outputs": [
        {
          "output_type": "stream",
          "name": "stdout",
          "text": [
            "125.5\n"
          ]
        }
      ]
    },
    {
      "cell_type": "markdown",
      "source": [
        "Q1 "
      ],
      "metadata": {
        "id": "DTKMc82WI6OL"
      }
    },
    {
      "cell_type": "code",
      "source": [
        "import matplotlib.pyplot as plt\n",
        "import seaborn as sns\n",
        "import random\n",
        "import pandas as pd\n",
        "import numpy as np\n",
        "def flip_the_coin(n_simulations=1000):\n",
        "    head=0\n",
        "    for i in range(n_simulations):\n",
        "        x=random.random()\n",
        "        if(x<0.3):\n",
        "            face=1\n",
        "        else:\n",
        "            face=0\n",
        "        if(face==1):\n",
        "            head=head+1\n",
        "    return (head/n_simulations)\n",
        "k=flip_the_coin()\n",
        "Xavg1=(k)*10\n",
        "Xavg2=(k)*100\n",
        "Xavg3=(k)*1000\n",
        "EX1=10*0.3\n",
        "EX2=100*0.3\n",
        "EX3=1000*0.3\n",
        "print(\"Xavg1=\",Xavg1 , \"Xavg2=\",Xavg2 , \"Xavg3=\",Xavg3 , \"EX1=\",EX1 , \"EX2=\",EX2 , \"EX3=\",EX3)\n",
        "\n",
        "X = ['Mean1','Mean2','Mean3']\n",
        "ex=[EX1, EX2,EX3]\n",
        "y=[Xavg1,Xavg2,Xavg3]\n",
        "X_axis = np.arange(len(X))\n",
        "\n",
        "plt.bar(X_axis+0.2, ex, 0.4, label = 'Mean')  \n",
        "plt.bar(X_axis-0.2, y, 0.4, label = 'Average of X random-Variable')\n",
        "plt.xticks(X_axis, X)\n",
        "plt.xlabel(\"np and x's average\")\n",
        "plt.ylabel(\"value of mean\")\n",
        "plt.title(\"Camparison between binomial mean and average of all X\")\n",
        "plt.legend()\n",
        "plt.show()\n",
        "\n",
        "# from the plots we can observe that for every random simulation the value of average X is very close to np"
      ],
      "metadata": {
        "colab": {
          "base_uri": "https://localhost:8080/",
          "height": 312
        },
        "id": "91CD8QtQGtwV",
        "outputId": "ee0a17df-4835-4bc5-c1e4-65c8ac34e192"
      },
      "execution_count": null,
      "outputs": [
        {
          "output_type": "stream",
          "name": "stdout",
          "text": [
            "Xavg1= 2.9099999999999997 Xavg2= 29.099999999999998 Xavg3= 291.0 EX1= 3.0 EX2= 30.0 EX3= 300.0\n"
          ]
        },
        {
          "output_type": "display_data",
          "data": {
            "text/plain": [
              "<Figure size 432x288 with 1 Axes>"
            ],
            "image/png": "[encoded data removed]"
          },
          "metadata": {
            "needs_background": "light"
          }
        }
      ]
    },
    {
      "cell_type": "markdown",
      "source": [
        "Q3 Let X be N(0,1). And Y = e^X.\n"
      ],
      "metadata": {
        "id": "-ncz6pQeGKop"
      }
    },
    {
      "cell_type": "code",
      "source": [
        "import numpy as np\n",
        "import matplotlib.pyplot as plt  #Importing the required libraries\n",
        "from sympy import symbols, Eq, solve\n",
        "import scipy.integrate as integrate #Importing libraries required for integration\n",
        "import scipy.special as special\n",
        "\n"
      ],
      "metadata": {
        "id": "kPRT_CEiVGzU"
      },
      "execution_count": null,
      "outputs": []
    },
    {
      "cell_type": "markdown",
      "source": [
        "Part One"
      ],
      "metadata": {
        "id": "AAchrGt6Gm_C"
      }
    },
    {
      "cell_type": "code",
      "source": [
        "###### Q3 Part One. We need to plot the pdf of y=e^x where x is standard normal random variable. The required pdf is y = 0.\n",
        "xpoints = np.array([1, 0])\n",
        "ypoints = np.array([np.inf, 0])\n",
        "\n",
        "plt.plot(xpoints, ypoints)\n",
        "plt.show()\n"
      ],
      "metadata": {
        "colab": {
          "base_uri": "https://localhost:8080/",
          "height": 265
        },
        "id": "2osK6exjVSoI",
        "outputId": "e68b1e8b-04c5-4e2d-bda7-83b5d7bb5783"
      },
      "execution_count": null,
      "outputs": [
        {
          "output_type": "display_data",
          "data": {
            "text/plain": [
              "<Figure size 432x288 with 1 Axes>"
            ],
            "image/png": "[encoded data removed]"
          },
          "metadata": {
            "needs_background": "light"
          }
        }
      ]
    },
    {
      "cell_type": "markdown",
      "source": [
        "Part Two"
      ],
      "metadata": {
        "id": "fP6Aw8WCGp1-"
      }
    },
    {
      "cell_type": "code",
      "source": [
        "###### Q3 Part Two. To generate thousand standard normals under vector x. And generate thousand vectors under y such that yi = e^xi\n",
        "sample = np.random.normal(0,1,10000) #Generate thousand standard normals\n",
        "vector = np.array(sample)\n",
        "y = []\n",
        "for i in range(len(list(vector))):\n",
        "    y.append(np.exp(list(vector)[i]))\n",
        "vector_y = np.array(y)\n",
        "plt.hist(vector_y,bins='auto')\n",
        "plt.show()\n",
        "###### In the first part we get the pdf as y = 0. In the second part, histogram of y steeply descends from infinity to zero."
      ],
      "metadata": {
        "colab": {
          "base_uri": "https://localhost:8080/",
          "height": 265
        },
        "id": "5jQ9LUufVVAo",
        "outputId": "ae3387ac-1bef-4bc8-a1a8-e0afa1ab0b01"
      },
      "execution_count": null,
      "outputs": [
        {
          "output_type": "display_data",
          "data": {
            "text/plain": [
              "<Figure size 432x288 with 1 Axes>"
            ],
            "image/png": "[encoded data removed]"
          },
          "metadata": {
            "needs_background": "light"
          }
        }
      ]
    },
    {
      "cell_type": "markdown",
      "source": [
        "Q14. On the basis of adult-census-income dataset"
      ],
      "metadata": {
        "id": "jzjKvA5TGshz"
      }
    },
    {
      "cell_type": "code",
      "source": [
        "import numpy as np\n",
        "import pandas as pd\n",
        "import matplotlib.pyplot as plt"
      ],
      "metadata": {
        "id": "NJ0J2oGZXwDB"
      },
      "execution_count": 1,
      "outputs": []
    },
    {
      "cell_type": "code",
      "source": [
        "data = pd.read_csv('/content/adult_census_income (1).csv')"
      ],
      "metadata": {
        "id": "d3h1VN8sX0Hp"
      },
      "execution_count": 3,
      "outputs": []
    },
    {
      "cell_type": "markdown",
      "source": [
        "Part 1 Visualise age distribution using a histogram"
      ],
      "metadata": {
        "id": "WJyRt7Iy6fDP"
      }
    },
    {
      "cell_type": "code",
      "source": [
        "hist = data[\"age\"].hist()"
      ],
      "metadata": {
        "colab": {
          "base_uri": "https://localhost:8080/",
          "height": 268
        },
        "id": "3OJncoebY_Ia",
        "outputId": "420147b8-6813-4598-94c1-de9f6c196310"
      },
      "execution_count": null,
      "outputs": [
        {
          "output_type": "display_data",
          "data": {
            "text/plain": [
              "<Figure size 432x288 with 1 Axes>"
            ],
            "image/png": "[encoded data removed]"
          },
          "metadata": {
            "needs_background": "light"
          }
        }
      ]
    },
    {
      "cell_type": "markdown",
      "source": [
        "Part 2 Visualise education level of entire population using a pie chart."
      ],
      "metadata": {
        "id": "SVSCMr2SR1vz"
      }
    },
    {
      "cell_type": "code",
      "source": [
        "import seaborn\n",
        "a = list(data[\"education\"].unique())\n",
        "req_data = list(data[\"education\"])\n",
        "d = []\n",
        "for i in a:\n",
        "    s = req_data.count(i)\n",
        "    d.append(s)\n",
        "palette_color = seaborn.color_palette('bright')\n",
        "  \n",
        "# plotting data on chart\n",
        "plt.pie(d, labels=a, colors=palette_color, autopct='%.0f%%')\n",
        "  \n",
        "# displaying chart\n",
        "plt.show()"
      ],
      "metadata": {
        "id": "ggxhuZNAR02d",
        "outputId": "6e44211d-7447-45f4-a774-6d19118c4f90",
        "colab": {
          "base_uri": "https://localhost:8080/",
          "height": 248
        }
      },
      "execution_count": 4,
      "outputs": [
        {
          "output_type": "display_data",
          "data": {
            "text/plain": [
              "<Figure size 432x288 with 1 Axes>"
            ],
            "image/png": "[encoded data removed]"
          },
          "metadata": {}
        }
      ]
    },
    {
      "cell_type": "markdown",
      "source": [
        "Part 3 What percentage of people having Bachelors in education have never-married?\n"
      ],
      "metadata": {
        "id": "unqOXffJ7xB3"
      }
    },
    {
      "cell_type": "code",
      "source": [
        "s = data.groupby([\"marital.status\",\"education\"])\n",
        "s\n",
        "s.count()\n",
        "s.get_group((\"Never-married\",\"Bachelors\")).count()\n",
        "list(data[\"education\"]).count(\"Bachelors\")\n",
        "percent = (1795/5355)*100  #No of bachelors in education never married = 1795. No of bachelors in education = 5355\n",
        "print(percent)"
      ],
      "metadata": {
        "colab": {
          "base_uri": "https://localhost:8080/"
        },
        "id": "e8azBVe-X-JN",
        "outputId": "ea2c9b3c-ec38-467b-a37a-4f08aeb297a6"
      },
      "execution_count": null,
      "outputs": [
        {
          "output_type": "stream",
          "name": "stdout",
          "text": [
            "33.52007469654528\n"
          ]
        }
      ]
    },
    {
      "cell_type": "markdown",
      "source": [
        "Part 4 What percentage of males above 40 years of age work for more than 50 hours per week?"
      ],
      "metadata": {
        "id": "myc6IxUi73tZ"
      }
    },
    {
      "cell_type": "code",
      "source": [
        "d = data.groupby([\"hours.per.week\",\"sex\"])\n",
        "d.count()\n",
        "count = 0\n",
        "total = 0\n",
        "for i in range(len(list(data[\"hours.per.week\"]))):\n",
        "    if data[\"sex\"][i]==\"Male\":\n",
        "        if data[\"age\"][i]>40:\n",
        "            total += 1\n",
        "            if data[\"hours.per.week\"][i]>50:\n",
        "                count+=1\n",
        "        \n",
        "print(count)\n",
        "print(total)\n",
        "percent = (count/total)*100\n",
        "print(percent)"
      ],
      "metadata": {
        "colab": {
          "base_uri": "https://localhost:8080/"
        },
        "id": "7iZHNAVzYAdQ",
        "outputId": "e8177f57-54cc-4a2b-d845-a3f19c094d22"
      },
      "execution_count": null,
      "outputs": [
        {
          "output_type": "stream",
          "name": "stdout",
          "text": [
            "1163\n",
            "7444\n",
            "15.62332079527136\n"
          ]
        }
      ]
    },
    {
      "cell_type": "markdown",
      "source": [
        "Part 5 Visualise the incomes of males and females separately using a boxplot and explain your findings."
      ],
      "metadata": {
        "id": "QUFbH8FT77I5"
      }
    },
    {
      "cell_type": "code",
      "source": [
        "import pandas as pd\n",
        "import numpy as np\n",
        "from matplotlib import pyplot as plt\n",
        "import seaborn as sns\n",
        "import random\n",
        "\n",
        "gender=data['sex']\n",
        "m=[]\n",
        "n=[]\n",
        "for i in range(len(gender)):\n",
        "  if gender[i]=='Male':\n",
        "    if data['income'][i]=='>=50K':\n",
        "      a=random.randint(50,100)\n",
        "      m.append(a)\n",
        "      print(a)\n",
        "    if data['income'][i]=='<=50K':\n",
        "      b=random.randint(1,50)\n",
        "      m.append(b)\n",
        "    if data['income'][i]=='<50K':\n",
        "      m.append(random.randint(1,49))\n",
        "    if data['income'][i]=='>50K':\n",
        "      m.append(random.randint(51,100))\n",
        "  else:\n",
        "    if data['income'][i]=='>=50K':\n",
        "      a=random.randint(50,100)\n",
        "      n.append(a)\n",
        "      print(a)\n",
        "    if data['income'][i]=='<=50K':\n",
        "      b=random.randint(50,100)\n",
        "      n.append(b)\n",
        "    if data['income'][i]=='<50K':\n",
        "      n.append(random.randint(1,49))\n",
        "    if data['income'][i]=='>50K':\n",
        "      n.append(random.randint(51,100))\n",
        "# print(m)\n",
        "# print(n)\n",
        "dict1={\"Male\": m, \"Female\": n}\n",
        "labels, data_4 = [*zip(*dict1.items())]\n",
        "plt.boxplot(data_4)\n",
        "plt.xticks(range(1, len(labels) + 1), labels)\n",
        "plt.show()"
      ],
      "metadata": {
        "colab": {
          "base_uri": "https://localhost:8080/",
          "height": 350
        },
        "id": "7iljaF_Ucskv",
        "outputId": "d56a2f1b-84cc-4b5b-90ae-494324126825"
      },
      "execution_count": null,
      "outputs": [
        {
          "output_type": "stream",
          "name": "stdout",
          "text": [
            "[38, 70, 75, 67, 95, 70, 76, 97, 87, 79, 84, 3, 38, 33, 27, 7, 73, 52, 79, 85, 56, 95, 72, 55, 1, 40, 27, 23, 76, 98, 75, 51, 61, 100, 96, 76, 89, 52, 76, 83, 97, 85, 79, 69, 59, 58, 57, 62, 92, 100, 52, 87, 95, 80, 71, 58, 57, 51, 59, 57, 79, 63, 94, 98, 81, 69, 55, 100, 85, 51, 59, 68, 98, 87, 63, 59, 100, 56, 52, 72, 63, 51, 72, 81, 84, 99, 70, 93, 65, 97, 18, 62, 4, 60, 9, 5, 60, 97, 60, 88, 79, 86, 10, 42, 77, 12, 33, 64, 39, 22, 45, 15, 29, 26, 1, 14, 24, 50, 64, 42, 20, 26, 15, 21, 46, 90, 55, 3, 51, 98, 100, 10, 41, 22, 47, 71, 2, 90, 93, 69, 61, 69, 83, 66, 83, 55, 71, 16, 41, 46, 41, 35, 61, 8, 25, 39, 13, 27, 16, 46, 50, 43, 1, 25, 8, 31, 92, 71, 60, 99, 81, 51, 80, 18, 17, 33, 34, 50, 17, 14, 23, 10, 34, 44, 7, 11, 27, 44, 29, 20, 7, 24, 11, 20, 27, 42, 14, 44, 6, 25, 43, 36, 33, 45, 38, 27, 25, 20, 7, 35, 17, 37, 5, 38, 40, 8, 50, 36, 33, 43, 13, 24, 11, 12, 39, 41, 18, 44, 49, 32, 30, 31, 44, 16, 15, 37, 18, 21, 29, 42, 5, 10, 19, 44, 23, 16, 7, 5, 22, 37, 6, 34, 39, 31, 22, 7, 49, 27, 24, 50, 13, 43, 22, 39, 62, 73, 59, 90, 57, 73, 100, 59, 96, 75, 62, 81, 60, 94, 100, 73, 83, 60, 78, 95, 68, 76, 55, 84, 96, 79, 95, 74, 59, 62, 71, 68, 99, 94, 65, 69, 62, 89, 74, 85, 97, 88, 72, 56, 54, 66, 95, 89, 62, 81, 68, 61, 66, 84, 70, 81, 55, 69, 78, 60, 83, 80, 61, 93, 75, 61, 72, 95, 92, 78, 94, 82, 90, 87, 86, 85, 83, 89, 76, 55, 89, 73, 71, 75, 84, 62, 84, 83, 53, 96, 72, 85, 92, 73, 98, 96, 77, 91, 70, 80, 57, 61, 73, 56, 79, 94, 93, 65, 61, 95, 83, 89, 67, 57, 77, 77, 55, 70, 54, 86, 91, 51, 98, 59, 98, 64, 86, 83, 57, 78, 59, 89, 100, 78, 84, 86, 60, 84, 94, 61, 83, 61, 100, 59, 88, 55, 68, 74, 66, 19, 4, 15, 30, 12, 3, 41, 37, 44, 27, 59, 69, 96, 76, 100, 97, 55, 84, 99, 66, 94, 69, 93, 10, 58, 4, 64, 29, 97, 51, 100, 89, 63, 59, 91, 56, 60, 84, 91, 61, 83, 91, 84, 60, 54, 69, 81, 55, 98, 80, 71, 77, 83, 100, 60, 81, 88, 81, 94, 98, 83, 69, 90, 74, 53, 93, 76, 51, 52, 59, 100, 94, 54, 99, 63, 99, 78, 78, 72, 96, 75, 65, 54, 84, 98, 64, 93, 56, 69, 60, 64, 56, 98, 86, 97, 93, 81, 92, 57, 63, 55, 50, 82, 96, 62, 77, 61, 86, 63, 63, 85, 64, 99, 22, 31, 68, 86, 84, 91, 60, 55, 68, 80, 58, 63, 73, 59, 74, 85, 84, 77, 87, 93, 100, 75, 94, 25, 56, 53, 84, 86, 61, 24, 55, 64, 100, 77, 62, 88, 91, 84, 45, 65, 6, 78, 68, 100, 73, 73, 79, 88, 59, 80, 57, 83, 24, 100, 77, 89, 100, 69, 75, 54, 85, 48, 53, 53, 93, 55, 74, 74, 89, 71, 98, 56, 72, 73, 82, 96, 82, 96, 84, 53, 89, 62, 92, 92, 92, 94, 96, 84, 65, 85, 76, 66, 100, 93, 55, 79, 74, 72, 74, 61, 87, 51, 83, 92, 88, 72, 79, 59, 59, 89, 82, 67, 69, 73, 85, 58, 56, 72, 95, 55, 77, 86, 63, 59, 85, 79, 69, 67, 86, 88, 66, 65, 99, 57, 61, 84, 75, 91, 85, 80, 60, 79, 51, 52, 57, 94, 78, 100, 69, 80, 93, 83, 61, 69, 59, 71, 75, 93, 82, 68, 94, 54, 82, 68, 100, 84, 76, 54, 67, 89, 81, 97, 89, 83, 53, 89, 52, 62, 85, 95, 54, 97, 51, 95, 53, 54, 67, 67, 54, 92, 96, 74, 78, 94, 54, 87, 77, 55, 97, 51, 90, 85, 99, 78, 72, 82, 87, 89, 99, 65, 84, 88, 100, 70, 91, 92, 78, 59, 82, 49, 35, 17, 31, 5, 38, 46, 17, 46, 2, 39, 27, 48, 3, 20, 30, 36, 44, 26, 31, 35, 7, 26, 40, 7, 44, 29, 95, 84, 65, 59, 94, 54, 55, 84, 97, 58, 86, 67, 91, 98, 86, 51, 97, 54, 70, 66, 75, 53, 86, 78, 69, 78, 94, 99, 81, 52, 96, 94, 72, 76, 79, 55, 59, 82, 77, 64, 75, 57, 59, 100, 63, 95, 81, 97, 48, 82, 66, 91, 57, 36, 31, 18, 1, 42, 45, 56, 48, 27, 38, 41, 38, 21, 34, 33, 38, 7, 36, 22, 34, 27, 23, 8, 36, 46, 5, 50, 41, 44, 48, 31, 14, 23, 28, 27, 42, 4, 5, 25, 24, 18, 19, 18, 6, 30, 23, 14, 32, 45, 5, 43, 5, 41, 16, 8, 38, 45, 25, 49, 2, 7, 19, 46, 34, 19, 44, 2, 46, 36, 9, 15, 17, 27, 20, 50, 41, 7, 47, 28, 13, 34, 14, 8, 27, 24, 26, 49, 9, 11, 43, 43, 50, 8, 31, 19, 7, 4, 27, 40, 33, 27, 4, 19, 4, 15, 32, 34, 33, 47, 46, 50, 10, 37, 36, 31, 16, 33, 41, 19, 3, 3, 6, 36, 22, 25, 26, 16, 34, 3, 34, 2, 29, 42, 14, 30, 6, 14, 34, 3, 48, 45, 49, 8, 2, 46, 18, 10, 39, 37, 14, 17, 17, 26, 48, 50, 36, 7, 37, 48, 2, 42, 18, 37, 4, 30, 28, 2, 23, 37, 32, 12, 11, 37, 42, 32, 37, 27, 11, 13, 13, 4, 27, 17, 35, 50, 25, 26, 4, 48, 35, 15, 25, 31, 31, 34, 47, 19, 42, 14, 33, 25, 19, 5, 32, 42, 48, 26, 19, 3, 43, 36, 19, 50, 21, 3, 30, 55, 87, 80, 52, 68, 67, 51, 52, 79, 90, 66, 83, 59, 76, 98, 13, 47, 39, 34, 44, 33, 27, 30, 20, 2, 1, 45, 78, 64, 8, 57, 95, 82, 89, 15, 62, 99, 25, 29, 71, 93, 81, 79, 100, 13, 56, 51, 74, 96, 58, 44, 20, 98, 23, 74, 17, 23, 72, 47, 38, 4, 85, 92, 13, 85, 78, 37, 47, 79, 3, 52, 91, 49, 36, 17, 49, 8, 6, 3, 44, 4, 18, 33, 14, 50, 6, 5, 22, 1, 5, 37, 6, 48, 26, 47, 5, 6, 43, 36, 4, 45, 47, 41, 64, 62, 20, 33, 27, 19, 61, 71, 59, 83, 65, 69, 77, 81, 95, 83, 97, 73, 100, 62, 71, 94, 86, 61, 92, 55, 69, 57, 61, 73, 61, 89, 82, 53, 84, 97, 85, 89, 78, 71, 63, 56, 55, 57, 56, 65, 68, 77, 74, 91, 93, 69, 64, 58, 83, 64, 70, 72, 62, 55, 68, 78, 58, 89, 52, 93, 72, 71, 73, 74, 73, 95, 89, 89, 89, 75, 63, 76, 84, 90, 98, 83, 94, 82, 57, 92, 51, 95, 90, 88, 86, 100, 100, 75, 91, 78, 64, 72, 70, 94, 72, 92, 51, 98, 98, 97, 72, 91, 84, 78, 76, 67, 64, 77, 68, 87, 91, 92, 96, 81, 73, 73, 100, 87, 53, 95, 93, 53, 84, 54, 93, 85, 61, 73, 76, 65, 62, 82, 73, 74, 64, 73, 59, 46, 30, 38, 29, 41, 85, 80, 64, 91, 96, 95, 94, 74, 69, 95, 87, 65, 97, 56, 71, 82, 72, 59, 93, 54, 68, 71, 87, 52, 88, 77, 54, 68, 100, 92, 78, 81, 56, 77, 88, 99, 63, 92, 98, 98, 89, 97, 70, 81, 86, 92, 81, 96, 61, 68, 84, 79, 58, 72, 70, 58, 53, 86, 95, 79, 96, 68, 65, 86, 58, 68, 87, 53, 59, 54, 90, 63, 58, 80, 67, 76, 94, 96, 78, 69, 81, 98, 86, 85, 73, 61, 90, 75, 74, 89, 56, 68, 84, 74, 57, 60, 76, 65, 76, 98, 53, 54, 60, 65, 67, 80, 96, 73, 99, 86, 55, 89, 56, 74, 62, 67, 69, 90, 79, 76, 91, 63, 59, 90, 64, 83, 74, 57, 85, 64, 53, 63, 81, 90, 77, 79, 88, 52, 59, 60, 73, 73, 94, 86, 67, 100, 80, 82, 97, 83, 90, 55, 51, 99, 97, 99, 99, 70, 79, 78, 94, 59, 61, 89, 70, 79, 74, 54, 55, 70, 77, 87, 95, 51, 68, 91, 89, 90, 85, 66, 86, 74, 69, 62, 94, 57, 69, 79, 64, 52, 62, 95, 93, 91, 55, 85, 92, 72, 89, 92, 55, 79, 64, 65, 86, 54, 95, 89, 97, 74, 99, 72, 52, 55, 79, 54, 51, 68, 65, 93, 85, 63, 54, 90, 67, 70, 90, 62, 53, 80, 82, 68, 66, 71, 81, 60, 89, 88, 65, 51, 61, 73, 60, 84, 93, 70, 71, 81, 98, 94, 56, 95, 62, 82, 95, 67, 51, 56, 90, 98, 98, 61, 92, 71, 98, 76, 73, 77, 55, 55, 75, 82, 56, 84, 89, 71, 87, 59, 72, 60, 64, 73, 77, 75, 90, 77, 78, 78, 58, 80, 70, 93, 81, 57, 84, 66, 87, 86, 60, 93, 100, 96, 58, 56, 70, 60, 65, 90, 99, 61, 98, 83, 91, 93, 87, 52, 79, 89, 94, 86, 62, 96, 77, 86, 90, 98, 59, 87, 62, 65, 90, 95, 87, 75, 100, 83, 96, 57, 92, 63, 62, 84, 60, 69, 63, 94, 56, 78, 94, 84, 99, 59, 82, 91, 79, 97, 100, 71, 63, 76, 74, 53, 94, 89, 93, 87, 81, 51, 59, 83, 77, 89, 97, 96, 91, 77, 87, 83, 52, 97, 79, 61, 95, 96, 82, 84, 54, 87, 93, 82, 52, 51, 94, 57, 70, 91, 78, 68, 86, 97, 77, 90, 78, 59, 94, 93, 88, 78, 73, 90, 94, 51, 86, 70, 93, 52, 93, 100, 96, 66, 78, 59, 64, 87, 95, 68, 67, 95, 90, 91, 80, 83, 87, 76, 59, 68, 64, 54, 70, 82, 88, 81, 58, 98, 56, 89, 94, 78, 57, 59, 85, 14, 21, 7, 40, 29, 92, 83, 52, 79, 89, 76, 60, 98, 55, 83, 89, 86, 58, 80, 62, 55, 51, 58, 91, 54, 67, 91, 67, 72, 98, 83, 67, 100, 74, 81, 98, 69, 71, 98, 59, 69, 90, 58, 79, 86, 74, 95, 60, 78, 69, 76, 94, 93, 80, 63, 73, 57, 89, 67, 93, 98, 68, 84, 78, 73, 91, 95, 59, 74, 54, 98, 91, 55, 92, 94, 74, 90, 85, 56, 75, 90, 90, 68, 64, 85, 60, 84, 70, 95, 54, 85, 89, 5, 97, 57, 63, 61, 58, 51, 59, 80, 83, 57, 74, 94, 76, 81, 54, 100, 65, 71, 72, 73, 65, 93, 85, 69, 54, 74, 68, 65, 86, 78, 83, 94, 56, 58, 79, 84, 92, 58, 74, 60, 98, 65, 79, 64, 82, 98, 83, 54, 77, 53, 70, 90, 65, 68, 89, 65, 56, 62, 80, 74, 58, 72, 71, 90, 75, 51, 68, 76, 81, 55, 62, 74, 82, 71, 82, 52, 56, 79, 94, 94, 78, 90, 68, 73, 72, 83, 98, 51, 55, 99, 77, 68, 70, 73, 98, 58, 57, 55, 51, 72, 66, 63, 86, 92, 64, 70, 59, 94, 64, 58, 90, 78, 66, 97, 86, 73, 84, 76, 76, 87, 57, 70, 72, 95, 71, 57, 100, 86, 93, 88, 53, 79, 57, 97, 80, 88, 87, 71, 74, 76, 94, 65, 94, 90, 100, 62, 59, 65, 89, 87, 76, 75, 86, 52, 68, 79, 81, 81, 98, 98, 73, 55, 56, 52, 91, 88, 53, 99, 60, 72, 78, 53, 88, 88, 78, 97, 61, 56, 59, 88, 85, 61, 55, 56, 60, 93, 78, 89, 52, 57, 85, 66, 59, 57, 54, 84, 66, 71, 100, 61, 83, 94, 98, 61, 78, 81, 69, 95, 60, 60, 79, 58, 71, 69, 59, 89, 67, 79, 54, 76, 73, 95, 90, 91, 75, 80, 53, 100, 67, 71, 62, 76, 61, 83, 67, 61, 57, 56, 75, 57, 70, 94, 27, 70, 81, 81, 51, 95, 91, 64, 64, 55, 65, 98, 95, 86, 89, 61, 89, 58, 51, 98, 100, 100, 84, 92, 90, 81, 60, 91, 75, 87, 85, 51, 81, 71, 56, 57, 66, 51, 84, 74, 99, 85, 85, 66, 90, 61, 74, 64, 63, 60, 85, 96, 87, 86, 92, 84, 57, 82, 58, 78, 90, 78, 90, 61, 80, 83, 85, 75, 81, 57, 74, 89, 52, 84, 59, 69, 75, 82, 80, 81, 95, 85, 68, 62, 64, 62, 68, 68, 57, 67, 59, 75, 53, 66, 70, 85, 64, 51, 72, 76, 72, 80, 57, 72, 96, 79, 52, 61, 73, 70, 91, 73, 95, 88, 98, 62, 89, 53, 62, 67, 94, 58, 91, 98, 95, 90, 85, 97, 83, 92, 53, 64, 78, 72, 73, 91, 89, 63, 63, 77, 65, 70, 51, 70, 92, 91, 52, 87, 65, 61, 96, 92, 92, 89, 96, 65, 92, 80, 55, 70, 60, 86, 73, 66, 59, 71, 83, 86, 82, 83, 73, 69, 81, 63, 54, 73, 52, 65, 82, 83, 66, 82, 95, 88, 72, 89, 87, 69, 54, 89, 87, 100, 66, 51, 89, 87, 83, 86, 80, 74, 81, 98, 65, 52, 78, 57, 93, 97, 59, 51, 52, 90, 65, 62, 94, 72, 63, 52, 99, 80, 59, 56, 56, 51, 72, 77, 71, 84, 82, 89, 82, 17, 20, 39, 15, 50, 44, 13, 14, 43, 23, 46, 49, 3, 46, 37, 46, 42, 17, 17, 47, 96, 77, 52, 93, 74, 37, 38, 17, 38, 48, 90, 98, 99, 84, 73, 96, 63, 100, 64, 89, 35, 87, 57, 82, 63, 62, 14, 34, 46, 96, 70, 80, 64, 69, 59, 70, 68, 96, 51, 88, 78, 67, 51, 89, 85, 83, 99, 51, 52, 84, 75, 67, 74, 80, 91, 54, 93, 65, 78, 99, 74, 98, 87, 65, 93, 80, 90, 93, 58, 100, 91, 58, 72, 58, 91, 87, 79, 70, 81, 81, 78, 68, 73, 58, 65, 99, 51, 89, 82, 100, 53, 99, 78, 56, 82, 68, 61, 56, 69, 75, 58, 66, 75, 72, 67, 91, 54, 82, 60, 62, 60, 85, 65, 77, 39, 28, 42, 39, 3, 28, 43, 20, 9, 14, 7, 16, 27, 39, 13, 46, 11, 22, 44, 37, 16, 18, 17, 44, 41, 38, 6, 47, 37, 18, 11, 47, 29, 31, 21, 18, 5, 1, 21, 10, 30, 38, 40, 15, 43, 7, 29, 17, 42, 50, 38, 21, 20, 27, 40, 26, 40, 5, 35, 50, 87, 74, 65, 61, 68, 43, 42, 21, 30, 5, 49, 13, 1, 85, 90, 87, 87, 58, 51, 52, 95, 70, 95, 80, 68, 23, 43, 5, 34, 8, 12, 27, 2, 2, 9, 7, 17, 30, 22, 40, 30, 20, 25, 44, 5, 26, 7, 30, 44, 9, 44, 18, 23, 44, 19, 11, 13, 31, 9, 2, 12, 6, 33, 24, 27, 25, 29, 34, 41, 30, 18, 3, 75, 27, 92, 31, 96, 99, 86, 51, 57, 100, 98, 98, 78, 60, 68, 50, 100, 77, 84, 77, 60, 81, 64, 72, 70, 92, 59, 90, 57, 73, 19, 91, 86, 82, 55, 35, 68, 57, 78, 58, 91, 98, 95, 45, 51, 63, 94, 46, 55, 82, 76, 54, 75, 36, 43, 16, 77, 83, 87, 71, 98, 68, 75, 40, 12, 22, 46, 12, 18, 14, 36, 1, 45, 38, 8, 36, 48, 25, 26, 4, 20, 42, 5, 8, 4, 29, 15, 47, 47, 39, 32, 30, 48, 26, 13, 41, 2, 37, 42, 22, 30, 36, 36, 35, 9, 22, 4, 24, 15, 41, 33, 4, 11, 46, 6, 47, 11, 35, 31, 49, 42, 7, 21, 28, 33, 16, 37, 12, 16, 45, 24, 21, 45, 31, 46, 16, 12, 46, 23, 15, 7, 27, 5, 43, 16, 39, 41, 6, 26, 5, 5, 41, 44, 16, 48, 41, 21, 22, 13, 35, 19, 10, 1, 36, 12, 48, 24, 3, 6, 37, 43, 5, 22, 23, 15, 39, 10, 21, 2, 45, 3, 30, 40, 42, 34, 44, 16, 24, 27, 37, 34, 50, 45, 42, 9, 35, 15, 11, 13, 34, 24, 13, 38, 32, 35, 14, 12, 32, 10, 13, 33, 24, 28, 44, 2, 8, 18, 4, 10, 12, 11, 49, 30, 32, 23, 11, 22, 42, 10, 20, 19, 49, 14, 4, 33, 44, 13, 31, 26, 19, 4, 41, 47, 2, 48, 37, 49, 18, 1, 31, 4, 38, 37, 41, 2, 50, 36, 16, 25, 41, 17, 23, 39, 4, 49, 49, 50, 33, 23, 9, 39, 43, 50, 41, 31, 22, 41, 6, 18, 37, 11, 21, 50, 23, 50, 21, 18, 19, 20, 10, 34, 38, 17, 46, 69, 55, 91, 68, 70, 90, 70, 95, 84, 57, 72, 84, 95, 62, 60, 83, 87, 94, 74, 91, 85, 59, 95, 98, 85, 79, 89, 82, 67, 59, 81, 100, 93, 86, 87, 79, 100, 98, 79, 91, 88, 89, 30, 89, 3, 92, 99, 80, 66, 59, 84, 96, 78, 78, 91, 72, 57, 54, 23, 94, 73, 43, 65, 53, 90, 94, 87, 66, 64, 50, 94, 96, 55, 71, 75, 66, 86, 75, 69, 81, 51, 53, 79, 70, 83, 8, 1, 31, 41, 14, 50, 21, 48, 45, 43, 39, 26, 28, 11, 39, 1, 28, 31, 13, 35, 26, 10, 34, 37, 31, 31, 30, 21, 4, 27, 10, 31, 48, 13, 43, 6, 38, 48, 11, 43, 33, 34, 14, 11, 2, 37, 16, 14, 18, 29, 39, 20, 47, 24, 28, 34, 27, 2, 20, 7, 22, 18, 22, 5, 3, 44, 9, 23, 44, 17, 48, 48, 42, 13, 10, 1, 32, 29, 32, 48, 18, 21, 24, 34, 23, 9, 22, 22, 38, 16, 35, 35, 31, 48, 19, 25, 9, 5, 28, 14, 17, 11, 3, 36, 42, 34, 39, 37, 2, 50, 18, 14, 8, 45, 20, 18, 35, 39, 3, 21, 26, 39, 40, 11, 49, 12, 35, 29, 33, 16, 29, 9, 5, 9, 25, 7, 19, 46, 42, 29, 13, 20, 6, 39, 19, 38, 49, 15, 47, 31, 13, 15, 26, 50, 2, 12, 48, 36, 13, 7, 47, 42, 4, 41, 35, 29, 9, 10, 20, 43, 19, 34, 23, 10, 22, 46, 30, 48, 13, 7, 39, 16, 22, 24, 19, 43, 19, 21, 6, 32, 15, 2, 34, 29, 4, 18, 35, 10, 10, 41, 33, 46, 27, 15, 50, 29, 5, 10, 30, 23, 35, 50, 17, 42, 6, 16, 29, 24, 49, 34, 17, 31, 38, 2, 17, 15, 16, 43, 30, 31, 22, 21, 26, 2, 6, 42, 27, 10, 32, 20, 21, 29, 44, 11, 4, 36, 2, 2, 13, 25, 42, 30, 14, 17, 37, 14, 16, 17, 10, 29, 17, 29, 12, 8, 26, 17, 45, 42, 17, 47, 25, 11, 7, 25, 47, 46, 14, 46, 40, 22, 45, 49, 15, 3, 45, 9, 12, 36, 78, 72, 96, 22, 67, 50, 37, 21, 32, 73, 9, 77, 42, 58, 33, 27, 26, 30, 45, 18, 3, 47, 76, 28, 27, 50, 37, 22, 61, 25, 18, 1, 99, 9, 99, 12, 10, 10, 45, 19, 87, 4, 17, 87, 34, 5, 70, 35, 15, 46, 27, 42, 49, 32, 35, 2, 61, 28, 49, 2, 56, 47, 73, 1, 58, 7, 32, 10, 44, 97, 31, 24, 74, 43, 30, 27, 40, 83, 10, 75, 32, 26, 33, 55, 30, 29, 53, 48, 12, 3, 46, 10, 92, 17, 8, 47, 31, 66, 50, 1, 15, 43, 21, 97, 40, 3, 42, 31, 72, 4, 84, 73, 3, 86, 12, 50, 3, 26, 44, 46, 4, 24, 61, 28, 46, 83, 17, 98, 90, 34, 20, 49, 39, 17, 33, 45, 57, 29, 59, 91, 5, 58, 31, 13, 25, 68, 4, 21, 41, 92, 5, 7, 21, 7, 99, 27, 82, 81, 13, 23, 15, 99, 42, 40, 47, 1, 11, 11, 39, 30, 63, 3, 61, 74, 6, 35, 43, 19, 7, 10, 17, 21, 39, 28, 1, 44, 35, 33, 25, 39, 23, 19, 48, 9, 20, 22, 12, 15, 49, 56, 40, 87, 30, 67, 66, 32, 91, 16, 84, 14, 40, 49, 20, 27, 65, 32, 47, 23, 29, 34, 1, 36, 19, 7, 4, 18, 78, 63, 39, 97, 9, 22, 22, 23, 59, 22, 43, 50, 12, 18, 36, 53, 13, 46, 1, 92, 24, 28, 42, 69, 31, 22, 44, 5, 68, 80, 72, 66, 26, 38, 40, 22, 35, 23, 37, 3, 18, 78, 50, 3, 44, 37, 27, 19, 36, 31, 32, 21, 7, 45, 19, 7, 29, 24, 28, 42, 20, 42, 28, 50, 32, 75, 31, 50, 88, 5, 65, 98, 56, 44, 18, 3, 19, 3, 7, 4, 30, 23, 47, 41, 24, 18, 34, 17, 45, 40, 93, 91, 94, 44, 16, 19, 13, 28, 34, 58, 10, 42, 73, 82, 25, 18, 7, 19, 25, 47, 13, 87, 6, 19, 4, 45, 42, 51, 5, 47, 15, 21, 37, 31, 27, 18, 2, 10, 39, 62, 4, 85, 96, 20, 8, 39, 85, 8, 28, 25, 11, 93, 17, 49, 92, 7, 89, 37, 36, 82, 95, 46, 39, 28, 57, 8, 22, 80, 62, 28, 47, 35, 36, 8, 80, 60, 39, 46, 21, 1, 34, 49, 31, 3, 100, 15, 20, 49, 30, 10, 25, 21, 47, 4, 17, 59, 34, 64, 52, 50, 11, 71, 12, 26, 9, 19, 43, 48, 34, 20, 41, 5, 100, 15, 40, 81, 89, 10, 20, 39, 17, 27, 38, 50, 93, 5, 12, 76, 13, 16, 21, 95, 38, 25, 100, 50, 45, 5, 93, 34, 32, 41, 93, 18, 16, 42, 5, 23, 93, 48, 57, 50, 33, 34, 30, 45, 7, 32, 5, 26, 39, 10, 2, 45, 55, 49, 66, 10, 34, 11, 58, 41, 100, 39, 25, 13, 39, 43, 48, 99, 14, 56, 36, 26, 54, 59, 90, 10, 58, 34, 46, 16, 22, 29, 77, 4, 48, 99, 35, 31, 41, 17, 10, 36, 26, 11, 44, 20, 11, 11, 31, 41, 75, 45, 42, 46, 17, 7, 5, 13, 59, 46, 14, 67, 22, 53, 17, 81, 26, 39, 28, 98, 40, 14, 95, 30, 72, 87, 28, 2, 16, 85, 48, 66, 62, 15, 2, 52, 39, 6, 91, 40, 23, 46, 94, 7, 98, 30, 59, 5, 30, 49, 27, 61, 35, 30, 98, 20, 43, 37, 14, 40, 100, 35, 32, 38, 67, 6, 46, 48, 22, 29, 44, 6, 60, 81, 47, 13, 46, 57, 44, 47, 82, 29, 49, 50, 55, 37, 10, 46, 12, 1, 98, 16, 4, 23, 20, 45, 74, 88, 50, 11, 45, 4, 44, 11, 60, 49, 49, 24, 13, 85, 38, 46, 24, 20, 24, 20, 24, 93, 37, 5, 20, 23, 93, 67, 76, 28, 21, 27, 41, 31, 7, 79, 41, 44, 22, 45, 25, 91, 18, 3, 43, 65, 60, 24, 13, 99, 29, 4, 88, 57, 3, 76, 50, 23, 25, 2, 35, 10, 32, 65, 42, 16, 25, 13, 55, 91, 45, 98, 37, 96, 48, 69, 24, 5, 10, 49, 100, 77, 28, 15, 61, 89, 19, 8, 1, 60, 100, 10, 12, 36, 20, 34, 75, 94, 9, 44, 83, 40, 5, 44, 7, 17, 78, 32, 48, 98, 36, 48, 19, 33, 20, 1, 42, 10, 44, 4, 25, 26, 4, 25, 24, 9, 57, 38, 26, 50, 80, 5, 82, 96, 31, 65, 69, 98, 3, 9, 13, 11, 30, 61, 29, 73, 38, 13, 39, 6, 5, 74, 53, 68, 18, 7, 8, 20, 37, 20, 14, 57, 13, 50, 47, 13, 24, 40, 5, 33, 45, 6, 43, 2, 25, 40, 2, 6, 80, 46, 79, 39, 43, 55, 11, 27, 24, 31, 95, 97, 4, 7, 6, 95, 30, 10, 2, 9, 8, 4, 78, 23, 29, 80, 1, 86, 44, 23, 26, 65, 51, 17, 8, 99, 68, 39, 67, 3, 89, 99, 38, 30, 2, 93, 50, 2, 43, 10, 23, 65, 35, 83, 68, 49, 52, 10, 99, 67, 63, 12, 81, 28, 5, 26, 23, 31, 37, 36, 77, 35, 58, 40, 75, 46, 9, 48, 27, 44, 14, 71, 91, 40, 47, 49, 26, 4, 18, 28, 40, 18, 30, 6, 42, 43, 42, 35, 9, 6, 39, 31, 47, 26, 40, 8, 44, 43, 21, 7, 54, 19, 37, 21, 64, 13, 19, 19, 49, 44, 51, 35, 36, 21, 93, 45, 5, 41, 30, 15, 54, 83, 29, 92, 34, 49, 60, 35, 69, 44, 85, 36, 4, 51, 85, 55, 21, 4, 53, 14, 6, 18, 2, 53, 45, 37, 15, 97, 34, 28, 23, 73, 26, 43, 73, 8, 45, 50, 82, 45, 32, 10, 7, 36, 65, 33, 1, 45, 20, 42, 21, 8, 88, 5, 50, 8, 96, 47, 85, 77, 13, 13, 72, 57, 8, 97, 32, 13, 21, 13, 19, 34, 6, 76, 50, 94, 40, 20, 13, 64, 47, 22, 13, 38, 4, 38, 49, 18, 29, 9, 46, 10, 43, 66, 19, 8, 31, 47, 38, 61, 42, 52, 35, 21, 42, 44, 37, 69, 76, 27, 6, 64, 34, 46, 31, 23, 89, 85, 19, 43, 39, 5, 12, 49, 9, 9, 33, 49, 15, 1, 41, 35, 4, 8, 14, 12, 1, 90, 28, 7, 57, 43, 37, 92, 11, 23, 81, 71, 11, 46, 14, 72, 27, 42, 52, 49, 1, 21, 88, 4, 56, 10, 26, 22, 32, 28, 69, 53, 35, 39, 30, 28, 38, 10, 1, 38, 38, 48, 66, 58, 53, 27, 4, 15, 10, 50, 17, 67, 12, 19, 18, 97, 10, 34, 42, 9, 19, 15, 13, 71, 33, 72, 71, 45, 36, 5, 51, 49, 6, 5, 25, 21, 97, 29, 100, 11, 78, 8, 9, 56, 46, 11, 66, 51, 6, 34, 23, 3, 48, 56, 10, 21, 45, 35, 99, 10, 9, 38, 47, 2, 24, 47, 36, 63, 16, 28, 76, 6, 15, 44, 47, 86, 24, 7, 45, 11, 15, 17, 51, 5, 22, 31, 24, 52, 67, 23, 27, 2, 27, 83, 12, 54, 91, 11, 84, 83, 19, 32, 72, 24, 3, 73, 27, 43, 18, 7, 5, 70, 10, 43, 20, 49, 44, 16, 7, 99, 19, 50, 49, 45, 10, 7, 15, 21, 23, 42, 38, 92, 51, 17, 23, 20, 100, 1, 14, 15, 23, 38, 25, 76, 65, 82, 72, 8, 70, 32, 34, 39, 20, 81, 2, 3, 23, 85, 46, 36, 60, 2, 7, 7, 56, 58, 55, 18, 32, 9, 40, 19, 28, 96, 24, 53, 46, 25, 90, 94, 52, 38, 48, 62, 58, 90, 34, 39, 38, 33, 1, 4, 54, 21, 34, 11, 38, 34, 37, 40, 31, 2, 73, 15, 75, 91, 25, 4, 7, 75, 8, 1, 7, 44, 16, 23, 7, 36, 48, 99, 44, 45, 28, 59, 25, 64, 43, 11, 56, 48, 10, 17, 29, 47, 8, 6, 49, 60, 45, 20, 59, 22, 95, 4, 9, 11, 47, 69, 8, 13, 50, 20, 26, 28, 29, 43, 10, 17, 88, 32, 92, 10, 35, 6, 91, 1, 20, 2, 26, 32, 94, 9, 87, 2, 18, 46, 33, 79, 41, 18, 10, 17, 9, 37, 99, 13, 12, 79, 24, 96, 29, 25, 11, 13, 37, 31, 38, 38, 35, 36, 45, 1, 16, 50, 19, 41, 47, 63, 26, 26, 19, 44, 26, 7, 45, 80, 14, 44, 29, 4, 16, 41, 58, 90, 21, 8, 78, 22, 32, 95, 83, 20, 63, 97, 26, 36, 52, 24, 20, 23, 37, 87, 10, 9, 8, 20, 1, 63, 61, 48, 81, 3, 38, 31, 38, 53, 22, 27, 22, 1, 49, 37, 77, 2, 96, 83, 21, 71, 1, 11, 42, 96, 81, 11, 43, 58, 75, 46, 44, 37, 28, 8, 6, 36, 9, 22, 75, 5, 96, 4, 97, 22, 31, 63, 42, 45, 31, 44, 75, 39, 49, 89, 43, 8, 23, 16, 82, 9, 26, 37, 44, 93, 4, 90, 26, 32, 22, 9, 38, 41, 22, 16, 12, 17, 4, 47, 53, 30, 46, 46, 34, 41, 18, 48, 33, 38, 3, 49, 27, 50, 43, 62, 20, 47, 31, 38, 40, 52, 58, 44, 56, 17, 65, 60, 85, 50, 48, 36, 21, 14, 34, 43, 95, 23, 34, 35, 66, 47, 12, 55, 3, 71, 35, 16, 49, 63, 34, 27, 16, 34, 80, 58, 9, 12, 32, 41, 45, 28, 72, 37, 34, 9, 39, 3, 43, 8, 29, 98, 14, 36, 10, 33, 43, 38, 16, 85, 69, 33, 9, 51, 1, 50, 15, 70, 46, 96, 5, 19, 25, 4, 68, 38, 21, 4, 22, 29, 45, 17, 57, 47, 25, 34, 9, 1, 30, 9, 50, 38, 15, 17, 95, 54, 31, 97, 20, 28, 99, 23, 82, 38, 78, 9, 36, 1, 44, 14, 42, 44, 46, 56, 32, 22, 2, 45, 73, 9, 11, 30, 44, 90, 7, 57, 47, 46, 54, 17, 13, 7, 58, 32, 52, 6, 64, 12, 43, 49, 98, 13, 60, 14, 75, 7, 33, 44, 81, 35, 42, 32, 49, 14, 30, 18, 38, 37, 18, 12, 30, 21, 24, 20, 80, 88, 68, 26, 96, 18, 61, 72, 47, 42, 22, 24, 12, 95, 1, 47, 86, 2, 58, 19, 22, 31, 9, 36, 38, 57, 8, 23, 21, 94, 15, 44, 24, 45, 46, 98, 17, 43, 50, 34, 1, 37, 47, 66, 30, 87, 75, 46, 1, 50, 45, 74, 90, 45, 19, 67, 3, 64, 26, 47, 22, 4, 38, 24, 21, 42, 17, 42, 29, 67, 22, 18, 35, 82, 41, 14, 93, 39, 2, 19, 14, 1, 53, 85, 79, 75, 33, 49, 79, 42, 5, 14, 72, 94, 59, 56, 23, 26, 47, 16, 41, 80, 5, 23, 98, 4, 9, 75, 29, 35, 47, 29, 74, 7, 22, 7, 98, 44, 14, 3, 41, 29, 40, 43, 47, 92, 62, 90, 63, 30, 21, 45, 45, 4, 37, 48, 14, 24, 4, 5, 17, 1, 23, 45, 23, 29, 40, 31, 57, 9, 81, 31, 36, 73, 44, 55, 43, 53, 91, 56, 20, 64, 10, 93, 3, 81, 9, 30, 19, 11, 6, 34, 34, 40, 58, 35, 49, 66, 25, 3, 22, 32, 24, 28, 50, 49, 6, 41, 5, 63, 24, 18, 17, 94, 28, 40, 66, 27, 75, 34, 11, 28, 2, 16, 42, 27, 100, 99, 8, 99, 31, 4, 2, 20, 34, 49, 35, 11, 50, 7, 79, 83, 37, 30, 71, 51, 9, 46, 77, 37, 59, 18, 40, 83, 4, 12, 9, 16, 3, 62, 85, 94, 35, 49, 50, 49, 35, 45, 1, 24, 9, 13, 25, 7, 90, 6, 34, 75, 21, 12, 55, 39, 40, 100, 6, 44, 36, 41, 13, 56, 7, 48, 17, 72, 42, 17, 48, 31, 33, 55, 42, 20, 46, 61, 12, 32, 20, 81, 11, 10, 41, 1, 25, 35, 57, 99, 96, 5, 2, 14, 39, 37, 25, 13, 43, 94, 16, 50, 23, 12, 77, 99, 62, 86, 11, 16, 28, 17, 13, 32, 32, 31, 14, 25, 89, 24, 9, 48, 83, 45, 61, 48, 9, 45, 17, 49, 96, 28, 39, 20, 36, 6, 13, 42, 46, 6, 48, 38, 32, 40, 33, 2, 48, 37, 41, 7, 33, 44, 9, 36, 47, 50, 7, 78, 40, 63, 22, 21, 84, 60, 100, 57, 48, 2, 15, 13, 2, 64, 47, 39, 36, 44, 8, 33, 8, 17, 25, 18, 37, 24, 58, 27, 96, 100, 31, 39, 42, 19, 10, 6, 43, 36, 21, 62, 20, 9, 10, 82, 84, 80, 36, 37, 23, 31, 42, 4, 49, 82, 12, 34, 2, 5, 12, 67, 44, 36, 72, 1, 73, 40, 5, 41, 25, 21, 85, 6, 45, 3, 23, 31, 64, 56, 41, 28, 3, 1, 51, 2, 29, 25, 9, 24, 20, 17, 16, 12, 67, 40, 59, 75, 10, 98, 37, 45, 42, 21, 6, 4, 43, 22, 85, 6, 3, 6, 43, 49, 27, 25, 31, 64, 51, 31, 15, 18, 35, 38, 57, 61, 40, 47, 6, 9, 9, 15, 6, 12, 91, 72, 38, 79, 56, 46, 56, 25, 24, 51, 48, 16, 21, 2, 21, 28, 31, 18, 10, 5, 66, 52, 19, 10, 68, 23, 17, 7, 1, 44, 20, 41, 3, 47, 86, 78, 43, 58, 20, 52, 9, 46, 19, 14, 21, 19, 81, 50, 21, 65, 23, 15, 85, 83, 9, 4, 68, 45, 44, 41, 40, 44, 20, 41, 20, 52, 94, 19, 10, 1, 61, 18, 47, 82, 4, 19, 3, 50, 30, 73, 72, 93, 38, 34, 29, 35, 44, 17, 51, 40, 28, 38, 17, 64, 34, 26, 72, 30, 33, 15, 14, 17, 23, 47, 35, 37, 92, 16, 69, 65, 97, 45, 32, 18, 26, 18, 3, 14, 39, 12, 67, 66, 23, 26, 43, 32, 43, 88, 17, 10, 7, 41, 48, 19, 41, 4, 24, 47, 2, 24, 29, 30, 55, 26, 16, 15, 50, 26, 40, 55, 36, 20, 14, 1, 71, 48, 32, 1, 14, 44, 34, 76, 16, 23, 8, 36, 21, 27, 12, 29, 42, 71, 33, 50, 53, 13, 45, 49, 46, 2, 44, 6, 24, 29, 33, 7, 44, 42, 26, 79, 46, 3, 23, 1, 49, 59, 18, 27, 50, 4, 79, 33, 9, 81, 13, 9, 25, 15, 20, 23, 23, 8, 17, 21, 56, 99, 25, 11, 15, 86, 30, 34, 88, 17, 34, 15, 35, 47, 27, 17, 4, 11, 9, 1, 45, 23, 55, 16, 47, 40, 97, 61, 24, 12, 82, 99, 16, 35, 16, 43, 35, 42, 37, 29, 23, 53, 36, 71, 83, 4, 9, 36, 33, 21, 30, 91, 75, 19, 14, 71, 35, 36, 30, 47, 46, 10, 41, 63, 100, 41, 50, 46, 44, 50, 9, 44, 86, 4, 10, 30, 34, 4, 22, 35, 12, 21, 90, 79, 49, 35, 77, 14, 78, 23, 5, 39, 9, 7, 50, 7, 36, 90, 35, 48, 78, 24, 82, 60, 99, 37, 59, 41, 5, 5, 50, 33, 15, 34, 36, 13, 39, 35, 29, 17, 17, 77, 81, 79, 97, 12, 48, 53, 1, 19, 98, 41, 22, 42, 63, 36, 73, 9, 3, 1, 53, 5, 48, 4, 29, 15, 5, 38, 20, 11, 71, 36, 5, 5, 43, 42, 13, 3, 5, 19, 95, 54, 11, 52, 20, 70, 14, 33, 34, 10, 31, 22, 13, 20, 1, 20, 3, 80, 31, 45, 36, 29, 43, 74, 31, 14, 41, 88, 19, 72, 65, 14, 35, 77, 2, 39, 38, 18, 91, 18, 27, 16, 56, 21, 20, 48, 8, 50, 4, 51, 16, 16, 41, 36, 2, 48, 29, 86, 91, 2, 92, 33, 36, 21, 34, 2, 58, 23, 26, 32, 66, 50, 5, 32, 29, 34, 47, 5, 49, 6, 43, 48, 38, 33, 29, 17, 5, 1, 44, 4, 20, 10, 96, 11, 39, 38, 69, 25, 43, 98, 14, 36, 34, 33, 41, 16, 74, 33, 63, 23, 64, 38, 28, 80, 28, 1, 10, 98, 69, 91, 27, 46, 45, 24, 61, 34, 50, 42, 25, 32, 2, 11, 46, 40, 43, 36, 95, 37, 49, 87, 22, 18, 20, 32, 7, 46, 61, 46, 50, 98, 13, 29, 40, 50, 95, 73, 45, 55, 96, 62, 32, 14, 29, 8, 19, 65, 45, 92, 3, 22, 46, 29, 65, 13, 7, 31, 45, 25, 7, 89, 84, 83, 100, 5, 20, 91, 19, 35, 73, 92, 18, 28, 98, 35, 25, 71, 26, 45, 32, 87, 37, 8, 14, 50, 11, 92, 37, 67, 50, 2, 79, 100, 15, 59, 52, 70, 46, 49, 80, 57, 79, 88, 59, 41, 22, 32, 44, 30, 30, 25, 30, 24, 81, 37, 50, 62, 20, 84, 26, 4, 21, 40, 26, 86, 47, 11, 39, 58, 13, 46, 25, 7, 50, 80, 55, 36, 18, 25, 17, 26, 20, 24, 15, 81, 69, 27, 34, 49, 10, 41, 19, 84, 45, 26, 94, 11, 38, 25, 2, 50, 36, 71, 36, 8, 10, 64, 17, 5, 45, 16, 64, 24, 43, 72, 36, 29, 41, 34, 1, 18, 21, 70, 67, 20, 42, 47, 45, 32, 95, 2, 9, 38, 39, 37, 43, 43, 85, 59, 35, 32, 20, 1, 11, 62, 5, 28, 19, 49, 28, 40, 30, 7, 49, 5, 9, 30, 7, 7, 28, 26, 48, 9, 43, 63, 50, 14, 41, 47, 16, 96, 24, 44, 12, 71, 43, 20, 50, 37, 76, 10, 53, 97, 19, 7, 5, 46, 8, 30, 78, 94, 82, 83, 62, 19, 48, 50, 13, 75, 48, 48, 7, 23, 79, 4, 97, 98, 15, 14, 44, 33, 81, 20, 16, 84, 44, 22, 44, 2, 44, 8, 11, 21, 41, 16, 31, 13, 96, 27, 88, 9, 33, 42, 68, 96, 51, 15, 22, 26, 47, 100, 34, 15, 42, 6, 10, 61, 2, 21, 36, 25, 28, 16, 56, 6, 8, 56, 7, 3, 17, 32, 50, 45, 33, 5, 1, 42, 10, 92, 9, 81, 8, 40, 21, 20, 43, 28, 23, 46, 24, 36, 20, 89, 14, 40, 83, 47, 45, 15, 55, 2, 42, 27, 29, 39, 34, 14, 15, 84, 28, 15, 14, 43, 83, 33, 49, 36, 20, 62, 12, 25, 46, 42, 46, 21, 21, 28, 59, 98, 91, 22, 87, 40, 64, 36, 19, 12, 49, 45, 38, 7, 75, 48, 39, 20, 5, 35, 26, 28, 47, 100, 98, 56, 11, 7, 39, 50, 20, 31, 45, 42, 41, 47, 45, 33, 62, 17, 25, 44, 45, 57, 94, 93, 23, 46, 90, 26, 18, 45, 10, 30, 88, 31, 26, 37, 36, 85, 99, 17, 6, 2, 42, 18, 12, 38, 91, 14, 44, 12, 81, 27, 40, 48, 40, 7, 17, 8, 26, 8, 54, 6, 65, 30, 17, 36, 63, 21, 7, 3, 71, 18, 21, 27, 97, 97, 69, 41, 59, 28, 8, 98, 100, 62, 7, 40, 70, 91, 82, 50, 16, 53, 32, 47, 64, 75, 45, 96, 21, 50, 58, 9, 95, 53, 19, 5, 37, 92, 44, 3, 23, 65, 15, 46, 27, 96, 10, 4, 19, 52, 17, 6, 19, 42, 46, 62, 19, 54, 64, 39, 29, 100, 61, 13, 7, 62, 3, 42, 17, 30, 31, 51, 32, 48, 11, 71, 45, 16, 41, 4, 76, 7, 36, 15, 69, 66, 59, 51, 67, 31, 44, 93, 37, 20, 27, 33, 55, 3, 29, 25, 28, 35, 50, 12, 43, 48, 46, 39, 48, 9, 28, 100, 45, 13, 58, 75, 85, 31, 22, 81, 14, 74, 12, 1, 17, 16, 35, 61, 58, 53, 11, 68, 25, 78, 10, 43, 39, 5, 9, 45, 1, 10, 26, 69, 34, 35, 42, 63, 24, 45, 58, 20, 11, 38, 18, 11, 38, 68, 29, 9, 58, 12, 83, 21, 44, 34, 47, 59, 40, 2, 1, 13, 17, 61, 33, 12, 41, 10, 1, 84, 8, 7, 85, 39, 24, 31, 2, 7, 16, 16, 12, 29, 43, 32, 28, 7, 98, 26, 25, 31, 42, 10, 26, 34, 11, 46, 46, 95, 7, 2, 1, 23, 83, 85, 43, 8, 31, 73, 14, 19, 86, 33, 72, 83, 27, 27, 14, 34, 42, 6, 46, 31, 43, 44, 71, 9, 3, 50, 10, 24, 55, 28, 84, 20, 13, 29, 64, 2, 9, 12, 24, 48, 89, 36, 42, 25, 33, 98, 15, 69, 2, 19, 24, 34, 83, 44, 45, 68, 19, 19, 74, 62, 23, 9, 81, 7, 44, 90, 44, 28, 13, 55, 26, 92, 26, 22, 18, 38, 44, 25, 44, 39, 25, 2, 49, 31, 37, 16, 34, 20, 27, 20, 7, 21, 6, 29, 4, 97, 7, 15, 50, 17, 39, 1, 17, 49, 18, 39, 25, 2, 58, 15, 40, 92, 71, 19, 79, 75, 11, 41, 10, 66, 18, 47, 2, 11, 34, 14, 2, 70, 2, 62, 5, 1, 14, 25, 77, 58, 21, 41, 17, 10, 27, 43, 31, 47, 6, 1, 28, 69, 24, 30, 64, 17, 72, 44, 58, 37, 79, 43, 3, 40, 43, 81, 75, 21, 18, 2, 72, 9, 11, 2, 2, 55, 9, 19, 64, 43, 26, 9, 36, 11, 29, 85, 31, 8, 25, 27, 84, 4, 23, 39, 76, 17, 40, 2, 3, 28, 43, 24, 8, 67, 33, 50, 31, 11, 20, 41, 30, 32, 30, 91, 24, 14, 5, 10, 29, 65, 31, 27, 9, 19, 12, 10, 28, 10, 28, 66, 39, 21, 42, 44, 50, 1, 4, 75, 60, 22, 24, 61, 87, 14, 18, 47, 29, 67, 38, 8, 32, 89, 29, 33, 27, 5, 62, 38, 39, 31, 27, 42, 98, 13, 5, 30, 6, 60, 92, 38, 39, 52, 81, 38, 21, 23, 50, 27, 9, 3, 1, 91, 49, 8, 25, 6, 26, 7, 73, 86, 16, 46, 94, 6, 46, 25, 4, 17, 27, 40, 37, 42, 31, 11, 25, 12, 92, 41, 43, 49, 2, 29, 88, 2, 23, 14, 47, 26, 36, 59, 53, 70, 100, 31, 71, 31, 14, 11, 4, 59, 13, 11, 18, 54, 15, 23, 19, 29, 16, 45, 19, 20, 62, 79, 31, 46, 25, 5, 10, 48, 9, 24, 53, 88, 37, 44, 81, 7, 54, 99, 82, 16, 12, 50, 91, 5, 41, 52, 44, 88, 38, 26, 73, 39, 13, 89, 58, 38, 93, 25, 7, 15, 31, 29, 82, 46, 13, 49, 60, 35, 30, 71, 25, 56, 81, 46, 44, 84, 13, 19, 46, 15, 30, 11, 64, 24, 26, 75, 27, 39, 20, 38, 17, 12, 37, 20, 12, 15, 7, 62, 100, 9, 55, 25, 68, 18, 84, 18, 45, 32, 33, 89, 20, 24, 38, 13, 4, 7, 16, 14, 35, 62, 26, 23, 38, 93, 19, 5, 6, 48, 33, 94, 47, 17, 74, 33, 41, 72, 49, 20, 16, 36, 35, 1, 19, 33, 59, 35, 37, 27, 54, 20, 26, 46, 24, 39, 16, 62, 11, 43, 33, 13, 49, 12, 53, 47, 2, 81, 79, 99, 30, 2, 46, 49, 43, 12, 9, 3, 45, 52, 38, 83, 72, 10, 5, 69, 17, 35, 2, 28, 1, 23, 3, 31, 7, 60, 26, 1, 50, 47, 5, 61, 62, 18, 47, 47, 49, 23, 81, 49, 78, 63, 21, 3, 38, 49, 41, 33, 89, 44, 4, 45, 6, 47, 24, 80, 46, 64, 2, 23, 50, 37, 45, 34, 51, 48, 48, 4, 17, 17, 22, 87, 28, 27, 67, 35, 38, 20, 15, 33, 17, 93, 60, 40, 11, 3, 1, 34, 71, 29, 16, 5, 57, 51, 21, 30, 47, 4, 19, 70, 4, 95, 12, 5, 99, 25, 2, 6, 41, 71, 18, 52, 48, 34, 32, 16, 48, 34, 50, 27, 49, 43, 86, 25, 43, 2, 40, 21, 34, 91, 48, 7, 7, 43, 60, 17, 26, 81, 8, 28, 9, 8, 66, 71, 3, 27, 34, 29, 13, 45, 26, 33, 29, 37, 12, 66, 83, 76, 12, 17, 24, 25, 20, 36, 63, 37, 67, 3, 26, 93, 90, 45, 15, 5, 15, 50, 24, 54, 54, 65, 59, 34, 21, 34, 32, 74, 41, 78, 3, 15, 24, 32, 22, 10, 90, 33, 20, 91, 21, 57, 5, 28, 8, 73, 23, 6, 2, 3, 43, 77, 11, 19, 41, 12, 48, 3, 48, 26, 21, 44, 33, 24, 29, 82, 2, 10, 30, 31, 43, 44, 71, 49, 87, 42, 65, 62, 16, 36, 37, 93, 80, 22, 32, 34, 12, 9, 31, 11, 15, 11, 48, 38, 20, 14, 49, 46, 6, 40, 77, 36, 14, 64, 40, 78, 2, 98, 4, 15, 86, 70, 86, 100, 41, 18, 29, 41, 39, 80, 68, 60, 24, 18, 27, 62, 4, 3, 9, 78, 13, 49, 39, 40, 53, 10, 32, 20, 61, 24, 26, 47, 44, 5, 50, 70, 24, 42, 11, 14, 63, 25, 66, 48, 15, 62, 99, 14, 2, 41, 18, 13, 93, 37, 72, 29, 44, 92, 22, 50, 2, 40, 69, 42, 39, 47, 15, 48, 95, 1, 63, 19, 54, 19, 15, 24, 21, 4, 46, 31, 47, 3, 28, 75, 43, 33, 8, 13, 70, 38, 68, 45, 17, 41, 47, 18, 43, 17, 48, 27, 12, 36, 12, 13, 85, 87, 86, 71, 18, 48, 58, 46, 19, 22, 28, 37, 26, 20, 2, 72, 20, 69, 10, 4, 86, 15, 4, 22, 37, 25, 64, 3, 31, 13, 8, 39, 18, 20, 26, 14, 25, 98, 100, 74, 18, 43, 56, 39, 18, 12, 14, 20, 15, 19, 41, 22, 21, 97, 47, 79, 64, 84, 69, 3, 48, 24, 20, 15, 11, 4, 26, 20, 26, 32, 42, 36, 14, 67, 5, 8, 12, 90, 30, 14, 8, 32, 11, 37, 11, 9, 31, 74, 21, 44, 31, 92, 18, 3, 6, 5, 9, 47, 100, 16, 56, 36, 81, 73, 17, 51, 36, 20, 24, 1, 5, 40, 9, 96, 2, 78, 85, 17, 77, 69, 83, 35, 26, 3, 37, 29, 95, 24, 9, 9, 93, 1, 96, 50, 32, 36, 16, 40, 34, 97, 3, 83, 8, 28, 31, 22, 26, 49, 6, 26, 81, 36, 1, 22, 39, 35, 85, 36, 45, 27, 8, 33, 2, 32, 4, 82, 26, 35, 4, 21, 23, 21, 32, 7, 50, 40, 17, 83, 18, 4, 48, 11, 73, 61, 13, 14, 34, 9, 23, 15, 13, 39, 14, 66, 19, 19, 67, 61, 63, 13, 32, 91, 26, 62, 45, 32, 7, 67, 78, 59, 60, 85, 29, 84, 4, 42, 81, 88, 19, 48, 97, 42, 9, 5, 6, 29, 47, 14, 48, 41, 17, 76, 26, 49, 27, 78, 5, 24, 68, 17, 45, 33, 2, 13, 93, 31, 41, 78, 84, 8, 23, 41, 37, 15, 29, 9, 11, 72, 70, 40, 27, 32, 27, 24, 27, 15, 13, 17, 38, 43, 67, 13, 14, 45, 32, 49, 17, 55, 19, 41, 27, 42, 13, 3, 20, 90, 48, 39, 21, 15, 61, 80, 94, 33, 37, 22, 22, 1, 58, 33, 32, 19, 40, 75, 3, 22, 100, 36, 14, 29, 4, 45, 90, 45, 78, 11, 51, 55, 24, 69, 67, 39, 33, 40, 48, 53, 43, 18, 18, 64, 84, 37, 34, 45, 9, 40, 22, 11, 17, 54, 12, 31, 38, 57, 6, 18, 46, 99, 30, 38, 23, 23, 13, 47, 23, 53, 40, 43, 46, 74, 27, 5, 36, 48, 95, 45, 48, 34, 4, 43, 4, 50, 53, 100, 60, 25, 20, 84, 92, 32, 32, 13, 10, 42, 27, 39, 95, 47, 29, 40, 43, 95, 77, 52, 18, 27, 67, 24, 23, 49, 40, 35, 28, 29, 1, 8, 34, 37, 1, 8, 3, 60, 37, 76, 35, 10, 45, 63, 15, 84, 1, 19, 37, 16, 2, 92, 29, 26, 83, 59, 19, 13, 43, 44, 16, 61, 58, 85, 3, 46, 11, 40, 80, 23, 82, 23, 32, 8, 67, 4, 22, 50, 61, 40, 55, 14, 71, 92, 34, 41, 72, 85, 38, 66, 98, 37, 21, 16, 74, 75, 99, 11, 48, 1, 45, 15, 59, 24, 3, 30, 38, 50, 37, 62, 16, 1, 42, 46, 43, 24, 26, 34, 31, 24, 72, 46, 48, 68, 25, 8, 77, 45, 17, 36, 9, 44, 26, 60, 6, 12, 49, 15, 91, 42, 24, 39, 51, 12, 18, 37, 28, 10, 16, 28, 97, 72, 26, 69, 8, 2, 53, 37, 77, 31, 28, 90, 33, 32, 43, 4, 18, 20, 43, 26, 43, 16, 19, 6, 6, 39, 48, 14, 23, 61, 35, 7, 26, 15, 49, 89, 8, 42, 10, 22, 83, 95, 21, 8, 60, 42, 9, 40, 74, 35, 31, 7, 26, 24, 29, 48, 17, 39, 44, 49, 17, 46, 26, 11, 66, 56, 36, 77, 30, 36, 3, 47, 41, 4, 35, 53, 51, 50, 46, 47, 42, 37, 98, 50, 48, 28, 34, 92, 25, 8, 79, 16, 20, 13, 30, 43, 38, 59, 23, 12, 75, 24, 46, 50, 68, 18, 42, 66, 26, 42, 6, 64, 26, 11, 19, 33, 7, 38, 43, 18, 67, 24, 50, 10, 9, 45, 58, 28, 1, 22, 98, 7, 21, 95, 44, 35, 39, 42, 37, 3, 12, 100, 6, 65, 41, 79, 24, 25, 80, 44, 4, 49, 34, 16, 84, 94, 65, 90, 34, 60, 7, 4, 3, 12, 41, 91, 95, 26, 20, 52, 40, 37, 77, 13, 80, 46, 4, 48, 30, 31, 38, 31, 5, 50, 77, 30, 48, 11, 60, 8, 46, 22, 21, 5, 39, 4, 34, 7, 70, 28, 47, 54, 61, 44, 95, 33, 40, 41, 8, 43, 78, 88, 11, 9, 47, 69, 38, 29, 31, 10, 49, 10, 93, 29, 8, 77, 40, 53, 6, 9, 21, 100, 21, 66, 28, 49, 23, 36, 21, 85, 89, 26, 64, 84, 7, 40, 17, 45, 29, 27, 14, 39, 38, 33, 63, 97, 20, 8, 30, 59, 30, 90, 40, 39, 28, 73, 11, 12, 12, 75, 60, 36, 42, 90, 40, 5, 6, 49, 3, 40, 42, 27, 48, 34, 78, 50, 72, 80, 48, 29, 65, 13, 100, 88, 17, 7, 33, 38, 47, 99, 46, 9, 15, 3, 16, 44, 57, 41, 14, 51, 37, 34, 36, 3, 24, 95, 41, 56, 42, 10, 49, 11, 56, 47, 20, 42, 26, 65, 13, 98, 47, 48, 53, 85, 5, 37, 72, 40, 39, 43, 64, 9, 10, 16, 50, 30, 19, 74, 90, 3, 38, 70, 39, 36, 90, 41, 21, 6, 2, 67, 94, 54, 86, 16, 64, 9, 22, 94, 8, 91, 47, 85, 37, 48, 17, 99, 43, 5, 6, 75, 3, 34, 2, 1, 71, 21, 3, 83, 21, 66, 44, 30, 40, 35, 62, 27, 1, 3, 81, 36, 47, 43, 33, 93, 44, 88, 16, 33, 38, 21, 21, 50, 13, 61, 17, 33, 23, 11, 90, 20, 47, 19, 7, 43, 67, 31, 29, 25, 95, 89, 2, 61, 36, 15, 8, 45, 38, 63, 78, 32, 18, 7, 39, 10, 42, 45, 36, 10, 85, 40, 74, 63, 57, 6, 15, 2, 78, 20, 63, 13, 15, 14, 70, 26, 3, 57, 91, 94, 98, 86, 38, 43, 52, 45, 8, 14, 55, 34, 33, 27, 8, 11, 56, 47, 7, 69, 50, 46, 27, 75, 32, 33, 2, 41, 50, 45, 3, 63, 2, 15, 93, 68, 13, 1, 85, 57, 38, 14, 29, 15, 48, 11, 18, 11, 35, 47, 44, 25, 48, 31, 41, 28, 10, 33, 1, 38, 93, 31, 30, 33, 49, 21, 96, 10, 28, 65, 20, 43, 41, 86, 100, 15, 27, 47, 33, 41, 2, 46, 90, 30, 9, 95, 38, 7, 78, 48, 49, 43, 41, 10, 42, 38, 54, 15, 21, 20, 5, 53, 15, 45, 47, 45, 18, 32, 14, 15, 79, 19, 26, 34, 31, 39, 100, 90, 30, 57, 10, 11, 42, 44, 12, 32, 26, 39, 42, 1, 8, 11, 90, 14, 70, 8, 18, 59, 11, 26, 30, 25, 31, 27, 13, 10, 12, 34, 48, 3, 9, 37, 89, 33, 6, 85, 33, 6, 50, 16, 49, 28, 42, 84, 48, 34, 30, 26, 33, 6, 27, 48, 35, 13, 30, 13, 23, 14, 50, 40, 70, 63, 3, 8, 2, 67, 56, 18, 40, 22, 41, 67, 37, 96, 33, 11, 15, 14, 85, 4, 30, 42, 17, 29, 15, 24, 7, 40, 8, 66, 40, 19, 36, 28, 4, 22, 50, 36, 8, 49, 25, 84, 5, 33, 28, 6, 4, 98, 47, 2, 74, 9, 40, 16, 2, 26, 23, 6, 67, 13, 19, 8, 22, 50, 57, 29, 95, 21, 29, 17, 10, 43, 87, 50, 10, 9, 40, 16, 22, 87, 10, 7, 45, 26, 11, 46, 44, 23, 98, 31, 47, 62, 19, 23, 23, 13, 7, 28, 47, 14, 30, 9, 95, 13, 85, 38, 99, 26, 19, 22, 45, 9, 47, 7, 39, 26, 3, 9, 36, 70, 26, 53, 28, 4, 98, 1, 44, 43, 45, 40, 48, 88, 17, 19, 64, 10, 1, 5, 14, 25, 84, 24, 4, 20, 48, 14, 84, 46, 43, 18, 76, 56, 8, 54, 16, 21, 98, 18, 50, 27, 30, 34, 12, 76, 46, 46, 33, 56, 13, 89, 2, 14, 3, 30, 16, 54, 2, 68, 10, 78, 68, 26, 6, 81, 61, 49, 1, 3, 42, 12, 23, 95, 32, 21, 35, 30, 30, 58, 7, 61, 31, 20, 34, 31, 62, 57, 42, 64, 7, 33, 48, 33, 37, 88, 25, 1, 47, 27, 37, 42, 60, 49, 9, 79, 1, 100, 40, 83, 56, 21, 12, 26, 32, 34, 54, 41, 55, 36, 32, 63, 39, 32, 36, 12, 44, 45, 46, 30, 79, 24, 46, 38, 10, 34, 47, 97, 64, 48, 18, 65, 23, 81, 73, 32, 38, 10, 17, 19, 14, 25, 44, 49, 49, 9, 7, 12, 30, 38, 20, 14, 86, 23, 40, 100, 73, 14, 10, 58, 63, 48, 24, 47, 48, 9, 25, 16, 45, 68, 4, 31, 41, 10, 27, 25, 22, 54, 40, 26, 35, 59, 26, 7, 42, 22, 30, 6, 28, 33, 63, 63, 58, 17, 58, 20, 45, 2, 32, 19, 10, 43, 46, 47, 100, 12, 27, 2, 12, 4, 10, 9, 8, 15, 10, 36, 50, 75, 20, 14, 92, 38, 79, 12, 48, 40, 42, 17, 16, 10, 55, 65, 9, 39, 43, 40, 43, 48, 14, 27, 30, 71, 72, 12, 31, 61, 47, 25, 45, 69, 1, 23, 46, 6, 31, 14, 45, 53, 36, 34, 81, 21, 12, 40, 24, 35, 91, 23, 100, 3, 17, 19, 54, 60, 47, 53, 6, 12, 8, 94, 76, 45, 33, 91, 87, 14, 58, 30, 80, 91, 30, 19, 40, 75, 38, 49, 44, 26, 48, 83, 17, 1, 19, 39, 69, 6, 19, 5, 11, 38, 8, 20, 6, 35, 62, 29, 8, 15, 86, 25, 8, 80, 28, 37, 29, 10, 10, 42, 1, 45, 43, 86, 28, 19, 76, 89, 22, 38, 25, 46, 43, 30, 10, 19, 11, 18, 22, 91, 18, 15, 43, 8, 78, 53, 36, 14, 17, 64, 34, 96, 16, 8, 12, 12, 12, 89, 29, 49, 59, 17, 92, 19, 68, 36, 23, 63, 97, 33, 80, 81, 56, 10, 19, 9, 13, 25, 37, 30, 43, 55, 1, 4, 18, 24, 7, 81, 41, 48, 61, 9, 12, 20, 91, 27, 36, 25, 9, 41, 25, 60, 68, 100, 50, 4, 15, 49, 9, 15, 5, 44, 88, 50, 22, 27, 63, 53, 9, 3, 89, 27, 44, 27, 66, 95, 93, 45, 3, 79, 36, 49, 61, 100, 20, 6, 50, 38, 42, 13, 21, 49, 77, 24, 47, 92, 37, 75, 40, 4, 17, 95, 89, 30, 19, 38, 41, 50, 29, 63, 16, 24, 78, 5, 6, 18, 27, 25, 36, 50, 5, 59, 59, 8, 98, 77, 42, 62, 46, 86, 26, 18, 37, 66, 34, 1, 21, 27, 54, 15, 21, 40, 23, 9, 7, 41, 87, 89, 33, 1, 47, 43, 31, 14, 71, 84, 44, 85, 19, 28, 81, 70, 60, 18, 42, 15, 37, 50, 13, 9, 23, 26, 63, 19, 23, 58, 24, 79, 47, 45, 58, 77, 85, 31, 5, 14, 2, 73, 6, 37, 40, 37, 25, 97, 44, 2, 27, 28, 1, 39, 13, 14, 84, 66, 19, 6, 3, 26, 5, 46, 39, 44, 5, 16, 21, 35, 2, 18, 49, 13, 38, 85, 7, 37, 27, 35, 40, 2, 28, 10, 9, 73, 9, 2, 83, 10, 80, 42, 30, 54, 3, 22, 33, 55, 29, 75, 79, 10, 22, 83, 36, 46, 43, 3, 2, 5, 31, 65, 23, 91, 53, 12, 3, 47, 89, 86, 46, 52, 24, 38, 45, 8, 45, 83, 4, 32, 11, 48, 27, 7, 34, 91, 14, 38, 60, 37, 37, 60, 34, 8, 38, 23, 58, 27, 22, 9, 18, 89, 5, 34, 44, 64, 23, 94, 49, 44, 65, 71, 39, 35, 80, 7, 2, 54, 3, 42, 10, 5, 12, 10, 35, 28, 20, 26, 32, 6, 27, 10, 95, 80, 1, 10, 23, 85, 5, 9, 13, 35, 41, 25, 16, 15, 36, 43, 6, 1, 5, 84, 43, 54, 8, 27, 50, 82, 23, 48, 44, 80, 46, 20, 45, 98, 39, 48, 39, 19, 21, 15, 6, 24, 40, 4, 27, 47, 33, 50, 86, 33, 5, 25, 49, 18, 89, 18, 36, 1, 46, 54, 20, 13, 31, 11, 53, 13, 47, 24, 75, 13, 6, 24, 62, 17, 87, 57, 47, 16, 1, 39, 46, 13, 49, 25, 10, 73, 28, 92, 27, 5, 14, 50, 48, 34, 49, 39, 8, 50, 30, 42, 72, 21, 15, 29, 28, 51, 72, 83, 36, 79, 24, 18, 25, 9, 5, 68, 92, 87, 45, 36, 45, 28, 99, 36, 73, 33, 51, 72, 45, 48, 2, 22, 88, 11, 15, 44, 19, 71, 3, 16, 34, 6, 44, 39, 40, 12, 9, 56, 5, 21, 75, 61, 71, 64, 49, 49, 47, 5, 46, 73, 88, 2, 18, 61, 27, 2, 86, 97, 57, 75, 13, 13, 1, 76, 15, 42, 43, 10, 75, 49, 31, 42, 47, 40, 10, 95, 40, 30, 16, 4, 42, 44, 31, 62, 4, 58, 40, 42, 33, 68, 35, 50, 26, 38, 41, 65, 26, 27, 17, 3, 32, 57, 2, 12, 76, 7, 26, 57, 17, 32, 13, 35, 6, 22, 43, 17, 89, 31, 24, 49, 46, 5, 33, 28, 24, 38, 9, 2, 40, 20, 90, 6, 3, 29, 16, 22, 56, 8, 74, 1, 92, 92, 39, 38, 9, 6, 62, 1, 32, 1, 42, 49, 38, 5, 83, 33, 11, 28, 27, 23, 27, 50, 25, 26, 36, 8, 35, 41, 39, 9, 47, 17, 19, 47, 60, 16, 50, 14, 59, 48, 28, 5, 51, 58, 8, 100, 10, 59, 36, 33, 18, 89, 84, 38, 9, 31, 81, 63, 23, 47, 14, 13, 27, 31, 11, 79, 3, 60, 22, 90, 24, 46, 11, 28, 51, 79, 92, 65, 66, 88, 7, 27, 24, 8, 48, 50, 32, 59, 82, 43, 49, 25, 4, 97, 41, 41, 36, 48, 47, 46, 17, 37, 37, 46, 31, 89, 63, 17, 6, 2, 40, 21, 46, 13, 37, 23, 43, 32, 72, 63, 3, 8, 7, 26, 28, 29, 66, 61, 96, 56, 24, 10, 44, 10, 13, 38, 31, 2, 33, 53, 47, 50, 57, 69, 49, 2, 20, 49, 38, 94, 13, 60, 24, 60, 54, 64, 68, 79, 22, 9, 32, 33, 46, 47, 35, 13, 24, 20, 10, 66, 86, 39, 3, 48, 10, 32, 27, 23, 46, 10, 35, 61, 18, 31, 100, 47, 40, 25, 22, 7, 66, 27, 11, 29, 75, 39, 29, 76, 39, 100, 5, 32, 42, 29, 3, 49, 45, 85, 13, 44, 20, 61, 35, 94, 3, 78, 54, 24, 46, 33, 40, 20, 39, 26, 9, 87, 27, 16, 23, 25, 69, 71, 10, 32, 12, 90, 91, 3, 20, 25, 20, 66, 49, 86, 69, 80, 28, 46, 45, 23, 28, 14, 43, 77, 48, 14, 14, 22, 17, 76, 41, 81, 58, 30, 34, 3, 88, 29, 31, 6, 100, 37, 48, 35, 7, 88, 61, 84, 36, 8, 45, 53, 25, 81, 59, 37, 34, 53, 62, 46, 1, 22, 4, 13, 16, 34, 12, 33, 20, 45, 77, 98, 48, 19, 50, 9, 72, 35, 47, 13, 36, 37, 7, 94, 68, 29, 18, 15, 34, 93, 49, 40, 41, 30, 42, 48, 60, 99, 15, 8, 10, 70, 92, 31, 11, 24, 16, 17, 13, 31, 13, 15, 44, 1, 25, 33, 69, 90, 16, 55, 31, 30, 23, 84, 30, 35, 59, 25, 6, 63, 1, 49, 48, 21, 48, 51, 19, 7, 34, 99, 21, 10, 50, 10, 71, 44, 52, 53, 41, 17, 72, 4, 12, 44, 1, 46, 10, 99, 26, 28, 9, 14, 9, 11, 83, 24, 66, 15, 27, 15, 8, 77, 19, 43, 16, 35, 29, 42, 48, 11, 39, 39, 8, 76, 40, 8, 22, 28, 13, 87, 27, 36, 48, 1, 19, 87, 59, 7, 14, 58, 29, 41, 41, 32, 6, 13, 36, 88, 44, 3, 54, 29, 47, 97, 45, 21, 40, 30, 5, 47, 2, 19, 14, 58, 23, 8, 33, 13, 6, 37, 30, 39, 78, 5, 27, 92, 33, 33, 2, 12, 22, 50, 75, 57, 79, 93, 37, 58, 29, 76, 31, 56, 42, 92, 87, 42, 27, 9, 10, 12, 83, 9, 11, 6, 16, 23, 55, 1, 15, 59, 37, 97, 20, 47, 27, 74, 40, 44, 8, 39, 64, 100, 9, 27, 64, 43, 25, 1, 48, 40, 30, 6, 4, 13, 69, 44, 80, 21, 44, 42, 19, 21, 1, 92, 99, 47, 91, 5, 21, 43, 50, 64, 50, 67, 29, 80, 17, 22, 23, 41, 24, 90, 47, 7, 49, 13, 72, 99, 35, 91, 6, 76, 29, 2, 97, 2, 16, 12, 3, 12, 6, 44, 12, 5, 26, 91, 38, 15, 43, 44, 40, 40, 43, 36, 35, 44, 50, 30, 31, 46, 1, 84, 20, 29, 41, 49, 25, 57, 16, 3, 22, 68, 16, 19, 49, 6, 24, 75, 48, 3, 91, 73, 91, 13, 4, 29, 14, 29, 10, 38, 74, 12, 86, 22, 32, 67, 72, 45, 12, 49, 13, 6, 31, 78, 50, 83, 22, 32, 7, 3, 39, 75, 33, 36, 98, 14, 13, 14, 91, 64, 16, 56, 28, 19, 14, 17, 17, 10, 14, 3, 49, 92, 21, 7, 23, 24, 17, 39, 98, 13, 37, 4, 95, 85, 16, 16, 19, 36, 66, 65, 4, 40, 63, 10, 22, 76, 55, 60, 65, 30, 41, 36, 43, 33, 11, 47, 26, 33, 5, 81, 39, 19, 28, 10, 69, 98, 37, 50, 2, 42, 13, 47, 66, 38, 16, 46, 17, 18, 45, 3, 29, 47, 12, 50, 44, 2, 39, 25, 5, 13, 52, 43, 45, 10, 70, 8, 20, 8, 20, 27, 6, 40, 41, 63, 100, 29, 47, 58, 49, 66, 16, 47, 5, 49, 31, 47, 36, 50, 16, 70, 29, 40, 37, 97, 96, 67, 17, 60, 50, 31, 25, 53, 15, 79, 24, 99, 18, 2, 51, 47, 90, 57, 76, 50, 16, 49, 15, 39, 2, 63, 39, 2, 95, 5, 35, 22, 69, 40, 100, 11, 15, 29, 40, 22, 61, 50, 5, 25, 11, 47, 74, 18, 73, 1, 16, 86, 14, 15, 56, 60, 8, 29, 14, 28, 53, 44, 88, 17, 100, 11, 13, 29, 31, 56, 41, 44, 44, 22, 37, 45, 30, 7, 40, 10, 63, 9, 41, 45, 96, 71, 58, 72, 21, 30, 13, 39, 23, 21, 44, 25, 33, 63, 84, 3, 84, 98, 49, 6, 42, 15, 1, 17, 62, 10, 83, 4, 32, 95, 40, 28, 4, 23, 86, 44, 91, 4, 10, 44, 17, 18, 83, 14, 25, 2, 90, 21, 38, 58, 31, 3, 36, 100, 91, 46, 31, 20, 99, 16, 80, 48, 72, 7, 39, 38, 3, 36, 11, 61, 38, 28, 27, 29, 59, 18, 24, 67, 31, 24, 42, 12, 15, 33, 44, 8, 99, 42, 19, 42, 96, 97, 51, 36, 9, 72, 24, 23, 34, 42, 33, 61, 13, 26, 23, 9, 29, 93, 4, 14, 37, 86, 11, 66, 33, 25, 50, 28, 26, 37, 48, 50, 21, 40, 50, 35, 16, 83, 89, 14, 7, 39, 35, 43, 7, 37, 39, 16, 33, 26, 72, 1, 62, 71, 48, 93, 57, 51, 48, 9, 33, 35, 11, 37, 34, 4, 1, 8, 41, 18, 10, 34, 27, 2, 30, 30, 93, 24, 38, 3, 8, 74, 25, 40, 80, 27, 43, 21, 1, 77, 51, 48, 72, 48, 43, 39, 53, 28, 92, 85, 58, 22, 63, 10, 64, 79, 74, 86, 35, 16, 56, 54, 44, 12, 59, 10, 35, 97, 44, 22, 6, 39, 75, 36, 8, 14, 15, 60, 24, 4, 30, 59, 18, 38, 34, 75, 1, 51, 11, 15, 57, 4, 94, 26, 22, 29, 58, 7, 98, 53, 4, 37, 4, 2, 54, 44, 53, 52, 86, 31, 26, 81, 60, 15, 34, 31, 30, 44, 44, 5, 45, 6, 81, 66, 50, 92, 8, 9, 79, 75, 67, 12, 56, 84, 52, 49, 10, 49, 40, 18, 47, 16, 20, 33, 10, 4, 54, 66, 30, 16, 26, 21, 13, 33, 38, 85, 90, 11, 4, 45, 42, 31, 38, 73, 15, 3, 45, 93, 84, 1, 60, 13, 4, 81, 6, 19, 40, 27, 10, 4, 36, 25, 12, 27, 92, 17, 44, 32, 62, 44, 46, 40, 57, 7, 50, 26, 11, 20, 18, 22, 12, 88, 5, 93, 39, 9, 31, 30, 30, 50, 4, 46, 70, 72, 26, 10, 41, 36, 86, 3, 34, 88, 15, 64, 31, 9, 9, 49, 10, 9, 55, 41, 21, 12, 43, 26, 88, 48, 27, 40, 45, 90, 5, 93, 73, 15, 6, 24, 3, 32, 38, 36, 49, 41, 26, 29, 59, 41, 24, 7, 46, 44, 23, 10, 93, 36, 59, 43, 18, 70, 88, 22, 46, 31, 43, 22, 17, 13, 70, 34, 36, 82, 4, 18, 28, 39, 82, 32, 20, 17, 10, 20, 15, 12, 78, 5, 43, 51, 32, 49, 13, 58, 32, 71, 18, 19, 17, 11, 73, 2, 49, 85, 65, 32, 37, 12, 24, 28, 47, 77, 31, 4, 9, 3, 12, 13, 38, 50, 14, 47, 35, 24, 20, 33, 20, 23, 24, 38, 24, 86, 31, 46, 3, 20, 14, 15, 28, 78, 22, 46, 45, 50, 23, 24, 15, 28, 28, 61, 48, 32, 4, 29, 20, 35, 76, 33, 22, 26, 32, 63, 55, 86, 28, 38, 78, 57, 98, 10, 91, 30, 2, 40, 32, 66, 45, 52, 16, 23, 16, 2, 15, 14, 5, 15, 47, 14, 13, 11, 27, 17, 38, 20, 40, 44, 32, 37, 92, 21, 41, 32, 30, 32, 44, 3, 44, 53, 5, 23, 95, 45, 38, 20, 61, 47, 23, 41, 24, 33, 43, 14, 79, 42, 9, 49, 20, 84, 14, 19, 49, 16, 9, 16, 65, 93, 10, 31, 12, 47, 49, 35, 3, 44, 34, 93, 2, 38, 26, 66, 49, 77, 46, 2, 32, 4, 26, 36, 18, 46, 7, 48, 28, 91, 26, 27, 87, 86, 73, 77, 28, 58, 76, 27, 32, 48, 8, 20, 49, 8, 34, 39, 79, 5, 21, 50, 95, 43, 23, 19, 45, 68, 27, 2, 19, 11, 49, 59, 4, 52, 18, 71, 46, 64, 86, 98, 13, 18, 27, 39, 48, 51, 15, 37, 12, 13, 45, 29, 3, 31, 37, 19, 87, 20, 38, 76, 95, 23, 46, 43, 34, 42, 50, 20, 16, 40, 80, 30, 29, 29, 75, 67, 3, 3, 44, 40, 1, 39, 8, 46, 5, 49, 34, 19, 37, 42, 6, 8, 98, 14, 12, 30, 31, 41, 39, 49, 42, 93, 18, 46, 36, 28, 18, 34, 64, 36, 3, 46, 15, 37, 25, 39, 13, 4, 3, 97, 99, 32, 68, 50, 100, 31, 33, 41, 69, 54, 21, 32, 15, 37, 26, 47, 30, 23, 72, 15, 31, 49, 48, 23, 97, 74, 35, 22, 13, 43, 45, 15, 99, 42, 76, 22, 2, 86, 72, 50, 44, 65, 49, 99, 17, 24, 28, 84, 28, 38, 42, 80, 75, 1, 43, 27, 8, 85, 77, 50, 63, 19, 38, 18, 11, 39, 31, 9, 13, 48, 25, 32, 5, 85, 24, 73, 9, 80, 37, 42, 36, 41, 40, 98, 16, 7, 73, 46, 20, 14, 62, 23, 41, 1, 29, 32, 51, 45, 18, 39, 27, 5, 9, 42, 8, 42, 28, 64, 37, 33, 30, 90, 99, 46, 35, 56, 7, 6, 47, 78, 26, 27, 53, 37, 62, 12, 24, 7, 14, 24, 6, 27, 56, 15, 25, 46, 11, 9, 21, 11, 59, 11, 41, 17, 43, 2, 13, 64, 24, 21, 25, 62, 11, 90, 25, 14, 78, 31, 43, 16, 39, 34, 28, 50, 97, 16, 33, 2, 99, 20, 15, 4, 34, 42, 97, 32, 3, 33, 29, 3, 47, 89, 13, 14, 22, 19, 42, 44, 48, 67, 14, 93, 58, 27, 17, 2, 46, 19, 7, 27, 99, 22, 89, 21, 30, 40, 16, 30, 29, 24, 6, 8, 95, 8, 4, 11, 50, 34, 13, 67, 7, 54, 8, 92, 3, 50, 14, 34, 47, 62, 45, 58, 16, 99, 32, 12, 33, 35, 56, 11, 39, 22, 2, 84, 39, 24, 50, 7, 36, 21, 4, 78, 45, 60, 5, 29, 23, 49, 86, 91, 65, 19, 39, 22, 99, 17, 41, 40, 24, 50, 18, 56, 92, 1, 24, 34, 50, 25, 9, 84, 4, 17, 77, 97, 80, 86, 10, 35, 52, 12, 17, 100, 63, 29, 97, 23, 91, 4, 49, 41, 44, 99, 54, 74, 33, 4, 72, 50, 26, 20, 83, 22, 63, 22, 2, 4, 27, 79, 98, 12, 99, 37, 16, 1, 1, 94, 35, 25, 66, 36, 11, 65, 46, 12, 23, 16, 36, 40, 89, 27, 61, 95, 39, 25, 33, 17, 4, 10, 40, 68, 92, 4, 36, 28, 18, 7, 32, 39, 6, 14, 86, 96, 60, 19, 37, 5, 3, 8, 90, 12, 26, 12, 14, 18, 66, 29, 80, 45, 35, 23, 47, 3, 54, 51, 74, 46, 6, 30, 16, 53, 12, 45, 49, 74, 68, 35, 55, 18, 68, 54, 39, 60, 7, 16, 24, 88, 19, 42, 22, 74, 54, 12, 11, 28, 37, 12, 12, 44, 37, 69, 39, 46, 37, 17, 81, 43, 1, 16, 16, 16, 48, 32, 69, 19, 15, 99, 51, 19, 39, 85, 14, 29, 67, 42, 13, 23, 30, 93, 7, 19, 48, 66, 47, 15, 24, 92, 70, 24, 13, 36, 61, 9, 96, 14, 67, 36, 29, 20, 16, 80, 31, 7, 16, 35, 32, 5, 25, 25, 38, 57, 4, 49, 55, 20, 80, 21, 13, 100, 33, 46, 12, 24, 23, 63, 5, 71, 5, 40, 34, 11, 43, 37, 4, 36, 93, 26, 31, 10, 40, 19, 33, 28, 48, 84, 48, 14, 2, 41, 61, 3, 34, 5, 16, 74, 27, 79, 73, 14, 23, 32, 36, 23, 79, 33, 38, 33, 96, 95, 32, 87, 8, 35, 45, 6, 34, 20, 5, 65, 38, 18, 4, 47, 7, 76, 16, 4, 23, 3, 32, 37, 3, 32, 27, 83, 1, 46, 32, 44, 29, 55, 7, 82, 54, 39, 45, 23, 70, 16, 28, 12, 10, 15, 49, 23, 5, 22, 45, 17, 34, 17, 100, 57, 19, 42, 54, 18, 13, 10, 42, 42, 44, 48, 44, 27, 43, 10, 84, 11, 50, 31, 10, 4, 30, 7, 93, 20, 53, 74, 33, 70, 37, 3, 42, 18, 29, 13, 47, 27, 80, 51, 6, 47, 11, 66, 22, 23, 16, 46, 31, 19, 45, 45, 41, 29, 60, 19, 39, 78, 45, 3, 50, 26, 43, 79, 22, 45, 1, 24, 22, 1, 24, 14, 49, 10, 44, 12, 35, 12, 12, 24, 23, 91, 84, 2, 27, 39, 68, 10, 81, 94, 75, 44, 1, 26, 24, 19, 20, 30, 46, 42, 34, 13, 52, 66, 30, 19, 37, 90, 14, 5, 17, 85, 54, 42, 87, 11, 68, 38, 69, 17, 77, 5, 35, 50, 48, 6, 47, 48, 9, 47, 22, 59, 36, 78, 13, 76, 11, 79, 97, 38, 31, 18, 21, 67, 44, 62, 31, 68, 31, 12, 18, 2, 22, 47, 95, 30, 100, 33, 27, 80, 65, 90, 32, 10, 9, 77, 71, 37, 36, 27, 38, 100, 24, 43, 20, 22, 68, 99, 32, 41, 15, 30, 91, 57, 13, 16, 17, 57, 32, 95, 13, 12, 19, 31, 42, 1, 26, 39, 15, 31, 12, 31, 17, 13, 32, 29, 21, 38, 56, 28, 37, 8, 90, 81, 3, 70, 52, 13, 28, 65, 66, 11, 28, 8, 44, 47, 34, 29, 34, 50, 72, 14, 9, 46, 92, 97, 8, 99, 16, 1, 91, 4, 14, 49, 4, 33, 34, 64, 5, 8, 90, 92, 81, 26, 66, 49, 98, 66, 94, 88, 48, 58, 33, 11, 27, 16, 39, 61, 65, 4, 93, 17, 26, 93, 35, 41, 33, 45, 15, 93, 47, 84, 51, 69, 17, 11, 33, 74, 13, 24, 4, 34, 31, 49, 79, 24, 9, 5, 12, 28, 50, 35, 17, 32, 25, 84, 35, 83, 33, 88, 5, 40, 50, 77, 29, 48, 2, 38, 35, 86, 46, 46, 39, 46, 40, 98, 6, 20, 49, 83, 58, 31, 41, 70, 30, 46, 47, 16, 97, 48, 93, 35, 69, 31, 7, 13, 22, 4, 5, 29, 22, 50, 68, 3, 23, 23, 5, 24, 38, 5, 11, 25, 45, 95, 45, 21, 72, 25, 36, 8, 23, 42, 97, 37, 6, 35, 15, 8, 24, 25, 92, 75, 7, 18, 27, 24, 8, 42, 51, 11, 1, 64, 1, 6, 99, 30, 36, 25, 43, 33, 47, 85, 100, 26, 51, 6, 80, 18, 38, 87, 6, 19, 4, 43, 74, 40, 47, 32, 21, 17, 30, 13, 49, 98, 40, 37, 37, 45, 29, 94, 61, 15, 63, 25, 39, 11, 36, 78, 33, 6, 49, 49, 68, 31, 29, 28, 40, 61, 66, 62, 8, 78, 18, 48, 3, 14, 13, 79, 38, 16, 17, 23, 20, 11, 25, 97, 2, 32, 46, 25, 33, 36, 45, 87, 44, 22, 96, 15, 45, 64, 72, 21, 10, 32, 42, 33, 39, 84, 83, 41, 10, 30, 35, 91, 97, 95, 8, 24, 7, 72, 26, 34, 42, 50, 2, 38, 32, 39, 19, 42, 36, 22, 51, 45, 45, 16, 17, 26, 77, 7, 46, 34, 4, 50, 69, 28, 45, 24, 18, 38, 56, 32, 89, 49, 2, 85, 95, 41, 6, 16, 36, 35, 39, 76, 40, 42, 16, 45, 10, 1, 3, 48, 44, 31, 43, 76, 36, 46, 27, 13, 39, 78, 35, 88, 22, 64, 7, 99, 80, 5, 55, 32, 58, 71, 16, 1, 5, 4, 38, 34, 63, 6, 9, 47, 43, 37, 12, 24, 49, 23, 28, 15, 51, 32, 79, 29, 26, 6, 39, 11, 78, 30, 38, 34, 87, 8, 14, 9, 17, 28, 69, 39, 7, 39, 26, 31, 12, 10, 45, 33, 73, 23, 92, 4, 4, 67, 75, 95, 48, 3, 49, 21, 86, 19, 13, 2, 64, 77, 88, 31, 68, 21, 3, 31, 65, 35, 37, 36, 5, 67, 35, 45, 26, 42, 96, 13, 24, 9, 6, 17, 6, 70, 23, 15, 39, 80, 24, 26, 46, 41, 2, 25, 8, 6, 11, 8, 30, 32, 25, 26, 36, 17, 26, 43, 29, 38, 31, 28, 37, 9, 41, 46, 26, 42, 12, 31, 87, 47, 48, 35, 30, 7, 5, 40, 73, 17, 82, 30, 7, 31, 31, 19, 51, 76, 3, 7, 27, 30, 79, 48, 85, 36, 44, 23, 22, 53, 50, 23, 20, 30, 3, 91, 18, 29, 10, 56, 23, 13, 32, 21, 58, 64, 26, 46, 66, 21, 21, 34, 29, 75, 29, 53, 21, 46, 21, 30, 70, 32, 39, 90, 26, 28, 23, 76, 86, 16, 27, 48, 35, 35, 27, 11, 98, 60, 19, 19, 87, 27, 1, 8, 24, 100, 34, 12, 36, 64, 46, 22, 81, 19, 29, 25, 36, 32, 4, 19, 5, 14, 30, 5, 57, 8, 54, 3, 30, 17, 47, 27, 27, 21, 40, 31, 38, 28, 100, 60, 15, 42, 100, 1, 19, 32, 60, 5, 3, 23, 45, 49, 13, 1, 17, 13, 63, 42, 23, 66, 29, 44, 8, 32, 18, 97, 23, 13, 12, 56, 24, 15, 4, 19, 46, 15, 58, 97, 62, 54, 76, 13, 47, 42, 64, 57, 90, 9, 4, 90, 20, 2, 9, 3, 35, 1, 9, 61, 76, 72, 40, 42, 8, 94, 77, 41, 40, 84, 16, 94, 18, 94, 98, 75, 78, 67, 27, 34, 17, 33, 37, 12, 45, 72, 4, 19, 14, 13, 57, 5, 48, 20, 38, 90, 22, 85, 21, 36, 24, 8, 87, 97, 33, 23, 75, 99, 17, 11, 9, 3, 47, 100, 12, 81, 37, 33, 78, 34, 9, 88, 79, 47, 13, 97, 5, 17, 12, 99, 5, 64, 9, 27, 20, 60, 13, 70, 14, 92, 54, 30, 50, 37, 28, 3, 15, 17, 36, 17, 27, 16, 42, 31, 75, 5, 92, 13, 32, 17, 76, 23, 92, 50, 9, 38, 24, 4, 38, 2, 2, 11, 25, 22, 40, 32, 48, 35, 32, 31, 15, 62, 83, 76, 90, 44, 2, 36, 59, 44, 20, 89, 80, 17, 71, 27, 45, 23, 40, 40, 25, 33, 85, 38, 7, 46, 24, 55, 46, 1, 41, 29, 44, 4, 12, 35, 23, 98, 41, 22, 17, 15, 91, 76, 8, 76, 45, 12, 91, 37, 12, 32, 27, 40, 75, 30, 30, 10, 28, 34, 29, 73, 2, 10, 19, 20, 30, 43, 80, 21, 87, 80, 47, 49, 12, 88, 21, 20, 80, 34, 30, 8, 39, 2, 25, 3, 23, 82, 37, 8, 34, 55, 8, 14, 84, 8, 12, 57, 31, 38, 46, 42, 19, 36, 53, 63, 40, 57, 14, 75, 29, 69, 24, 9, 60, 46, 22, 29, 6, 48, 42, 44, 26, 87, 9, 27, 52, 80, 87, 46, 32, 34, 55, 18, 27, 44, 11, 16, 29, 14, 6, 100, 64, 17, 76, 97, 36, 97, 32, 13, 23, 23, 43, 17, 56, 89, 31, 18, 25, 8, 97, 38, 25, 14, 14, 41, 24, 10, 51, 59, 69, 2, 81, 8, 80, 26, 54, 53, 5, 12, 3, 36, 6, 36, 11, 29, 7, 62, 17, 74, 41, 16, 24, 5, 3, 66, 29, 80, 47, 1, 94, 3, 7, 21, 3, 12, 7, 34, 41, 44, 61, 9, 35, 57, 5, 22, 31, 70, 21, 30, 61, 7, 18, 47, 64, 31, 21, 33, 44, 40, 30, 1, 50, 30, 26, 34, 24, 63, 36, 33, 16, 57, 83, 15, 37, 33, 8, 16, 21, 32, 1, 55, 10, 12, 7, 82, 83, 53, 20, 86, 35, 3, 62, 15, 8, 10, 38, 37, 35, 98, 46, 37, 12, 86, 94, 56, 59, 20, 32, 22, 3, 49, 3, 49, 1, 15, 40, 25, 63, 28, 4, 43, 18, 18, 38, 32, 24, 28, 6, 1, 77, 53, 14, 38, 48, 60, 50, 37, 27, 43, 48, 28, 22, 26, 65, 16, 13, 2, 23, 4, 7, 5, 16, 46, 47, 50, 46, 64, 17, 23, 17, 44, 13, 34, 36, 6, 77, 15, 3, 49, 99, 88, 13, 24, 89, 65, 88, 5, 14, 95, 39, 66, 90, 41, 42, 5, 36, 99, 30, 42, 20, 39, 13, 15, 39, 45, 29, 4, 1, 65, 21, 49, 51, 43, 6, 43, 57, 8, 12, 41, 42, 48, 57, 89, 23, 24, 70, 40, 6, 87, 12, 33, 37, 25, 24, 23, 5, 58, 5, 36, 64, 24, 6, 74, 22, 40, 4, 37, 43, 67, 21, 26, 66, 4, 57, 95, 40, 29, 54, 2, 12, 42, 7, 13, 85, 46, 29, 45, 35, 89, 100, 99, 28, 4, 33, 12, 41, 10, 32, 20, 39, 33, 90, 26, 38, 32, 6, 12, 28, 17, 58, 57, 39, 73, 72, 60, 36, 5, 79, 20, 16, 70, 97, 36, 36, 41, 13, 32, 99, 43, 10, 73, 74, 28, 47, 29, 78, 12, 68, 27, 39, 44, 30, 38, 62, 84, 88, 95, 44, 57, 25, 30, 17, 11, 61, 14, 4, 20, 38, 96, 51, 31, 23, 67, 43, 49, 12, 57, 44, 39, 75, 4, 44, 19, 76, 40, 29, 43, 46, 8, 49, 17, 28, 63, 38, 75, 7, 54, 54, 18, 24, 40, 12, 6, 19, 10, 34, 19, 92, 41, 5, 24, 66, 66, 63, 42, 31, 19, 43, 9, 13, 12, 83, 21, 47, 6, 41, 47, 36, 29, 85, 33, 4, 9, 29, 21, 46, 46, 31, 36, 22, 18, 25, 24, 92, 32, 47, 26, 32, 14, 34, 17, 24, 8, 46, 56, 17, 6, 27, 44, 35, 17, 8, 35, 28, 42, 1, 83, 3, 78, 42, 48, 36, 44, 7, 46, 39, 7, 55, 24, 44, 50, 3, 44, 41, 20, 28, 22, 17, 63, 78, 37, 20, 87, 2, 44, 49, 17, 75, 42, 45, 26, 17, 7, 66, 18, 49, 71, 87, 81, 49, 40, 8, 20, 37, 68, 69, 44, 49, 41, 19, 6, 86, 27, 18, 35, 28, 34, 23, 32, 41, 35, 8, 43, 3, 86, 26, 70, 7, 34, 58, 38, 28, 26, 19, 18, 48, 91, 26, 69, 45, 52, 14, 53, 84, 15, 2, 7, 31, 20, 17, 21, 94, 1, 82, 31, 23, 14, 85, 8, 16, 32, 5, 49, 5, 75, 90, 61, 56, 20, 49, 33, 14, 49, 82, 48, 88, 6, 25, 49, 2, 54, 16, 32, 7, 44, 39, 27, 21, 1, 13, 24, 40, 55, 87, 20, 30, 13, 8, 11, 72, 45, 3, 97, 27, 12, 67, 28, 43, 1, 11, 11, 31, 23, 5, 40, 42, 47, 18, 53, 33, 44, 23, 29, 4, 14, 64, 40, 52, 31, 7, 45, 17, 92, 35, 97, 50, 62, 50, 28, 47, 47, 80, 85, 35, 1, 28, 9, 34, 82, 80, 56, 1, 4, 31, 25, 34, 14, 63, 47, 100, 30, 26, 89, 1, 46, 9, 35, 81, 21, 31, 2, 6, 24, 97, 25, 46, 33, 53, 9, 6, 21, 2, 65, 38, 6, 95, 28, 7, 29, 25, 49, 31, 89, 20, 71, 41, 1, 4, 36, 37, 46, 25, 47, 48, 42, 4, 24, 46, 63, 19, 16, 44, 68, 14, 96, 40, 17, 85, 91, 30, 8, 44, 26, 57, 15, 69, 42, 11, 25, 23, 45, 1, 50, 35, 14, 48, 27, 23, 81, 19, 58, 35, 14, 4, 38, 57, 12, 49, 63, 25, 16, 29, 58, 24, 51, 16, 42, 9, 79, 52, 54, 94, 31, 33, 31, 39, 34, 23, 88, 21, 64, 35, 20, 29, 33, 86, 4, 94, 90, 40, 13, 60, 14, 23, 50, 35, 36, 28, 72, 25, 20, 26, 7, 16, 6, 28, 31, 10, 7, 64, 2, 84, 64, 21, 58, 7, 86, 82, 3, 43, 19, 31, 8, 7, 24, 46, 32, 48, 6, 20, 1, 18, 49, 59, 45, 21, 47, 33, 14, 93, 32, 24, 6, 26, 55, 46, 7, 48, 83, 18, 43, 4, 38, 22, 7, 8, 92, 36, 43, 2, 25, 17, 18, 43, 14, 59, 45, 22, 12, 64, 43, 36, 54, 68, 9, 8, 54, 47, 49, 7, 10, 86, 20, 46, 82, 44, 34, 49, 28, 4, 9, 13, 26, 23, 22, 50, 35, 3, 16, 14, 3, 24, 54, 13, 2, 29, 33, 65, 16, 41, 64, 31, 5, 26, 68, 36, 21, 22, 14, 46, 73, 48, 25, 22, 23, 25, 40, 30, 5, 19, 16, 35, 36, 91, 12, 33, 10, 28, 49, 38, 22, 26, 55, 71, 13, 19, 43, 44, 26, 29, 41, 38, 11, 4, 19, 21, 15, 6, 2, 17, 68, 65, 31, 20, 36, 2, 11, 96, 53, 98, 11, 11, 50, 9, 56, 14, 13, 38, 12, 11, 27, 37, 1, 5, 3, 4, 12, 14, 1, 20, 8, 47, 34, 69, 42, 24, 16, 59, 98, 26, 100, 27, 38, 77, 38, 78, 14, 81, 75, 22, 31, 33, 43, 11, 19, 91, 74, 95, 72, 14, 97, 36, 90, 98, 50, 56, 6, 53, 1, 83, 3, 54, 10, 45, 13, 50, 54, 3, 18, 92, 88, 42, 20, 43, 26, 50, 27, 8, 28, 14, 28, 19, 44, 46, 38, 19, 46, 75, 93, 21, 80, 40, 29, 27, 48, 58, 19, 29, 46, 8, 89, 69, 36, 84, 56, 49, 97, 9, 46, 27, 57, 63, 28, 35, 73, 30, 45, 25, 21, 8, 16, 22, 93, 41, 14, 4, 99, 68, 14, 25, 92, 16, 3, 34, 43, 18, 25, 16, 49, 29, 45, 32, 9, 20, 48, 45, 84, 22, 20, 13, 77, 24, 44, 18, 4, 13, 34, 14, 24, 11, 10, 43, 16, 17, 48, 14, 49, 46, 79, 9, 45, 50, 48, 46, 24, 38, 26, 18, 14, 11, 20, 12, 10, 33, 34, 27, 5, 35, 100, 44, 63, 23, 11, 21, 35, 7, 40, 39, 6, 75, 19, 2, 58, 45, 54, 36, 71, 10, 29, 38, 28, 17, 63, 29, 24, 9, 8, 45, 46, 45, 73, 12, 58, 59, 91, 38, 16, 30, 40, 17, 43, 6, 3, 69, 43, 63, 24, 24, 36, 84, 8, 39, 40, 68, 98, 94, 35, 13, 12, 45, 25, 26, 38, 1, 15, 86, 26, 27, 91, 28, 14, 15, 38, 10, 3, 20, 7, 15, 12, 40, 18, 92, 68, 8, 17, 43, 62, 47, 46, 33, 82, 75, 50, 33, 5, 32, 16, 28, 61, 10, 50, 24, 33, 70, 50, 17, 74, 35, 21, 46, 26, 16, 37, 12, 99, 19, 1, 2, 15, 13, 39, 27, 50, 39, 69, 17, 68, 83, 12, 8, 35, 22, 43, 66, 16, 14, 45, 80, 28, 23, 61, 10, 37, 15, 43, 27, 81, 4, 49, 24, 34, 82, 48, 90, 14, 51, 89, 29, 2, 77, 25, 9, 28, 30, 92, 48, 75, 13, 38, 90, 5, 58, 72, 3, 38, 4, 28, 24, 25, 30, 7, 3, 37, 23, 20, 74, 20, 45, 37, 20, 5, 40, 39, 32, 43, 41, 46, 16, 63, 81, 12, 3, 3, 19, 21, 13, 69, 82, 56, 26, 70, 27, 2, 18, 68, 8, 31, 14, 40, 33, 42, 28, 18, 29, 34, 80, 24, 43, 13, 84, 13, 13, 34, 38, 41, 92, 22, 63, 7, 63, 62, 9, 3, 6, 80, 21, 45, 8, 71, 28, 38, 28, 15, 49, 3, 80, 34, 39, 4, 12, 4, 25, 10, 33, 3, 16, 19, 46, 50, 5, 35, 42, 1, 49, 1, 19, 38, 44, 89, 11, 57, 70, 43, 91, 35, 24, 15, 94, 44, 49, 14, 30, 2, 10, 81, 91, 74, 4, 74, 43, 13, 10, 37, 17, 38, 89, 48, 28, 5, 6, 52, 17, 44, 28, 39, 20, 41, 21, 87, 19, 5, 82, 31, 98, 28, 47, 44, 50, 42, 2, 43, 17, 12, 55, 42, 63, 41, 20, 15, 40, 24, 47, 51, 54, 31, 19, 7, 74, 43, 19, 73, 39, 49, 27, 25, 78, 17, 52, 16, 34, 14, 36, 33, 15, 26, 26, 24, 38, 82, 21, 48, 65, 25, 62, 22, 41, 29, 39, 20, 6, 4, 8, 2, 28, 7, 30, 93, 28, 91, 80, 12, 61, 87, 46, 7, 20, 75, 18, 10, 30, 25, 31, 48, 25, 16, 4, 75, 68, 41, 45, 3, 18, 29, 20, 9, 61, 47, 7, 28, 97, 38, 49, 3, 36, 24, 54, 1, 4, 36, 1, 40, 4, 2, 30, 81, 4, 46, 28, 22, 30, 45, 42, 26, 3, 6, 9, 33, 26, 26, 81, 5, 26, 20, 48, 88, 3, 71, 90, 3, 64, 9, 36, 77, 31, 98, 95, 47, 14, 32, 41, 11, 80, 3, 10, 37, 32, 41, 5, 22, 90, 4, 64, 17, 43, 1, 80, 23, 40, 18, 56, 97, 28, 37, 82, 39, 41, 9, 46, 11, 48, 46, 11, 44, 52, 97, 53, 47, 64, 36, 22, 49, 28, 66, 91, 33, 88, 27, 2, 23, 89, 73, 28, 19, 51, 86, 24, 28, 40, 23, 49, 25, 15, 21, 83, 29, 68, 24, 86, 68, 17, 4, 4, 5, 48, 21, 1, 27, 30, 16, 35, 67, 81, 94, 93, 89, 30, 8, 8, 59, 97, 24, 24, 48, 7, 26, 4, 11, 46, 32, 9, 26, 8, 77, 44, 35, 61, 10, 48, 23, 77, 15, 65, 8, 89, 11, 35, 25, 29, 77, 27, 71, 52, 14, 37, 46, 1, 19, 80, 79, 19, 35, 4, 26, 53, 16, 59, 61, 57, 12, 65, 18, 59, 44, 11, 52, 2, 50, 89, 61, 17, 3, 37, 1, 87, 15, 23, 49, 39, 6, 44, 41, 44, 10, 83, 59, 21, 95, 87, 26, 23, 3, 76, 47, 27, 49, 4, 44, 43, 36, 19, 34, 50, 90, 9, 51, 35, 63, 50, 34, 27, 24, 88, 82, 17, 11, 20, 50, 52, 97, 14, 3, 43, 22, 38, 46, 61, 18, 68, 100, 58, 45, 42, 92, 92, 81, 49, 16, 8, 4, 10, 14, 21, 99, 7, 47, 46, 6, 46, 19, 6, 41, 24, 98, 21, 39, 30, 45, 10, 61, 10, 16, 98, 84, 45, 25, 30, 41, 17, 10, 9, 24, 30, 69, 36, 51, 34, 27, 51, 37, 36, 39, 59, 98, 21, 100, 71, 43, 36, 5, 33, 19, 13, 28, 4, 39, 71, 5, 9, 4, 14, 73, 44, 85, 94, 17, 92, 17, 56, 10, 36, 48, 66, 2, 95, 12, 88, 54, 18, 24, 77, 48, 89, 6, 45, 38, 49, 12, 60, 46, 50, 87, 35, 10, 44, 39, 77, 9, 20, 8, 19, 8, 29, 70, 32, 8, 36, 65, 65, 47, 65, 65, 38, 20, 23, 49, 25, 5, 11, 32, 41, 4, 16, 18, 47, 50, 54, 99, 49, 87, 62, 39, 28, 100, 36, 90, 9, 27, 11, 35, 10, 87, 24, 60, 28, 14, 49, 26, 49, 6, 21, 23, 17, 4, 35, 20, 80, 32, 26, 24, 34, 5, 57, 2, 38, 59, 40, 24, 36, 82, 74, 2, 12, 6, 49, 37, 36, 6, 20, 33, 7, 20, 99, 4, 11, 15, 8, 7, 42, 47, 22, 12, 5, 28, 41, 4, 13, 34, 50, 46, 28, 33, 27, 25, 65, 19, 3, 33, 47, 43, 40, 47, 11, 21, 12, 17, 3, 76, 21, 18, 33, 13, 16, 2, 50, 48, 50, 93, 11, 22, 81, 72, 10, 41, 61, 71, 2, 37, 18, 50, 13, 17, 86, 100, 39, 62, 84, 21, 49, 8, 5, 36, 81, 46, 24, 14, 16, 37, 16, 35, 43, 98, 48, 27, 34, 99, 41, 80, 43, 63, 80, 7, 99, 3, 35, 82, 2, 26, 63, 43, 100, 18, 77, 43, 44, 6, 24, 56, 27, 60, 43, 71, 93, 34, 12, 47, 49, 6, 34, 52, 24, 41, 69, 46, 29, 6, 40, 4, 12, 96, 41, 29, 17, 89, 10, 48, 50, 20, 8, 1, 33, 11, 13, 28, 61, 23, 39, 15, 15, 16, 13, 39, 38, 70, 68, 48, 10, 44, 38, 77, 1, 14, 41, 34, 37, 17, 41, 50, 3, 32, 23, 45, 72, 56, 25, 14, 37, 69, 54, 99, 68, 41, 57, 10, 46, 40, 63, 76, 38, 22, 76, 17, 10, 12, 65, 32, 15, 29, 16, 28, 5, 57, 63, 13, 10, 38, 50, 1, 29, 37, 14, 41, 1, 9, 96, 33, 37, 75, 35, 42, 9, 54, 26, 9, 38, 46, 12, 99, 4, 37, 65, 33, 23, 3, 21, 83, 34, 50, 71, 41, 98, 5, 97, 31, 4, 37, 7, 85, 49, 87, 38, 41, 54, 9, 45, 34, 7, 72, 12, 33, 37, 8, 45, 32, 48, 96, 59, 49, 45, 25, 8, 66, 58, 17, 95, 39, 49, 46, 38, 16, 84, 85, 14, 97, 77, 98, 79, 55, 77, 79, 2, 73, 55, 84, 42, 45, 7, 92, 29, 20, 82, 93, 13, 76, 41, 32, 16, 83, 62, 88, 25, 43, 71, 31, 23, 12, 34, 11, 27, 19, 39, 81, 34, 50, 26, 90, 51, 47, 2, 72, 15, 7, 2, 14, 45, 98, 14, 73, 7, 51, 87, 71, 30, 45, 25, 96, 9, 78, 8, 33, 5, 31, 19, 7, 38, 95, 11, 20, 33, 39, 11, 30, 44, 4, 46, 67, 16, 9, 48, 14, 37, 31, 11, 38, 41, 15, 19, 18, 94, 85, 35, 43, 25, 31, 20, 39, 18, 75, 34, 76, 31, 28, 42, 16, 19, 40, 52, 38, 16, 39, 5, 73, 7, 16, 44, 26, 42, 37, 4, 38, 4, 96, 23, 3, 24, 61, 98, 76, 22, 51, 18, 39, 12, 25, 1, 29, 30, 15, 54, 36, 65, 15, 44, 8, 28, 12, 54, 11, 44, 11, 72, 14, 13, 32, 40, 70, 76, 41, 11, 29, 45, 77, 46, 24, 2, 4, 46, 92, 12, 40, 17, 30, 58, 40, 77, 25, 62, 2, 29, 47, 18, 26, 21, 87, 49, 73, 80, 41, 35, 6, 35, 24, 16, 20, 30, 93, 35, 12, 14, 14, 9, 76, 50, 86, 2, 43, 9, 90, 4, 12, 98, 37, 45, 44, 23, 53, 45, 22, 45, 46, 19, 85, 76, 20, 52, 44, 61, 14, 31, 68, 23, 53, 37, 2, 6, 65, 10, 49, 14, 30, 6, 39, 2, 9, 49, 95, 33, 58, 21, 5, 13, 9, 65, 6, 41, 16, 42, 13, 50, 60, 15, 13, 36, 4, 12, 56, 2, 31, 39, 41, 13, 17, 40, 69, 9, 1, 12, 58, 14, 28, 63, 48, 10, 42, 26, 57, 11, 48, 40, 30, 45, 79, 26, 42, 87, 45, 71, 83, 32, 77, 57, 41, 22, 47, 8, 42, 44, 2, 31, 10, 31, 18, 19, 20, 32, 20, 36, 16, 28, 47, 18, 43, 29, 72, 2, 20, 43, 29, 9, 85, 55, 28, 44, 15, 19, 13, 97, 24, 33, 26, 35, 30, 17, 11, 11, 50, 46, 1, 6, 8, 88, 17, 70, 16, 31, 97, 7, 67, 69, 34, 10, 43, 28, 37, 16, 21, 43, 40, 8, 44, 32, 6, 30, 27, 38, 7, 37, 20, 11, 74, 40, 2, 17, 7, 68, 2, 48, 34, 75, 79, 7, 81, 22, 10, 87, 8, 34, 50, 35, 61, 11, 78, 17, 50, 39, 22, 3, 13, 22, 48, 29, 25, 25, 41, 90, 38, 26, 45, 9, 63, 6, 41, 32, 68, 13, 27, 95, 26, 40, 29, 27, 4, 31, 6, 46, 14, 33, 91, 40, 61, 8, 19, 70, 13, 93, 17, 40, 14, 87, 18, 45, 31, 7, 4, 43, 28, 19, 90, 25, 35, 2, 2, 47, 46, 86, 41, 50, 2, 19, 11, 17, 47, 77, 36, 49, 42, 68, 33, 9, 64, 10, 22, 29, 16, 54, 35, 44, 49, 40, 93, 4, 2, 32, 49, 72, 22, 14, 36, 35, 85, 35, 42, 42, 96, 7, 12, 3, 99, 37, 47, 9, 27, 11, 26, 18, 2, 31, 5, 41, 7, 42, 11, 21, 68, 29, 27, 83, 10, 80, 23, 9, 2, 54, 49, 35, 100, 33, 10, 62, 34, 53, 97, 18, 51, 81, 13, 42, 38, 19, 43, 81, 90, 65, 55, 13, 20, 12, 69, 11, 1, 30, 84, 35, 75, 15, 79, 25, 23, 2, 8, 4, 5, 4, 18, 58, 32, 60, 79, 11, 96, 22, 42, 34, 7, 11, 95, 50, 13, 75, 9, 37, 7, 50, 16, 79, 12, 47, 79, 72, 13, 35, 46, 49, 7, 43, 26, 40, 3, 31, 90, 15, 64, 33, 30, 36, 35, 41, 51, 4, 72, 17, 84, 73, 98, 23, 66, 47, 68, 52, 38, 10, 92, 30, 24, 75, 7, 23, 40, 3, 48, 38, 49, 36, 44, 42, 13, 70, 59, 92, 4, 73, 59, 74, 18, 18, 47, 30, 21, 33, 33, 37, 41, 26, 4, 35, 13, 31, 48, 48, 74, 40, 9, 36, 61, 29, 22, 7, 14, 76, 3, 20, 88, 35, 46, 64, 26, 100, 64, 37, 13, 34, 17, 7, 5, 50, 67, 29, 93, 60, 42, 45, 99, 36, 91, 4, 8, 18, 30, 22, 74, 37, 8, 92, 47, 100, 36, 85, 44, 19, 14, 1, 2, 47, 95, 48, 30, 35, 76, 49, 27, 11, 22, 22, 44, 67, 22, 21, 48, 21, 61, 37, 4, 26, 1, 11, 6, 28, 69, 55, 35, 40, 13, 27, 80, 85, 99, 24, 70, 2, 8, 3, 78, 22, 45, 11, 40, 46, 34, 63, 79, 48, 4, 11, 38, 95, 56, 81, 31, 40, 8, 31, 46, 40, 70, 16, 21, 25, 46, 4, 67, 33, 43, 2, 17, 11, 72, 44, 5, 3, 69, 25, 17, 40, 29, 8, 24, 44, 7, 7, 25, 85, 12, 36, 97, 22, 22, 48, 10, 91, 30, 35, 9, 44, 5, 83, 80, 15, 82, 3, 18, 51, 60, 11, 73, 24, 48, 9, 7, 41, 1, 38, 1, 49, 10, 15, 58, 38, 79, 9, 49, 47, 8, 93, 13, 9, 12, 1, 32, 93, 44, 2, 36, 49, 2, 42, 43, 52, 33, 27, 6, 95, 85, 46, 42, 74, 32, 87, 7, 2, 61, 99, 23, 9, 58, 3, 30, 41, 76, 74, 67, 38, 63, 70, 37, 17, 27, 27, 42, 32, 2, 9, 1, 48, 47, 75, 48, 37, 41, 71, 46, 20, 47, 36, 56, 52, 24, 43, 18, 41, 26, 97, 43, 45, 49, 60, 14, 18, 62, 3, 20, 10, 13, 67, 10, 28, 90, 20, 15, 54, 30, 88, 11, 13, 38, 29, 52, 55, 19, 32, 84, 11, 24, 16, 48, 8, 28, 69, 11, 8, 35, 53, 65, 27, 10, 39, 42, 37, 22, 16, 30, 49, 91, 23, 1, 2, 7, 86, 8, 14, 49, 41, 26, 2, 12, 41, 41, 27, 82, 70, 28, 45, 40, 74, 60, 32, 31, 27, 71, 47, 15, 38, 98, 78, 86, 2, 93, 20, 9, 47, 43, 48, 12, 44, 48, 30, 13, 41, 23, 71, 40, 10, 23, 32, 39, 29, 53, 26, 29, 23, 63, 55, 45, 49, 1, 9, 99, 44, 78, 7, 86, 19, 12, 2, 100, 11, 8, 48, 40, 75, 4, 11, 8, 13, 71, 69, 95, 24, 13, 45, 52, 36, 73, 42, 19, 14, 20, 62, 65, 11, 41, 33, 7, 62, 6, 46, 12, 74, 35, 49, 2, 64, 17, 15, 46, 46, 11, 79, 98, 34, 78, 22, 19, 30, 50, 10, 22, 8, 90, 41, 18, 76, 34, 10, 10, 25, 11, 47, 13, 28, 100, 35, 4, 91, 35, 5, 51, 15, 7, 21, 34, 35, 11, 8, 6, 45, 46, 14, 74, 6, 23, 37, 99, 5, 11, 26, 15, 32, 23, 39, 34, 27, 37, 22, 39, 17, 93, 40, 32, 18, 76, 48, 33, 25, 36, 80, 18, 16, 68, 45, 39, 38, 94, 12, 34, 26, 99, 98, 28, 44, 49, 32, 33, 12, 41, 86, 47, 20, 27, 34, 42, 2, 15, 2, 100, 21, 24, 2, 56, 8, 18, 9, 6, 27, 1, 69, 33, 18, 4, 83, 4, 20, 29, 31, 2, 40, 40, 37, 8, 52, 71, 2, 24, 65, 57, 14, 22, 51, 17, 83, 44, 9, 38, 13, 33, 48, 62, 21, 7, 90, 37, 54, 19, 58, 95, 87, 50, 31, 46, 39, 49, 47, 48, 41, 51, 38, 2, 9, 61, 7, 47, 24, 43, 26, 17, 92, 99, 36, 74, 43, 21, 93, 34, 99, 18, 16, 23, 62, 30, 44, 98, 21, 77, 46, 90, 73, 20, 37, 12, 24, 32, 28, 17, 70, 80, 37, 43, 1, 87, 68, 89, 90, 92, 37, 14, 42, 6, 36, 25, 8, 45, 49, 68, 10, 66, 4, 38, 48, 64, 23, 69, 39, 29, 69, 14, 6, 24, 66, 25, 80, 44, 41, 14, 38, 26, 34, 8, 17, 42, 71, 53, 37, 48, 18, 10, 67, 35, 25, 75, 14, 81, 28, 29, 20, 37, 18, 47, 56, 47, 17, 1, 47, 48, 72, 41, 20, 50, 72, 10, 53, 27, 87, 71, 69, 34, 31, 30, 39, 10, 73, 88, 39, 39, 5, 90, 77, 88, 92, 56, 1, 85, 41, 47, 95, 29, 86, 3, 92, 43, 78, 64, 75, 13, 32, 17, 68, 75, 23, 18, 44, 62, 32, 36, 83, 83, 22, 41, 30, 48, 42, 63, 22, 11, 3, 11, 77, 39, 13, 40, 2, 67, 35, 49, 30, 40, 23, 33, 80, 28, 22, 11, 11, 25, 84, 1, 48, 32, 1, 9, 26, 74, 23, 7, 12, 20, 35, 7, 30, 50, 39, 4, 92, 41, 65, 3, 6, 79, 70, 35, 45, 15, 31, 5, 34, 79, 94, 7, 10, 10, 98, 47]\n",
            "[91, 66, 70, 57, 66, 63, 61, 81, 99, 92, 95, 62, 86, 79, 84, 69, 77, 94, 86, 94, 71, 99, 92, 92, 57, 85, 67, 55, 67, 82, 69, 68, 80, 91, 83, 63, 54, 53, 77, 69, 90, 75, 98, 74, 75, 89, 54, 58, 94, 66, 94, 58, 98, 55, 60, 69, 83, 82, 53, 89, 66, 82, 60, 94, 53, 91, 93, 63, 50, 99, 67, 99, 73, 74, 100, 85, 76, 59, 53, 68, 52, 76, 70, 73, 55, 71, 63, 80, 81, 72, 79, 96, 96, 83, 64, 55, 73, 62, 86, 51, 93, 84, 86, 59, 88, 70, 65, 99, 51, 76, 94, 68, 91, 97, 77, 72, 62, 71, 98, 93, 58, 61, 78, 81, 77, 88, 60, 59, 97, 72, 76, 99, 77, 56, 59, 66, 89, 61, 94, 64, 63, 61, 62, 90, 79, 82, 58, 98, 63, 85, 56, 98, 63, 77, 83, 95, 81, 99, 99, 55, 81, 64, 100, 79, 67, 81, 51, 62, 86, 76, 76, 95, 79, 52, 92, 72, 84, 66, 81, 58, 64, 70, 51, 69, 61, 90, 74, 94, 88, 53, 78, 62, 53, 61, 66, 87, 93, 90, 71, 99, 77, 87, 79, 98, 51, 98, 66, 92, 100, 67, 70, 68, 98, 78, 59, 64, 78, 75, 73, 69, 88, 100, 68, 83, 98, 71, 60, 80, 68, 54, 66, 93, 61, 82, 53, 74, 69, 57, 65, 85, 55, 90, 58, 95, 75, 59, 71, 80, 52, 63, 57, 82, 86, 99, 67, 79, 55, 100, 70, 84, 70, 91, 66, 87, 98, 95, 56, 61, 69, 61, 78, 61, 95, 75, 83, 94, 94, 95, 60, 93, 94, 58, 53, 96, 89, 99, 74, 98, 58, 54, 77, 89, 71, 87, 87, 72, 87, 83, 95, 84, 98, 100, 60, 63, 57, 91, 83, 63, 67, 68, 67, 97, 55, 53, 57, 56, 60, 77, 84, 51, 100, 69, 65, 96, 80, 97, 59, 96, 73, 97, 63, 53, 78, 85, 72, 63, 94, 72, 79, 95, 50, 81, 89, 92, 85, 57, 64, 75, 88, 91, 51, 79, 76, 85, 86, 87, 71, 89, 58, 91, 66, 50, 52, 54, 91, 84, 58, 55, 57, 100, 71, 66, 83, 60, 89, 90, 76, 62, 74, 89, 55, 53, 76, 84, 78, 60, 75, 74, 94, 88, 98, 67, 95, 66, 76, 57, 89, 68, 70, 65, 87, 81, 88, 51, 87, 62, 81, 78, 85, 62, 76, 80, 98, 77, 55, 82, 56, 97, 82, 96, 72, 95, 100, 56, 73, 82, 72, 73, 56, 68, 60, 94, 91, 72, 73, 57, 91, 83, 54, 55, 56, 80, 71, 78, 94, 58, 64, 97, 77, 55, 54, 77, 82, 69, 95, 66, 96, 79, 69, 53, 76, 93, 88, 70, 91, 55, 75, 85, 90, 79, 97, 91, 76, 56, 76, 80, 91, 92, 98, 53, 81, 52, 77, 71, 85, 63, 61, 86, 61, 78, 71, 87, 69, 60, 75, 84, 53, 93, 88, 84, 84, 71, 79, 96, 96, 77, 97, 59, 70, 64, 95, 53, 100, 57, 70, 56, 75, 71, 51, 98, 63, 86, 83, 75, 56, 57, 71, 68, 89, 93, 87, 78, 78, 62, 95, 51, 68, 86, 77, 63, 73, 60, 89, 77, 88, 90, 82, 91, 81, 70, 97, 87, 84, 72, 81, 80, 56, 94, 67, 72, 79, 91, 87, 95, 70, 53, 86, 88, 59, 62, 81, 88, 51, 55, 77, 56, 89, 91, 69, 54, 68, 55, 86, 54, 65, 51, 84, 92, 72, 56, 66, 64, 82, 79, 100, 56, 53, 92, 53, 77, 69, 56, 80, 85, 97, 68, 54, 91, 70, 95, 68, 81, 58, 58, 69, 56, 56, 85, 68, 64, 61, 67, 61, 67, 86, 72, 64, 55, 84, 51, 93, 64, 59, 58, 71, 70, 79, 74, 66, 83, 56, 60, 92, 71, 58, 70, 85, 94, 77, 67, 76, 52, 79, 99, 99, 65, 63, 88, 81, 69, 72, 97, 68, 73, 74, 94, 79, 91, 66, 78, 95, 98, 63, 70, 52, 97, 59, 88, 56, 66, 81, 82, 72, 76, 61, 62, 80, 65, 97, 70, 74, 65, 90, 66, 74, 71, 82, 54, 68, 77, 52, 53, 78, 51, 60, 79, 65, 53, 70, 79, 89, 73, 86, 80, 58, 52, 85, 82, 61, 50, 73, 94, 83, 63, 61, 78, 83, 95, 81, 69, 78, 50, 89, 58, 81, 93, 54, 91, 87, 76, 94, 64, 70, 86, 50, 66, 61, 78, 80, 77, 87, 67, 50, 73, 63, 76, 95, 95, 95, 100, 70, 72, 51, 64, 57, 51, 58, 73, 92, 86, 73, 93, 86, 80, 74, 82, 80, 50, 50, 65, 53, 99, 71, 83, 56, 57, 64, 50, 56, 70, 100, 73, 97, 56, 80, 56, 64, 100, 93, 55, 100, 84, 62, 65, 78, 79, 74, 54, 89, 95, 84, 80, 84, 75, 85, 85, 68, 69, 93, 96, 76, 91, 82, 55, 56, 91, 71, 74, 80, 93, 93, 59, 95, 52, 73, 99, 50, 72, 95, 93, 55, 70, 69, 74, 93, 75, 70, 79, 55, 59, 62, 72, 90, 69, 78, 51, 84, 68, 56, 97, 64, 94, 71, 81, 68, 95, 88, 66, 94, 80, 57, 93, 53, 67, 93, 67, 61, 85, 62, 65, 99, 99, 78, 99, 100, 82, 81, 79, 100, 95, 98, 81, 91, 52, 86, 97, 82, 50, 97, 59, 89, 97, 53, 99, 87, 66, 85, 62, 54, 59, 64, 65, 83, 54, 79, 50, 51, 55, 56, 91, 55, 53, 73, 70, 75, 82, 65, 78, 95, 62, 72, 74, 87, 81, 97, 68, 90, 89, 76, 93, 73, 89, 72, 75, 95, 93, 50, 89, 62, 91, 72, 85, 87, 52, 92, 59, 98, 92, 51, 55, 56, 67, 99, 79, 95, 53, 98, 60, 69, 64, 94, 58, 67, 63, 86, 56, 93, 76, 57, 63, 87, 99, 53, 91, 79, 100, 61, 95, 93, 93, 90, 57, 92, 88, 78, 83, 68, 82, 82, 55, 65, 70, 81, 79, 98, 87, 74, 88, 67, 61, 91, 72, 95, 90, 91, 98, 88, 78, 66, 95, 75, 98, 79, 57, 83, 51, 54, 60, 59, 91, 51, 69, 69, 74, 95, 51, 72, 53, 78, 58, 73, 55, 87, 93, 85, 78, 71, 63, 58, 69, 54, 53, 93, 99, 52, 75, 68, 55, 58, 84, 98, 65, 89, 65, 98, 91, 61, 76, 86, 70, 95, 94, 96, 68, 99, 80, 96, 70, 54, 72, 83, 68, 82, 51, 58, 77, 81, 87, 54, 65, 66, 69, 69, 57, 72, 74, 97, 71, 94, 72, 83, 79, 56, 93, 64, 91, 85, 74, 72, 61, 52, 76, 76, 54, 50, 83, 78, 76, 92, 70, 95, 78, 98, 56, 79, 56, 99, 51, 77, 84, 99, 63, 92, 63, 63, 82, 59, 91, 98, 60, 75, 88, 61, 76, 50, 69, 66, 63, 70, 82, 100, 78, 52, 93, 99, 99, 81, 68, 62, 98, 66, 98, 94, 54, 73, 69, 82, 99, 61, 55, 85, 66, 68, 55, 94, 97, 63, 76, 64, 66, 69, 63, 61, 52, 69, 71, 66, 75, 81, 51, 68, 88, 86, 62, 65, 87, 98, 51, 55, 55, 52, 57, 87, 85, 81, 73, 76, 58, 64, 66, 58, 56, 99, 55, 89, 90, 62, 67, 86, 55, 85, 76, 65, 60, 60, 87, 77, 55, 84, 64, 63, 55, 98, 85, 81, 90, 83, 83, 52, 80, 100, 70, 69, 80, 85, 96, 66, 53, 85, 54, 74, 67, 66, 57, 82, 74, 73, 66, 68, 55, 93, 67, 84, 69, 94, 81, 100, 64, 81, 69, 99, 63, 69, 76, 72, 53, 82, 50, 60, 86, 95, 67, 96, 74, 59, 97, 73, 66, 99, 73, 100, 53, 92, 71, 60, 70, 84, 60, 84, 83, 91, 58, 85, 80, 78, 68, 67, 97, 82, 86, 82, 99, 99, 78, 63, 56, 81, 61, 55, 91, 94, 100, 55, 77, 68, 81, 70, 82, 77, 91, 55, 65, 64, 65, 65, 95, 84, 51, 52, 60, 73, 88, 83, 95, 100, 91, 72, 97, 100, 65, 51, 93, 91, 88, 78, 71, 67, 53, 60, 98, 79, 87, 62, 82, 52, 99, 55, 60, 88, 60, 91, 68, 82, 86, 62, 98, 69, 81, 95, 72, 67, 78, 69, 75, 51, 79, 59, 93, 51, 69, 96, 89, 85, 79, 55, 67, 53, 72, 93, 81, 96, 73, 83, 57, 95, 78, 55, 73, 94, 57, 67, 99, 86, 53, 80, 95, 92, 71, 61, 57, 75, 67, 74, 68, 74, 97, 87, 67, 69, 52, 90, 87, 90, 74, 85, 53, 91, 62, 88, 88, 92, 89, 94, 51, 66, 78, 97, 81, 67, 78, 57, 96, 60, 55, 79, 70, 72, 80, 92, 54, 51, 59, 70, 93, 72, 73, 89, 65, 93, 61, 95, 52, 54, 54, 86, 89, 89, 82, 55, 98, 77, 97, 55, 91, 89, 98, 71, 66, 97, 79, 99, 68, 85, 80, 83, 84, 94, 97, 83, 72, 95, 92, 61, 59, 80, 84, 91, 51, 90, 72, 61, 54, 67, 60, 99, 81, 80, 78, 68, 84, 96, 57, 61, 70, 97, 62, 85, 61, 97, 73, 51, 53, 52, 80, 59, 85, 83, 68, 83, 74, 73, 51, 57, 57, 93, 93, 87, 81, 96, 68, 76, 69, 67, 93, 62, 79, 54, 68, 96, 69, 78, 55, 55, 58, 84, 92, 93, 80, 80, 91, 60, 57, 82, 81, 90, 51, 77, 84, 69, 72, 71, 79, 78, 92, 86, 90, 73, 77, 79, 91, 57, 71, 90, 68, 64, 79, 100, 56, 95, 51, 69, 62, 66, 90, 54, 63, 76, 59, 67, 72, 89, 61, 86, 99, 87, 99, 56, 90, 52, 58, 81, 91, 55, 57, 96, 99, 99, 87, 84, 75, 59, 97, 93, 86, 86, 82, 71, 75, 68, 79, 88, 93, 54, 84, 94, 53, 91, 75, 75, 56, 97, 72, 62, 58, 68, 89, 52, 83, 84, 96, 55, 60, 53, 54, 75, 85, 87, 93, 77, 55, 69, 52, 85, 97, 85, 54, 97, 80, 54, 94, 76, 91, 72, 97, 78, 83, 84, 75, 79, 60, 56, 56, 78, 53, 90, 64, 91, 84, 91, 100, 58, 63, 78, 76, 73, 86, 50, 50, 87, 81, 100, 51, 62, 71, 75, 56, 95, 83, 78, 62, 71, 58, 74, 100, 53, 58, 68, 57, 80, 54, 73, 53, 74, 50, 70, 67, 81, 71, 81, 83, 57, 88, 92, 53, 83, 92, 62, 76, 100, 76, 62, 80, 51, 97, 81, 88, 81, 65, 88, 72, 93, 62, 55, 77, 59, 80, 92, 79, 51, 77, 77, 62, 97, 84, 74, 90, 89, 56, 65, 65, 61, 86, 75, 82, 70, 87, 84, 92, 79, 66, 99, 52, 86, 98, 76, 60, 80, 92, 54, 78, 62, 59, 56, 84, 96, 78, 50, 60, 71, 56, 90, 90, 62, 99, 97, 55, 96, 50, 91, 100, 63, 54, 88, 90, 67, 54, 84, 69, 78, 95, 95, 80, 85, 90, 80, 68, 79, 50, 54, 71, 92, 55, 91, 61, 93, 97, 93, 73, 61, 96, 59, 60, 82, 93, 76, 95, 58, 57, 89, 80, 60, 91, 97, 93, 70, 91, 98, 80, 61, 56, 59, 82, 58, 96, 79, 89, 55, 97, 93, 97, 89, 66, 92, 87, 92, 89, 76, 52, 55, 76, 90, 83, 71, 77, 62, 76, 64, 82, 72, 54, 63, 76, 78, 60, 55, 88, 90, 92, 91, 99, 93, 63, 85, 61, 70, 84, 93, 98, 70, 77, 82, 56, 69, 92, 89, 51, 76, 89, 80, 77, 69, 76, 56, 99, 91, 60, 76, 83, 68, 66, 58, 99, 69, 81, 70, 70, 93, 72, 98, 99, 57, 82, 63, 96, 78, 56, 56, 53, 52, 62, 59, 82, 69, 94, 88, 54, 75, 86, 70, 61, 83, 73, 94, 69, 95, 89, 78, 54, 88, 71, 88, 90, 59, 82, 54, 90, 91, 98, 64, 57, 69, 99, 93, 63, 66, 52, 100, 50, 77, 92, 63, 97, 65, 75, 86, 61, 59, 78, 66, 96, 81, 52, 74, 95, 100, 58, 66, 60, 75, 71, 80, 84, 61, 60, 100, 84, 53, 97, 65, 97, 80, 58, 88, 98, 71, 61, 73, 60, 100, 70, 95, 76, 81, 100, 81, 63, 83, 92, 56, 94, 79, 93, 86, 91, 74, 96, 78, 83, 62, 70, 50, 52, 71, 82, 84, 94, 98, 77, 94, 65, 74, 98, 56, 56, 80, 74, 97, 67, 59, 62, 75, 79, 78, 100, 52, 85, 51, 85, 80, 78, 86, 67, 88, 95, 96, 83, 79, 68, 56, 58, 73, 73, 57, 68, 100, 90, 63, 99, 81, 84, 92, 87, 59, 53, 83, 76, 97, 91, 76, 73, 68, 58, 100, 89, 51, 70, 82, 57, 100, 90, 76, 95, 66, 84, 89, 70, 87, 51, 55, 60, 67, 53, 94, 62, 96, 82, 94, 76, 57, 63, 79, 54, 62, 99, 77, 81, 75, 82, 94, 75, 68, 53, 74, 64, 69, 58, 99, 76, 72, 69, 53, 53, 87, 76, 56, 69, 69, 81, 77, 87, 86, 55, 74, 63, 55, 90, 54, 76, 58, 85, 94, 91, 91, 50, 57, 88, 67, 96, 60, 51, 83, 64, 81, 62, 55, 70, 95, 88, 63, 79, 76, 59, 89, 55, 91, 72, 78, 100, 88, 57, 71, 76, 95, 79, 71, 94, 65, 74, 69, 62, 61, 92, 89, 59, 53, 51, 54, 93, 58, 83, 71, 80, 98, 63, 91, 52, 60, 79, 77, 97, 75, 62, 71, 97, 83, 91, 88, 67, 50, 70, 91, 80, 93, 99, 72, 80, 90, 98, 58, 74, 54, 88, 58, 97, 70, 77, 54, 81, 66, 68, 99, 51, 68, 97, 60, 88, 94, 94, 96, 55, 88, 63, 79, 92, 66, 84, 94, 93, 57, 96, 91, 100, 72, 65, 67, 79, 63, 86, 98, 100, 66, 89, 55, 75, 66, 95, 57, 50, 100, 63, 83, 64, 74, 93, 77, 54, 75, 93, 76, 60, 69, 83, 83, 91, 62, 51, 84, 88, 58, 57, 82, 61, 54, 67, 67, 81, 54, 97, 64, 71, 85, 97, 94, 79, 80, 94, 63, 75, 75, 100, 88, 70, 97, 94, 80, 91, 60, 93, 58, 65, 94, 85, 98, 66, 88, 88, 95, 64, 73, 98, 91, 58, 60, 74, 55, 82, 71, 90, 99, 83, 79, 54, 76, 78, 72, 63, 87, 65, 85, 62, 97, 96, 61, 52, 51, 71, 85, 83, 56, 73, 73, 74, 62, 53, 68, 50, 85, 77, 58, 67, 91, 69, 97, 78, 60, 51, 85, 88, 99, 73, 94, 72, 65, 76, 92, 76, 58, 93, 57, 70, 90, 64, 85, 95, 74, 84, 94, 55, 78, 100, 63, 78, 83, 76, 53, 55, 73, 70, 72, 99, 52, 52, 89, 96, 95, 58, 87, 78, 90, 72, 51, 84, 89, 91, 50, 74, 57, 69, 50, 51, 61, 98, 57, 78, 71, 97, 97, 90, 64, 50, 80, 59, 59, 82, 86, 84, 79, 78, 86, 96, 86, 99, 81, 53, 96, 58, 70, 95, 74, 71, 90, 55, 69, 87, 52, 81, 54, 66, 89, 93, 68, 80, 68, 87, 58, 73, 74, 78, 91, 71, 65, 51, 96, 92, 63, 56, 80, 75, 93, 59, 90, 64, 58, 62, 51, 79, 81, 80, 57, 91, 70, 97, 76, 87, 83, 88, 75, 64, 98, 68, 100, 93, 83, 77, 50, 68, 88, 81, 78, 52, 83, 66, 95, 57, 74, 89, 87, 58, 50, 63, 72, 87, 90, 96, 51, 81, 79, 99, 63, 99, 72, 70, 68, 65, 61, 81, 63, 54, 95, 91, 86, 87, 74, 89, 100, 64, 83, 73, 84, 52, 96, 73, 50, 90, 62, 54, 97, 93, 97, 71, 56, 66, 87, 83, 85, 59, 70, 62, 77, 67, 77, 68, 67, 77, 89, 100, 84, 64, 85, 81, 64, 53, 86, 98, 85, 72, 51, 95, 73, 62, 100, 90, 99, 63, 81, 82, 68, 65, 53, 93, 100, 60, 72, 82, 86, 61, 63, 87, 61, 97, 66, 92, 54, 86, 61, 91, 92, 85, 79, 86, 89, 63, 60, 51, 59, 90, 67, 85, 92, 92, 63, 98, 99, 83, 65, 69, 53, 93, 88, 93, 57, 97, 74, 100, 70, 85, 65, 74, 63, 90, 90, 60, 61, 83, 69, 60, 81, 90, 82, 69, 76, 64, 67, 66, 52, 76, 84, 96, 93, 80, 67, 60, 77, 53, 64, 99, 88, 53, 59, 77, 67, 70, 66, 100, 86, 96, 88, 86, 66, 73, 69, 80, 77, 77, 61, 58, 99, 51, 69, 56, 59, 84, 55, 93, 100, 75, 95, 69, 75, 63, 59, 95, 86, 93, 66, 92, 73, 71, 66, 67, 80, 68, 84, 51, 88, 94, 81, 75, 85, 61, 87, 94, 90, 71, 63, 79, 60, 69, 69, 62, 93, 93, 75, 87, 85, 60, 53, 62, 91, 64, 63, 80, 100, 52, 59, 72, 85, 64, 69, 75, 62, 74, 50, 91, 99, 60, 85, 75, 92, 55, 81, 88, 65, 64, 77, 99, 89, 94, 70, 73, 73, 80, 63, 69, 63, 68, 91, 81, 78, 62, 95, 66, 83, 93, 61, 55, 54, 89, 56, 62, 56, 91, 63, 85, 74, 69, 60, 99, 59, 76, 70, 95, 81, 78, 71, 50, 59, 68, 72, 94, 86, 80, 91, 100, 95, 58, 87, 63, 79, 89, 67, 62, 73, 53, 56, 70, 55, 84, 51, 99, 76, 59, 60, 58, 97, 98, 76, 65, 79, 77, 62, 88, 56, 90, 73, 84, 75, 71, 89, 88, 77, 97, 55, 93, 64, 96, 62, 97, 100, 54, 72, 59, 90, 83, 72, 85, 63, 87, 72, 65, 86, 74, 69, 98, 91, 73, 89, 71, 82, 89, 86, 83, 64, 88, 70, 83, 57, 73, 81, 84, 66, 85, 54, 96, 91, 88, 58, 53, 74, 88, 94, 79, 63, 53, 64, 55, 96, 91, 98, 92, 77, 50, 73, 96, 77, 72, 83, 61, 84, 50, 77, 56, 66, 86, 74, 99, 73, 72, 100, 65, 88, 99, 90, 77, 79, 94, 94, 78, 61, 99, 61, 75, 78, 91, 79, 77, 58, 99, 79, 52, 77, 72, 86, 64, 54, 63, 94, 98, 65, 54, 95, 67, 56, 90, 87, 78, 87, 85, 58, 84, 79, 62, 96, 75, 78, 65, 78, 85, 55, 57, 98, 75, 51, 64, 100, 55, 68, 55, 70, 72, 94, 85, 100, 93, 71, 60, 62, 97, 77, 94, 62, 60, 59, 90, 94, 67, 100, 93, 93, 78, 60, 68, 65, 80, 73, 67, 69, 62, 50, 97, 94, 92, 63, 63, 56, 50, 69, 72, 53, 77, 61, 76, 52, 66, 51, 89, 51, 66, 95, 86, 79, 87, 90, 78, 77, 67, 71, 64, 89, 97, 50, 80, 72, 81, 59, 75, 80, 77, 58, 83, 78, 90, 50, 65, 90, 84, 72, 71, 60, 76, 90, 84, 60, 65, 66, 81, 72, 70, 59, 94, 90, 78, 51, 97, 64, 52, 74, 80, 77, 64, 53, 62, 96, 79, 85, 91, 83, 91, 80, 99, 65, 99, 92, 66, 72, 74, 83, 51, 67, 88, 96, 65, 93, 97, 75, 96, 55, 62, 69, 81, 56, 100, 78, 54, 70, 98, 93, 54, 74, 89, 65, 72, 80, 62, 79, 92, 92, 52, 56, 82, 68, 88, 77, 58, 82, 51, 62, 60, 56, 97, 74, 55, 74, 87, 79, 60, 69, 88, 76, 71, 78, 88, 71, 75, 54, 84, 55, 64, 65, 55, 55, 84, 87, 94, 98, 78, 80, 72, 84, 87, 87, 91, 54, 67, 88, 83, 95, 84, 83, 69, 59, 60, 66, 59, 52, 84, 83, 56, 55, 93, 97, 83, 51, 73, 84, 75, 87, 73, 51, 50, 66, 70, 60, 76, 92, 56, 76, 76, 55, 82, 68, 62, 79, 94, 89, 81, 73, 50, 98, 89, 72, 59, 65, 92, 97, 52, 83, 58, 78, 97, 68, 52, 64, 50, 54, 86, 87, 87, 83, 54, 55, 90, 59, 50, 73, 91, 74, 60, 76, 73, 100, 86, 84, 71, 63, 55, 57, 86, 68, 92, 64, 95, 66, 86, 72, 90, 95, 84, 99, 98, 78, 71, 76, 50, 57, 60, 81, 88, 55, 99, 70, 91, 85, 95, 60, 71, 66, 85, 100, 60, 71, 65, 58, 76, 77, 97, 73, 79, 58, 80, 65, 99, 54, 84, 63, 69, 82, 51, 60, 68, 76, 84, 88, 71, 60, 57, 83, 61, 54, 68, 94, 82, 69, 70, 66, 68, 69, 57, 72, 87, 57, 94, 60, 96, 100, 52, 85, 54, 62, 99, 72, 77, 74, 54, 84, 75, 73, 73, 55, 56, 97, 61, 77, 98, 71, 60, 62, 66, 55, 71, 71, 73, 77, 56, 92, 56, 75, 67, 67, 61, 100, 100, 74, 81, 65, 67, 58, 74, 85, 72, 96, 67, 93, 87, 76, 85, 76, 52, 73, 73, 51, 59, 81, 89, 96, 95, 70, 66, 97, 55, 60, 95, 89, 51, 50, 92, 86, 56, 86, 76, 64, 94, 79, 64, 90, 57, 56, 63, 57, 98, 63, 51, 66, 63, 64, 65, 94, 54, 73, 76, 70, 68, 63, 98, 56, 53, 67, 90, 55, 87, 54, 81, 96, 71, 92, 50, 67, 79, 69, 86, 74, 94, 59, 50, 88, 98, 65, 71, 82, 96, 89, 65, 60, 80, 94, 60, 83, 69, 90, 78, 97, 53, 64, 80, 53, 53, 94, 52, 69, 69, 51, 71, 95, 93, 88, 68, 83, 99, 93, 56, 80, 54, 76, 85, 78, 100, 63, 98, 98, 93, 66, 71, 60, 65, 75, 77, 53, 88, 75, 99, 95, 79, 71, 99, 96, 65, 86, 63, 82, 95, 82, 85, 52, 86, 56, 82, 99, 92, 58, 76, 75, 71, 63, 83, 87, 81, 61, 86, 58, 72, 51, 93, 52, 100, 78, 59, 78, 63, 97, 69, 66, 95, 70, 93, 96, 61, 81, 94, 81, 96, 60, 62, 75, 50, 56, 84, 91, 67, 52, 60, 62, 96, 56, 65, 90, 88, 95, 97, 60, 78, 81, 79, 79, 85, 60, 93, 73, 59, 75, 55, 97, 98, 71, 99, 50, 65, 59, 85, 57, 92, 67, 98, 82, 84, 75, 89, 51, 94, 65, 54, 92, 92, 66, 63, 86, 94, 100, 66, 86, 66, 60, 91, 71, 57, 98, 89, 90, 69, 50, 77, 84, 74, 68, 99, 58, 87, 64, 81, 100, 57, 72, 89, 58, 100, 78, 97, 85, 81, 67, 91, 93, 64, 99, 72, 60, 94, 77, 66, 69, 72, 89, 54, 79, 81, 56, 69, 77, 65, 100, 85, 99, 78, 73, 78, 56, 94, 54, 50, 55, 57, 80, 94, 50, 83, 98, 57, 92, 60, 50, 64, 56, 96, 94, 74, 56, 99, 58, 62, 81, 66, 51, 55, 58, 77, 63, 75, 56, 69, 94, 77, 64, 77, 71, 91, 59, 80, 79, 67, 82, 75, 92, 84, 53, 88, 76, 50, 86, 69, 71, 81, 64, 65, 95, 91, 66, 64, 52, 58, 55, 65, 91, 85, 64, 88, 53, 92, 84, 82, 89, 95, 67, 96, 99, 85, 63, 86, 87, 56, 75, 61, 67, 68, 80, 57, 65, 91, 77, 90, 59, 54, 79, 73, 96, 69, 80, 53, 76, 70, 69, 62, 89, 72, 71, 80, 63, 64, 54, 69, 85, 83, 77, 64, 55, 61, 51, 93, 65, 69, 60, 96, 77, 60, 58, 62, 88, 61, 74, 100, 65, 98, 51, 55, 99, 56, 57, 84, 51, 100, 98, 83, 71, 61, 76, 75, 79, 62, 72, 60, 63, 71, 59, 79, 94, 51, 59, 69, 56, 79, 65, 94, 72, 67, 85, 100, 72, 77, 89, 51, 60, 56, 96, 61, 95, 56, 56, 93, 57, 74, 56, 74, 86, 76, 95, 66, 96, 90, 71, 69, 100, 61, 92, 91, 64, 68, 86, 86, 52, 76, 52, 57, 94, 97, 86, 98, 86, 61, 81, 95, 95, 53, 82, 68, 58, 70, 100, 71, 95, 86, 86, 95, 99, 51, 97, 76, 73, 90, 60, 60, 81, 67, 56, 72, 77, 55, 80, 65, 79, 72, 74, 78, 73, 82, 85, 55, 61, 52, 63, 81, 80, 51, 95, 93, 70, 77, 69, 69, 95, 92, 58, 98, 81, 94, 71, 99, 80, 94, 59, 83, 68, 59, 65, 88, 78, 100, 72, 75, 59, 81, 84, 70, 100, 68, 87, 71, 88, 96, 51, 53, 99, 69, 89, 85, 61, 69, 58, 75, 95, 96, 61, 84, 89, 93, 84, 59, 50, 71, 87, 71, 57, 59, 64, 55, 66, 55, 53, 89, 64, 90, 70, 99, 70, 58, 74, 82, 63, 75, 97, 69, 69, 59, 87, 76, 79, 69, 86, 89, 73, 84, 66, 57, 68, 88, 57, 97, 51, 74, 50, 98, 72, 78, 89, 92, 61, 80, 66, 51, 58, 58, 96, 79, 72, 52, 95, 75, 61, 54, 77, 79, 55, 64, 62, 61, 78, 52, 70, 66, 74, 81, 68, 60, 61, 64, 80, 99, 61, 83, 67, 57, 61, 68, 50, 73, 61, 66, 100, 83, 95, 86, 99, 85, 97, 69, 54, 85, 58, 53, 77, 68, 76, 87, 99, 77, 74, 53, 51, 78, 57, 59, 52, 62, 83, 89, 53, 67, 89, 57, 51, 81, 100, 90, 74, 68, 64, 77, 70, 88, 99, 62, 64, 55, 66, 72, 76, 75, 77, 60, 65, 52, 100, 100, 92, 58, 78, 62, 77, 52, 61, 78, 63, 94, 95, 77, 52, 72, 93, 57, 68, 74, 83, 69, 92, 78, 73, 54, 66, 96, 98, 93, 70, 83, 79, 76, 50, 73, 59, 98, 90, 97, 87, 78, 74, 94, 73, 50, 51, 56, 73, 68, 69, 94, 54, 69, 58, 64, 62, 94, 84, 61, 77, 86, 92, 71, 54, 70, 84, 89, 57, 58, 97, 69, 67, 54, 63, 67, 59, 84, 71, 86, 60, 75, 55, 82, 93, 67, 81, 60, 56, 64, 56, 81, 78, 81, 87, 82, 50, 86, 86, 71, 56, 85, 79, 67, 65, 74, 96, 76, 80, 82, 78, 75, 57, 53, 95, 97, 54, 65, 74, 78, 62, 98, 56, 62, 88, 53, 96, 59, 90, 97, 52, 90, 72, 87, 82, 97, 98, 86, 81, 51, 84, 82, 51, 82, 56, 78, 62, 93, 80, 78, 64, 55, 60, 74, 98, 53, 81, 86, 51, 55, 96, 89, 67, 67, 98, 59, 64, 96, 50, 78, 78, 87, 51, 70, 77, 77, 100, 98, 62, 56, 74, 57, 75, 85, 76, 74, 94, 53, 66, 63, 98, 73, 71, 51, 93, 99, 88, 80, 50, 68, 94, 66, 100, 59, 76, 68, 84, 91, 79, 79, 72, 71, 86, 77, 98, 69, 78, 94, 65, 84, 60, 58, 53, 95, 80, 75, 69, 92, 51, 57, 91, 75, 71, 78, 80, 95, 58, 56, 75, 76, 55, 59, 74, 60, 81, 61, 72, 93, 79, 94, 58, 51, 96, 56, 72, 85, 72, 52, 57, 87, 78, 68, 97, 54, 80, 86, 50, 50, 88, 89, 97, 86, 94, 65, 84, 52, 82, 67, 59, 81, 72, 72, 85, 54, 74, 87, 61, 56, 72, 76, 85, 52, 52, 72, 90, 97, 66, 78, 77, 60, 59, 71, 54, 92, 99, 94, 66, 87, 68, 81, 74, 74, 67, 83, 71, 63, 85, 52, 83, 73, 51, 86, 55, 90, 55, 78, 98, 86, 77, 81, 58, 81, 69, 74, 83, 86, 89, 74, 52, 66, 75, 94, 61, 77, 72, 73, 54, 53, 90, 50, 55, 73, 88, 54, 90, 56, 83, 86, 56, 59, 78, 98, 82, 72, 74, 78, 52, 59, 70, 61, 86, 64, 80, 73, 76, 55, 63, 61, 52, 96, 83, 88, 62, 63, 60, 76, 55, 96, 52, 83, 91, 85, 73, 59, 62, 67, 82, 75, 88, 77, 66, 52, 69, 64, 81, 88, 88, 88, 57, 92, 95, 66, 74, 95, 58, 66, 80, 56, 60, 91, 74, 69, 94, 71, 75, 94, 55, 65, 92, 66, 58, 59, 58, 73, 70, 92, 89, 88, 86, 66, 58, 77, 81, 70, 86, 91, 95, 84, 97, 51, 66, 77, 63, 67, 100, 71, 57, 53, 59, 97, 83, 57, 80, 64, 77, 97, 53, 70, 93, 67, 79, 86, 70, 51, 92, 51, 50, 81, 80, 54, 93, 77, 77, 80, 84, 73, 99, 77, 90, 59, 60, 71, 50, 81, 85, 50, 71, 78, 100, 89, 52, 88, 74, 74, 84, 65, 89, 69, 53, 63, 83, 89, 86, 60, 74, 81, 83, 60, 88, 65, 91, 63, 75, 82, 51, 84, 85, 88, 88, 64, 60, 89, 86, 52, 93, 76, 62, 52, 63, 55, 64, 97, 99, 68, 52, 56, 61, 53, 67, 89, 75, 77, 61, 61, 67, 71, 57, 63, 57, 82, 59, 57, 61, 62, 92, 93, 71, 94, 79, 77, 85, 95, 65, 81, 68, 63, 63, 55, 89, 62, 58, 50, 91, 80, 81, 53, 74, 82, 67, 98, 62, 51, 92, 80, 68, 57, 57, 71, 82, 86, 80, 85, 85, 94, 98, 82, 64, 95, 53, 75, 58, 75, 70, 82, 64, 63, 59, 88, 97, 91, 92, 74, 92, 67, 54, 51, 55, 86, 81, 98, 92, 56, 74, 67, 84, 64, 81, 96, 74, 53, 64, 84, 80, 94, 93, 97, 77, 89, 99, 67, 59, 100, 99, 80, 61, 62, 99, 80, 86, 85, 100, 53, 99, 51, 77, 60, 59, 92, 74, 84, 94, 86, 84, 60, 51, 77, 73, 75, 87, 62, 51, 64, 91, 67, 83, 69, 53, 83, 97, 81, 90, 58, 51, 58, 67, 79, 53, 51, 93, 95, 62, 54, 94, 97, 69, 56, 66, 60, 77, 89, 63, 74, 51, 79, 66, 62, 86, 58, 81, 53, 81, 69, 80, 96, 78, 63, 57, 68, 80, 90, 74, 57, 92, 65, 54, 93, 90, 73, 69, 92, 57, 85, 68, 68, 63, 78, 89, 75, 98, 58, 84, 51, 94, 74, 79, 96, 52, 57, 93, 73, 92, 80, 54, 58, 98, 64, 84, 63, 86, 60, 61, 89, 82, 57, 86, 89, 54, 100, 78, 74, 67, 85, 54, 58, 64, 57, 60, 53, 59, 67, 94, 51, 97, 61, 84, 70, 70, 57, 74, 84, 97, 89, 90, 88, 77, 98, 82, 83, 81, 85, 56, 53, 91, 99, 88, 99, 69, 87, 93, 99, 63, 68, 68, 96, 81, 84, 63, 95, 95, 74, 91, 66, 64, 53, 68, 81, 70, 77, 62, 72, 90, 93, 95, 52, 88, 50, 72, 58, 99, 89, 79, 54, 90, 77, 75, 73, 86, 93, 64, 77, 52, 87, 66, 60, 66, 73, 70, 52, 58, 67, 55, 75, 56, 79, 78, 95, 97, 97, 65, 56, 81, 62, 89, 74, 83, 90, 72, 93, 98, 99, 54, 91, 66, 87, 55, 95, 93, 66, 100, 61, 80, 53, 97, 83, 83, 96, 96, 100, 63, 78, 81, 100, 77, 82, 65, 78, 62, 75, 75, 50, 55, 53, 60, 58, 51, 78, 86, 90, 69, 73, 54, 53, 84, 52, 95, 52, 50, 60, 94, 74, 90, 83, 62, 92, 63, 51, 78, 80, 66, 75, 51, 91, 53, 51, 84, 74, 58, 67, 62, 89, 99, 80, 77, 54, 62, 52, 78, 82, 68, 68, 92, 52, 82, 56, 58, 53, 77, 64, 53, 74, 100, 62, 61, 65, 79, 52, 74, 92, 83, 76, 56, 97, 70, 65, 52, 100, 71, 88, 97, 58, 53, 91, 58, 55, 67, 74, 68, 58, 53, 99, 77, 64, 75, 68, 100, 54, 100, 96, 75, 96, 98, 58, 69, 87, 89, 61, 95, 75, 67, 91, 85, 81, 80, 56, 96, 59, 59, 78, 58, 70, 60, 72, 86, 72, 80, 82, 82, 92, 92, 79, 79, 77, 100, 65, 59, 51, 87, 59, 56, 68, 52, 64, 66, 60, 90, 93, 54, 96, 80, 91, 51, 55, 53, 87, 82, 89, 78, 81, 94, 66, 64, 99, 84, 63, 52, 79, 54, 74, 87, 95, 61, 79, 77, 74, 62, 57, 80, 52, 94, 57, 79, 90, 60, 81, 63, 97, 94, 52, 67, 73, 85, 53, 50, 96, 68, 95, 74, 66, 75, 78, 66, 69, 57, 68, 75, 81, 100, 90, 52, 78, 63, 72, 65, 84, 56, 50, 80, 65, 52, 95, 68, 55, 70, 62, 99, 57, 66, 99, 65, 58, 79, 52, 88, 81, 86, 81, 53, 79, 100, 83, 91, 97, 53, 73, 76, 100, 95, 67, 96, 76, 57, 81, 79, 58, 83, 57, 52, 91, 96, 86, 63, 70, 69, 59, 52, 60, 96, 87, 66, 63, 62, 60, 53, 91, 74, 68, 58, 84, 91, 64, 93, 57, 77, 52, 88, 84, 84, 81, 85, 83, 50, 86, 53, 76, 76, 87, 93, 77, 64, 90, 59, 91, 74, 53, 95, 55, 88, 51, 97, 68, 92, 63, 93, 75, 50, 81, 51, 84, 83, 88, 87, 66, 86, 89, 90, 88, 78, 86, 54, 51, 72, 72, 72, 68, 58, 55, 96, 96, 91, 100, 76, 56, 71, 84, 87, 91, 77, 78, 71, 90, 96, 54, 76, 54, 66, 50, 77, 69, 62, 55, 94, 60, 73, 100, 65, 79, 62, 93, 62, 79, 72, 56, 69, 50, 62, 59, 84, 58, 89, 80, 79, 81, 87, 53, 100, 66, 76, 83, 98, 69, 76, 65, 58, 63, 100, 90, 98, 75, 64, 97, 57, 60, 59, 97, 69, 87, 99, 60, 64, 59, 99, 81, 87, 90, 55, 66, 91, 68, 66, 52, 97, 65, 92, 93, 89, 79, 55, 65, 74, 52, 88, 96, 98, 64, 52, 84, 64, 66, 68, 82, 79, 74, 75, 58, 55, 58, 91, 80, 99, 82, 84, 53, 60, 94, 84, 90, 59, 56, 64, 62, 95, 59, 81, 60, 79, 63, 89, 68, 84, 74, 63, 51, 87, 51, 83, 78, 97, 98, 67, 99, 51, 59, 70, 68, 80, 75, 59, 98, 96, 84, 77, 50, 67, 88, 93, 60, 71, 55, 77, 68, 75, 92, 73, 92, 98, 84, 68, 51, 56, 54, 85, 100, 59, 65, 86, 69, 54, 84, 80, 95, 79, 58, 99, 82, 92, 88, 53, 51, 73, 62, 74, 58, 81, 65, 54, 85, 88, 60, 79, 94, 73, 85, 95, 67, 55, 60, 86, 80, 58, 59, 70, 89, 75, 93, 98, 67, 90, 75, 55, 67, 98, 92, 85, 93, 52, 87, 90, 60, 92, 92, 94, 61, 95, 78, 75, 86, 52, 78, 79, 52, 74, 59, 75, 100, 66, 98, 60, 54, 52, 99, 68, 82, 74, 50, 57, 65, 76, 66, 92, 70, 93, 77, 61, 50, 55, 79, 52, 95, 75, 74, 72, 70, 91, 54, 61, 78, 85, 84, 67, 54, 70, 95, 83, 53, 70, 68, 93, 72, 92, 87, 89, 61, 63, 69, 98, 82, 86, 59, 96, 96, 84, 85, 70, 80, 79, 64, 65, 73, 64, 67, 85, 88, 88, 64, 65, 93, 65, 99, 61, 59, 87, 92, 82, 71, 81, 96, 62, 61, 92, 98, 86, 73, 89, 94, 73, 75, 87, 78, 96, 81, 95, 98, 67, 54, 85, 90, 71, 50, 54, 74, 87, 90, 52, 91, 91, 79, 57, 61, 68, 97, 59, 74, 90, 61, 55, 56, 100, 100, 74, 66, 88, 59, 95, 90, 83, 79, 56, 51, 95, 69, 75, 99, 83, 81, 76, 80, 72, 75, 63, 80, 64, 56, 58, 93, 93, 85, 73, 77, 71, 76, 63, 84, 88, 64, 99, 86, 58, 69, 85, 60, 92, 80, 94, 95, 89, 74, 97, 89, 79, 74, 78, 76, 95, 90, 63, 69, 74, 87, 81, 92, 50, 65, 86, 85, 65, 99, 99, 83, 53, 99, 76, 92, 58, 97, 93, 97, 85, 69, 81, 62, 64, 53, 50, 87, 63, 87, 91, 84, 77, 72, 92, 65, 84, 51, 71, 71, 63, 62, 62, 90, 96, 99, 87, 98, 56, 53, 52, 73, 73, 84, 64, 55, 71, 98, 97, 87, 60, 66, 67, 74, 68, 92, 60, 57, 98, 98, 55, 70, 89, 86, 55, 78, 84, 83, 84, 90, 82, 66, 67, 77, 69, 98, 99, 84, 87, 57, 72, 78, 78, 56, 72, 93, 83, 80, 75, 55, 79, 63, 57, 56, 98, 77, 87, 99, 55, 51, 63, 96, 95, 99, 92, 59, 67, 81, 89, 66, 95, 60, 61, 68, 68, 91, 60, 67, 83, 84, 51, 87, 100, 71, 90, 55, 82, 53, 80, 85, 96, 79, 60, 99, 95, 73, 59, 94, 76, 66, 94, 89, 88, 70, 96, 94, 74, 81, 89, 100, 68, 83, 86, 72, 61, 73, 71, 52, 71, 71, 61, 96, 72, 55, 64, 73, 98, 59, 64, 58, 53, 60, 62, 96, 95, 91, 62, 97, 71, 77, 97, 88, 59, 62, 80, 84, 96, 52, 79, 54, 97, 63, 67, 86, 99, 88, 99, 82, 64, 96, 74, 94, 81, 81, 89, 68, 55, 56, 81, 89, 98, 68, 93, 83, 68, 69, 73, 93, 61, 75, 57, 97, 91, 61, 81, 99, 86, 79, 94, 60, 90, 71, 55, 91, 58, 94, 60, 90, 81, 62, 58, 99, 60, 58, 73, 56, 83, 79, 90, 69, 57, 72, 91, 98, 85, 99, 71, 86, 81, 60, 90, 93, 100, 68, 86, 85, 97, 85, 63, 76, 81, 81, 69, 93, 85, 56, 95, 69, 50, 56, 78, 87, 92, 84, 50, 58, 96, 62, 80, 82, 68, 97, 92, 75, 70, 93, 78, 76, 65, 63, 70, 51, 55, 59, 52, 88, 89, 80, 76, 71, 100, 50, 97, 72, 95, 82, 100, 85, 61, 80, 61, 83, 64, 91, 65, 84, 56, 95, 61, 73, 100, 95, 84, 66, 89, 60, 68, 56, 86, 54, 70, 90, 72, 61, 63, 65, 98, 81, 60, 82, 76, 62, 97, 87, 70, 77, 88, 63, 70, 76, 55, 99, 76, 60, 83, 75, 73, 61, 74, 55, 51, 74, 73, 58, 82, 54, 67, 72, 60, 86, 89, 59, 54, 57, 71, 87, 52, 92, 81, 95, 98, 85, 55, 51, 92, 79, 79, 59, 63, 69, 57, 63, 75, 93, 75, 79, 80, 84, 81, 62, 52, 53, 80, 57, 61, 66, 86, 53, 72, 60, 62, 50, 50, 96, 85, 63, 73, 92, 53, 68, 71, 74, 68, 60, 92, 87, 68, 65, 81, 73, 78, 88, 84, 76, 59, 57, 87, 72, 67, 99, 72, 78, 74, 62, 85, 93, 81, 85, 87, 74, 84, 55, 87, 56, 63, 98, 52, 69, 83, 82, 59, 72, 93, 65, 79, 54, 93, 50, 66, 96, 85, 54, 82, 84, 60, 98, 61, 76, 56, 63, 77, 94, 90, 76, 86, 99, 88, 82, 77, 97, 60, 93, 93, 73, 52, 53, 91, 83, 50, 85, 96, 92, 81, 82, 61, 92, 60, 100, 51, 67, 79, 83, 51, 80, 93, 79, 54, 65, 81, 94, 99, 99, 64, 69, 88, 56, 80, 98, 77, 90, 97, 74, 100, 59, 87, 77, 99, 60, 99, 89, 88, 83, 70, 56, 54, 98, 89, 68, 63, 64, 94, 89, 60, 66, 79, 73, 97, 54, 80, 59, 78, 73, 59, 99, 52, 96, 51, 92, 85, 78, 97, 75, 66, 76, 72, 98, 74, 51, 98, 91, 84, 50, 86, 58, 79, 99, 77, 64, 60, 80, 73, 97, 80, 82, 89, 83, 92, 90, 97, 73, 57, 64, 88, 62, 66, 97, 70, 54, 87, 85, 53, 96, 65, 74, 66, 55, 54, 86, 84, 76, 100, 73, 98, 53, 74, 100, 91, 69, 64, 68, 97, 59, 60, 71, 92, 97, 76, 58, 90, 99, 64, 100, 60, 86, 74, 56, 74, 81, 69, 71, 66, 78, 69, 61, 96, 59, 78, 89, 58, 73, 75, 93, 63, 64, 89, 90, 97, 91, 61, 64, 72, 84, 96, 75, 63, 98, 64, 97, 55, 70, 93, 86, 63, 81, 87, 87, 70, 69, 90, 63, 68, 71, 79, 75, 99, 89, 92, 61, 59, 98, 70, 67, 94, 80, 99, 96, 80, 62, 72, 91, 76, 60, 77, 99, 95, 72, 50, 75, 53, 64, 71, 72, 86, 66, 62, 57, 96, 75, 61, 94, 92, 73, 91, 85, 70, 78, 78, 84, 96, 88, 79, 67, 78, 57, 80, 55, 76, 61, 61, 100, 76, 95, 50, 93, 98, 74, 93, 73, 56, 87, 92, 96, 57, 99, 86, 74, 55, 83, 71, 67, 78, 55, 83, 61, 89, 81, 75, 53, 89, 95, 74, 71, 51, 62, 79, 77, 93, 83, 56, 60, 58, 79, 56, 59, 84, 54, 92, 99, 54, 53, 78, 74, 92, 87, 90, 85, 95, 66, 86, 61, 91, 78, 66, 62, 92, 81, 61, 59, 60, 76, 91, 55, 62, 92, 99, 70, 58, 100, 80, 96, 68, 95, 73, 99, 88, 87, 90, 59, 53, 93, 50, 54, 83, 66, 59, 100, 70, 94, 98, 68, 63, 68, 100, 60, 74, 70, 61, 68, 87, 90, 50, 77, 67, 80, 66, 90, 58, 64, 93, 67, 60, 73, 63, 58, 95, 75, 50, 83, 97, 86, 54, 56, 87, 60, 62, 60, 54, 55, 64, 93, 70, 68, 65, 82, 76, 55, 99, 93, 97, 89, 58, 98, 67, 85, 89, 71, 99, 60, 86, 73, 93, 98, 84, 68, 78, 88, 56, 98, 92, 99, 72, 55, 95, 50, 85, 78, 84, 73, 71, 70, 78, 84, 64, 95, 71, 87, 97, 58, 89, 87, 55, 72, 51, 80, 77, 76, 90, 87, 67, 69, 89, 63, 77, 54, 84, 79, 87, 79, 53, 73, 84, 55, 74, 74, 74, 90, 51, 77, 71, 60, 88, 65, 91, 83, 68, 56, 78, 84, 83, 75, 78, 78, 56, 99, 82, 62, 60, 62, 82, 96, 64, 55, 81, 100, 56, 76, 77, 57, 56, 95, 55, 77, 96, 56, 74, 61, 100, 65, 99, 98, 75, 79, 99, 71, 93, 72, 58, 86, 61, 86, 76, 81, 66, 73, 86, 57, 50, 63, 86, 96, 71, 69, 91, 83, 89, 93, 79, 74, 84, 64, 71, 78, 72, 73, 52, 90, 88, 67, 89, 84, 71, 99, 94, 86, 59, 52, 89, 72, 65, 50, 88, 69, 93, 55, 52, 56, 71, 55, 53, 61, 76, 78, 85, 94, 92, 57, 69, 53, 90, 58, 81, 76, 53, 71, 84, 93, 71, 90, 56, 85, 63, 81, 81, 90, 93, 94, 96, 93, 77, 79, 80, 76, 51, 88, 55, 73, 55, 62, 89, 99, 53, 69, 88, 60, 55, 53, 95, 72, 54, 93, 94, 88, 77, 96, 72, 81, 90, 53, 67, 65, 58, 87, 52, 63, 54, 56, 87, 52, 90, 90, 56, 58, 77, 98, 96, 93, 92, 78, 99, 64, 90, 76, 88, 78, 64, 77, 77, 50, 71, 66, 99, 74, 62, 90, 54, 60, 56, 98, 56, 86, 98, 88, 75, 70, 81, 77, 100, 65, 81, 92, 64, 53, 75, 88, 75, 85, 55, 92, 95, 79, 57, 98, 96, 53, 61, 62, 83, 73, 88, 61, 78, 62, 86, 88, 89, 74, 80, 61, 93, 66, 94, 50, 85, 58, 83, 57, 54, 59, 89, 63, 85, 78, 74, 84, 58, 76, 50, 57, 98, 50, 59, 84, 85, 64, 69, 58, 79, 75, 64, 91, 88, 73, 79, 66, 85, 55, 72, 77, 58, 94, 71, 99, 84, 74, 64, 62, 74, 56, 78, 58, 80, 76, 52, 79, 94, 90, 68, 52, 77, 67, 64, 71, 95, 96, 93, 69, 85, 90, 64, 92, 83, 56, 54, 74, 55, 91, 85, 62, 94, 97, 66, 87, 83, 76, 76, 66, 90, 80, 86, 60, 71, 92, 59, 92, 73, 80, 86, 50, 85, 61, 81, 76, 69, 86, 93, 81, 100, 81, 88, 99, 91, 99, 71, 53, 90, 67, 96, 64, 68, 58, 55, 93, 79, 60, 100, 50, 51, 50, 99, 54, 82, 51, 98, 66, 63, 70, 94, 67, 84, 66, 96, 81, 61, 85, 56, 90, 94, 98, 81, 80, 86, 75, 51, 91, 85, 95, 81, 60, 56, 51, 85, 74, 89, 78, 92, 61, 73, 51, 88, 89, 74, 51, 86, 72, 58, 61, 97, 51, 52, 78, 69, 53, 61, 97, 97, 88, 64, 76, 77, 60, 74, 86, 81, 68, 81, 93, 56, 96, 65, 60, 77, 71, 86, 60, 74, 52, 77, 100, 84, 91, 85, 90, 99, 63, 57, 74, 64, 56, 87, 70, 53, 53, 53, 57, 74, 84, 100, 65, 53, 91, 95, 84, 64, 99, 95, 92, 81, 80, 96, 77, 98, 56, 53, 51, 62, 87, 91, 91, 83, 62, 89, 51, 94, 72, 92, 96, 63, 78, 89, 88, 69, 65, 62, 75, 89, 82, 87, 68, 68, 66, 51, 96, 50, 90, 63, 78, 90, 90, 82, 67, 97, 96, 55, 58, 88, 54, 70, 53, 80, 57, 100, 54, 71, 61, 76, 96, 70, 82, 78, 72, 50, 60, 70, 90, 79, 86, 61, 70, 85, 77, 83, 84, 62, 53, 99, 75, 70, 55, 81, 65, 56, 95, 62, 93, 97, 80, 97, 95, 88, 100, 67, 60, 62, 87, 63, 60, 61, 96, 75, 82, 92, 73, 76, 83, 100, 54, 69, 58, 64, 93, 66, 95, 94, 55, 82, 88, 80, 57, 68, 65, 62, 69, 57, 88, 64, 96, 71, 78, 96, 62, 51, 58, 52, 92, 93, 83, 50, 86, 80, 58, 57, 72, 91, 51, 70, 73, 76, 59, 69, 78, 63, 97, 91, 73, 63, 93, 71, 99, 51, 62, 73, 73, 93, 83, 92, 90, 97, 71, 100, 90, 95, 85, 72, 79, 75, 59, 76, 54, 68, 66, 71, 67, 93, 95, 83, 58, 75, 74, 85, 61, 85, 73, 63, 81, 60, 89, 57, 90, 89, 56, 66, 92, 57, 75, 69, 64, 86, 56, 76, 80, 76, 53, 74, 63, 90, 97, 87, 73, 60, 84, 95, 91, 79, 53, 99, 60, 93, 71, 52, 88, 65, 54, 97, 90, 99, 88, 89, 62, 77, 64, 53, 86, 96, 100, 52, 92, 62, 84, 94, 71, 79, 99, 54, 54, 64, 80, 60, 83, 93, 78, 56, 76, 76, 67, 70, 67, 50, 64, 70, 59, 78, 84, 78, 52, 83, 82, 52, 63, 82, 80, 69, 92, 92, 99, 89, 84, 100, 96, 50, 51, 60, 94, 91, 76, 66, 64, 76, 53, 72, 92, 53, 78, 57, 90, 56, 74, 93, 70, 57, 66, 81, 92, 94, 64, 64, 61, 97, 89, 83, 93, 84, 80, 59, 85, 78, 87, 59, 80, 100, 51, 98, 89, 70, 81, 82, 71, 68, 76, 61, 97, 70, 60, 81, 86, 65, 83, 51, 61, 85, 58, 53, 72, 68, 100, 50, 65, 97, 94, 65, 97, 58, 73, 80, 71, 76, 100, 71, 77, 68, 68, 89, 68, 94, 71, 65, 94, 52, 61, 88, 59, 98, 50, 91, 74, 93, 87, 56, 64, 69, 80, 58, 72, 77, 69, 73, 58, 94, 84, 71, 69, 81, 99, 77, 99, 82, 93, 90, 73, 52, 94, 50, 68, 67, 69, 94, 75, 59, 94, 88, 90, 93, 72, 97, 99, 77, 56, 64, 74, 86, 58, 61, 53, 75, 97, 95, 88, 73, 79, 68, 69, 80, 80, 91, 63, 57, 97, 100, 78, 79, 80, 83, 84, 92, 53, 80, 83, 75, 95, 75, 74, 100, 53, 96, 86, 52, 56, 70, 73, 62, 73, 77, 58, 86, 70, 54, 57, 56, 52, 84, 73, 68, 85, 64, 50, 94, 69, 66, 61, 71, 54, 82, 75, 55, 79, 51, 63, 62, 68, 95, 77, 79, 71, 92, 59, 59, 65, 100, 54, 55, 96, 82, 98, 82, 71, 57, 99, 94, 51, 68, 80, 57, 69, 56, 90, 95, 92, 91, 51, 81, 72, 75, 88, 54, 72, 66, 99, 69, 64, 59, 64, 91, 78, 73, 70, 55, 56, 89, 65, 59, 50, 76, 60, 94, 61, 92, 74, 89, 54, 99, 76, 58, 58, 53, 60, 70, 99, 56, 61, 68, 68, 54, 86, 88, 70, 93, 90, 79, 96, 83, 54, 83, 100, 82, 67, 59, 51, 58, 88, 94, 74, 100, 99, 75, 100, 57, 69, 78, 70, 94, 93, 73, 69, 88, 76, 67, 78, 59, 90, 96, 55, 89, 59, 88, 100, 70, 92, 74, 87, 78, 70, 89, 93, 57, 76, 68, 72, 81, 82, 85, 85, 98, 75, 79, 99, 70, 60, 69, 98, 55, 79, 97, 79, 85, 100, 58, 54, 55, 72, 87, 54, 92, 80, 96, 71, 99, 70, 71, 75, 51, 98, 68, 86, 64, 85, 95, 98, 84, 58, 79, 89, 80, 73, 91, 58, 96, 65, 89, 77, 95, 82, 73, 66, 99, 88, 59, 55, 51, 69, 89, 98, 98, 90, 89, 56, 93, 67, 75, 68, 62, 71, 77, 72, 68, 50, 64, 86, 59, 94, 100, 57, 97, 78, 53, 77, 96, 67, 57, 84, 86, 79, 87, 75, 76, 52, 70, 58, 92, 57, 82, 88, 95, 51, 76, 68, 58, 72, 85, 84, 59, 77, 92, 98, 80, 82, 53]\n"
          ]
        },
        {
          "output_type": "stream",
          "name": "stderr",
          "text": [
            "/usr/local/lib/python3.7/dist-packages/matplotlib/cbook/__init__.py:1376: VisibleDeprecationWarning: Creating an ndarray from ragged nested sequences (which is a list-or-tuple of lists-or-tuples-or ndarrays with different lengths or shapes) is deprecated. If you meant to do this, you must specify 'dtype=object' when creating the ndarray.\n",
            "  X = np.atleast_1d(X.T if isinstance(X, np.ndarray) else np.asarray(X))\n"
          ]
        },
        {
          "output_type": "display_data",
          "data": {
            "text/plain": [
              "<Figure size 540x252 with 1 Axes>"
            ],
            "image/png": "[encoded data removed]"
          },
          "metadata": {
            "needs_background": "light"
          }
        }
      ]
    },
    {
      "cell_type": "markdown",
      "source": [
        "Findings in Part 5: Median income of females is more than median income of males. Also there is a high probability that mean income of females is greater than mean income of males"
      ],
      "metadata": {
        "id": "Zg0pX_9nH1qb"
      }
    },
    {
      "cell_type": "code",
      "source": [
        "data.sample(5)"
      ],
      "metadata": {
        "colab": {
          "base_uri": "https://localhost:8080/",
          "height": 357
        },
        "id": "CTZLv1Oi-AWI",
        "outputId": "259dbf7a-5463-48f8-898e-fce648b892d4"
      },
      "execution_count": null,
      "outputs": [
        {
          "output_type": "execute_result",
          "data": {
            "text/plain": [
              "       age     workclass  fnlwgt     education  education.num  \\\n",
              "24212   51       Private  233149    Assoc-acdm             12   \n",
              "6546    61     Local-gov  167670     Bachelors             13   \n",
              "10876   31  Self-emp-inc  455995  Some-college             10   \n",
              "1908    43       Private  194726   Prof-school             15   \n",
              "6296    20       Private  241951       HS-grad              9   \n",
              "\n",
              "              marital.status         occupation   relationship   race   sex  \\\n",
              "24212     Married-civ-spouse    Exec-managerial        Husband  White  Male   \n",
              "6546   Married-spouse-absent     Prof-specialty  Not-in-family  White  Male   \n",
              "10876          Never-married    Exec-managerial  Not-in-family  White  Male   \n",
              "1908      Married-civ-spouse     Prof-specialty        Husband  White  Male   \n",
              "6296           Never-married  Handlers-cleaners  Not-in-family  White  Male   \n",
              "\n",
              "       capital.gain  capital.loss  hours.per.week native.country income  \n",
              "24212             0             0              45  United-States   >50K  \n",
              "6546              0             0              40  United-States  <=50K  \n",
              "10876             0             0              65  United-States   >50K  \n",
              "1908          15024             0              55  United-States   >50K  \n",
              "6296              0             0              45  United-States  <=50K  "
            ],
            "text/html": [
              "\n",
              "  <div id=\"df-08c6cc5e-f1e8-4ee6-a318-693e9a1bbce2\">\n",
              "    <div class=\"colab-df-container\">\n",
              "      <div>\n",
              "<style scoped>\n",
              "    .dataframe tbody tr th:only-of-type {\n",
              "        vertical-align: middle;\n",
              "    }\n",
              "\n",
              "    .dataframe tbody tr th {\n",
              "        vertical-align: top;\n",
              "    }\n",
              "\n",
              "    .dataframe thead th {\n",
              "        text-align: right;\n",
              "    }\n",
              "</style>\n",
              "<table border=\"1\" class=\"dataframe\">\n",
              "  <thead>\n",
              "    <tr style=\"text-align: right;\">\n",
              "      <th></th>\n",
              "      <th>age</th>\n",
              "      <th>workclass</th>\n",
              "      <th>fnlwgt</th>\n",
              "      <th>education</th>\n",
              "      <th>education.num</th>\n",
              "      <th>marital.status</th>\n",
              "      <th>occupation</th>\n",
              "      <th>relationship</th>\n",
              "      <th>race</th>\n",
              "      <th>sex</th>\n",
              "      <th>capital.gain</th>\n",
              "      <th>capital.loss</th>\n",
              "      <th>hours.per.week</th>\n",
              "      <th>native.country</th>\n",
              "      <th>income</th>\n",
              "    </tr>\n",
              "  </thead>\n",
              "  <tbody>\n",
              "    <tr>\n",
              "      <th>24212</th>\n",
              "      <td>51</td>\n",
              "      <td>Private</td>\n",
              "      <td>233149</td>\n",
              "      <td>Assoc-acdm</td>\n",
              "      <td>12</td>\n",
              "      <td>Married-civ-spouse</td>\n",
              "      <td>Exec-managerial</td>\n",
              "      <td>Husband</td>\n",
              "      <td>White</td>\n",
              "      <td>Male</td>\n",
              "      <td>0</td>\n",
              "      <td>0</td>\n",
              "      <td>45</td>\n",
              "      <td>United-States</td>\n",
              "      <td>&gt;50K</td>\n",
              "    </tr>\n",
              "    <tr>\n",
              "      <th>6546</th>\n",
              "      <td>61</td>\n",
              "      <td>Local-gov</td>\n",
              "      <td>167670</td>\n",
              "      <td>Bachelors</td>\n",
              "      <td>13</td>\n",
              "      <td>Married-spouse-absent</td>\n",
              "      <td>Prof-specialty</td>\n",
              "      <td>Not-in-family</td>\n",
              "      <td>White</td>\n",
              "      <td>Male</td>\n",
              "      <td>0</td>\n",
              "      <td>0</td>\n",
              "      <td>40</td>\n",
              "      <td>United-States</td>\n",
              "      <td>&lt;=50K</td>\n",
              "    </tr>\n",
              "    <tr>\n",
              "      <th>10876</th>\n",
              "      <td>31</td>\n",
              "      <td>Self-emp-inc</td>\n",
              "      <td>455995</td>\n",
              "      <td>Some-college</td>\n",
              "      <td>10</td>\n",
              "      <td>Never-married</td>\n",
              "      <td>Exec-managerial</td>\n",
              "      <td>Not-in-family</td>\n",
              "      <td>White</td>\n",
              "      <td>Male</td>\n",
              "      <td>0</td>\n",
              "      <td>0</td>\n",
              "      <td>65</td>\n",
              "      <td>United-States</td>\n",
              "      <td>&gt;50K</td>\n",
              "    </tr>\n",
              "    <tr>\n",
              "      <th>1908</th>\n",
              "      <td>43</td>\n",
              "      <td>Private</td>\n",
              "      <td>194726</td>\n",
              "      <td>Prof-school</td>\n",
              "      <td>15</td>\n",
              "      <td>Married-civ-spouse</td>\n",
              "      <td>Prof-specialty</td>\n",
              "      <td>Husband</td>\n",
              "      <td>White</td>\n",
              "      <td>Male</td>\n",
              "      <td>15024</td>\n",
              "      <td>0</td>\n",
              "      <td>55</td>\n",
              "      <td>United-States</td>\n",
              "      <td>&gt;50K</td>\n",
              "    </tr>\n",
              "    <tr>\n",
              "      <th>6296</th>\n",
              "      <td>20</td>\n",
              "      <td>Private</td>\n",
              "      <td>241951</td>\n",
              "      <td>HS-grad</td>\n",
              "      <td>9</td>\n",
              "      <td>Never-married</td>\n",
              "      <td>Handlers-cleaners</td>\n",
              "      <td>Not-in-family</td>\n",
              "      <td>White</td>\n",
              "      <td>Male</td>\n",
              "      <td>0</td>\n",
              "      <td>0</td>\n",
              "      <td>45</td>\n",
              "      <td>United-States</td>\n",
              "      <td>&lt;=50K</td>\n",
              "    </tr>\n",
              "  </tbody>\n",
              "</table>\n",
              "</div>\n",
              "      <button class=\"colab-df-convert\" onclick=\"convertToInteractive('df-08c6cc5e-f1e8-4ee6-a318-693e9a1bbce2')\"\n",
              "              title=\"Convert this dataframe to an interactive table.\"\n",
              "              style=\"display:none;\">\n",
              "        \n",
              "  <svg xmlns=\"http://www.w3.org/2000/svg\" height=\"24px\"viewBox=\"0 0 24 24\"\n",
              "       width=\"24px\">\n",
              "    <path d=\"M0 0h24v24H0V0z\" fill=\"none\"/>\n",
              "    <path d=\"M18.56 5.44l.94 2.06.94-2.06 2.06-.94-2.06-.94-.94-2.06-.94 2.06-2.06.94zm-11 1L8.5 8.5l.94-2.06 2.06-.94-2.06-.94L8.5 2.5l-.94 2.06-2.06.94zm10 10l.94 2.06.94-2.06 2.06-.94-2.06-.94-.94-2.06-.94 2.06-2.06.94z\"/><path d=\"M17.41 7.96l-1.37-1.37c-.4-.4-.92-.59-1.43-.59-.52 0-1.04.2-1.43.59L10.3 9.45l-7.72 7.72c-.78.78-.78 2.05 0 2.83L4 21.41c.39.39.9.59 1.41.59.51 0 1.02-.2 1.41-.59l7.78-7.78 2.81-2.81c.8-.78.8-2.07 0-2.86zM5.41 20L4 18.59l7.72-7.72 1.47 1.35L5.41 20z\"/>\n",
              "  </svg>\n",
              "      </button>\n",
              "      \n",
              "  <style>\n",
              "    .colab-df-container {\n",
              "      display:flex;\n",
              "      flex-wrap:wrap;\n",
              "      gap: 12px;\n",
              "    }\n",
              "\n",
              "    .colab-df-convert {\n",
              "      background-color: #E8F0FE;\n",
              "      border: none;\n",
              "      border-radius: 50%;\n",
              "      cursor: pointer;\n",
              "      display: none;\n",
              "      fill: #1967D2;\n",
              "      height: 32px;\n",
              "      padding: 0 0 0 0;\n",
              "      width: 32px;\n",
              "    }\n",
              "\n",
              "    .colab-df-convert:hover {\n",
              "      background-color: #E2EBFA;\n",
              "      box-shadow: 0px 1px 2px rgba(60, 64, 67, 0.3), 0px 1px 3px 1px rgba(60, 64, 67, 0.15);\n",
              "      fill: #174EA6;\n",
              "    }\n",
              "\n",
              "    [theme=dark] .colab-df-convert {\n",
              "      background-color: #3B4455;\n",
              "      fill: #D2E3FC;\n",
              "    }\n",
              "\n",
              "    [theme=dark] .colab-df-convert:hover {\n",
              "      background-color: #434B5C;\n",
              "      box-shadow: 0px 1px 3px 1px rgba(0, 0, 0, 0.15);\n",
              "      filter: drop-shadow(0px 1px 2px rgba(0, 0, 0, 0.3));\n",
              "      fill: #FFFFFF;\n",
              "    }\n",
              "  </style>\n",
              "\n",
              "      <script>\n",
              "        const buttonEl =\n",
              "          document.querySelector('#df-08c6cc5e-f1e8-4ee6-a318-693e9a1bbce2 button.colab-df-convert');\n",
              "        buttonEl.style.display =\n",
              "          google.colab.kernel.accessAllowed ? 'block' : 'none';\n",
              "\n",
              "        async function convertToInteractive(key) {\n",
              "          const element = document.querySelector('#df-08c6cc5e-f1e8-4ee6-a318-693e9a1bbce2');\n",
              "          const dataTable =\n",
              "            await google.colab.kernel.invokeFunction('convertToInteractive',\n",
              "                                                     [key], {});\n",
              "          if (!dataTable) return;\n",
              "\n",
              "          const docLinkHtml = 'Like what you see? Visit the ' +\n",
              "            '<a target=\"_blank\" href=https://colab.research.google.com/notebooks/data_table.ipynb>data table notebook</a>'\n",
              "            + ' to learn more about interactive tables.';\n",
              "          element.innerHTML = '';\n",
              "          dataTable['output_type'] = 'display_data';\n",
              "          await google.colab.output.renderOutput(dataTable, element);\n",
              "          const docLink = document.createElement('div');\n",
              "          docLink.innerHTML = docLinkHtml;\n",
              "          element.appendChild(docLink);\n",
              "        }\n",
              "      </script>\n",
              "    </div>\n",
              "  </div>\n",
              "  "
            ]
          },
          "metadata": {},
          "execution_count": 60
        }
      ]
    },
    {
      "cell_type": "markdown",
      "source": [
        "Part 6 Visualise and compare the highest salary offered to a person who works for federal government, private and state government"
      ],
      "metadata": {
        "id": "DjuFIpYgR-Hm"
      }
    },
    {
      "cell_type": "code",
      "source": [
        "# s = data.groupby([\"workclass\",\"\"])\n",
        "workclass=data['workclass']\n",
        "income=data['income']\n",
        "l1=[]\n",
        "l2=[]\n",
        "l3=[]\n",
        "for i in range(len(gender)):\n",
        "  if workclass[i]=='Private':\n",
        "    l1.append(income[i])\n",
        "  elif workclass[i]=='Federal-gov':\n",
        "    l2.append(income[i])\n",
        "  elif workclass[i]=='State-gov':\n",
        "    l3.append(income[i])\n",
        "\n",
        "# print(l1)\n",
        "# print(l2)\n",
        "a=l1.count('>=50K')+l1.count('>50K')\n",
        "b=l2.count('>=50K')+l2.count('>50K')\n",
        "c=l3.count('>=50K')+l3.count('>50K')\n",
        "print(max(a,b,c))\n",
        "\n",
        "l=[a,b,c]\n",
        "values=['Private', 'Federal-gov','State-gov']\n",
        "plt.bar(values,l, color ='maroon',width = 0.4)"
      ],
      "metadata": {
        "colab": {
          "base_uri": "https://localhost:8080/",
          "height": 296
        },
        "id": "YkcRKamJNKJ0",
        "outputId": "fcf6095d-00f8-4939-c073-be0e5de33d27"
      },
      "execution_count": null,
      "outputs": [
        {
          "output_type": "stream",
          "name": "stdout",
          "text": [
            "4012\n"
          ]
        },
        {
          "output_type": "execute_result",
          "data": {
            "text/plain": [
              "<BarContainer object of 3 artists>"
            ]
          },
          "metadata": {},
          "execution_count": 71
        },
        {
          "output_type": "display_data",
          "data": {
            "text/plain": [
              "<Figure size 540x252 with 1 Axes>"
            ],
            "image/png": "[encoded data removed]"
          },
          "metadata": {
            "needs_background": "light"
          }
        }
      ]
    }
  ]
}